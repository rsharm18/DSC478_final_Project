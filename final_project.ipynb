{
 "cells": [
  {
   "cell_type": "code",
   "execution_count": 41,
   "metadata": {},
   "outputs": [],
   "source": [
    "import pandas as pd\n",
    "import numpy as np\n",
    "import matplotlib.pyplot as plt\n",
    "\n",
    "from Util import *\n",
    "%matplotlib inline"
   ]
  },
  {
   "cell_type": "code",
   "execution_count": 42,
   "metadata": {},
   "outputs": [],
   "source": [
    "user_rating_data = pd.read_table('data/u.data.txt',na_values=['?'],delimiter=\"\\t\",header=None )\n",
    "genre_data = pd.read_table('data/u.genre.txt',na_values=['?'],delimiter=\"\\t\",header=None)\n",
    "info_data = pd.read_table('data/u.info.txt',na_values=['?'],delimiter=\"\\t\",header=None)\n",
    "item_data = pd.read_table('data/u.item.txt',na_values=['?'],delimiter=\"\\t\",header=None,encoding='latin-1')\n",
    "occupation_data = pd.read_table('data/u.occupation.txt',na_values=['?'],delimiter=\"\\t\",header=None)\n",
    "user_data = pd.read_table('data/u.user.txt',na_values=['?'],delimiter=\"\\t\",header=None)"
   ]
  },
  {
   "cell_type": "code",
   "execution_count": 43,
   "metadata": {},
   "outputs": [
    {
     "data": {
      "text/html": [
       "<div>\n",
       "<style scoped>\n",
       "    .dataframe tbody tr th:only-of-type {\n",
       "        vertical-align: middle;\n",
       "    }\n",
       "\n",
       "    .dataframe tbody tr th {\n",
       "        vertical-align: top;\n",
       "    }\n",
       "\n",
       "    .dataframe thead th {\n",
       "        text-align: right;\n",
       "    }\n",
       "</style>\n",
       "<table border=\"1\" class=\"dataframe\">\n",
       "  <thead>\n",
       "    <tr style=\"text-align: right;\">\n",
       "      <th></th>\n",
       "      <th>user_id</th>\n",
       "      <th>item_id</th>\n",
       "      <th>rating</th>\n",
       "      <th>timestamp</th>\n",
       "    </tr>\n",
       "  </thead>\n",
       "  <tbody>\n",
       "    <tr>\n",
       "      <th>0</th>\n",
       "      <td>196</td>\n",
       "      <td>242</td>\n",
       "      <td>3</td>\n",
       "      <td>881250949</td>\n",
       "    </tr>\n",
       "    <tr>\n",
       "      <th>1</th>\n",
       "      <td>186</td>\n",
       "      <td>302</td>\n",
       "      <td>3</td>\n",
       "      <td>891717742</td>\n",
       "    </tr>\n",
       "    <tr>\n",
       "      <th>2</th>\n",
       "      <td>22</td>\n",
       "      <td>377</td>\n",
       "      <td>1</td>\n",
       "      <td>878887116</td>\n",
       "    </tr>\n",
       "    <tr>\n",
       "      <th>3</th>\n",
       "      <td>244</td>\n",
       "      <td>51</td>\n",
       "      <td>2</td>\n",
       "      <td>880606923</td>\n",
       "    </tr>\n",
       "    <tr>\n",
       "      <th>4</th>\n",
       "      <td>166</td>\n",
       "      <td>346</td>\n",
       "      <td>1</td>\n",
       "      <td>886397596</td>\n",
       "    </tr>\n",
       "  </tbody>\n",
       "</table>\n",
       "</div>"
      ],
      "text/plain": [
       "   user_id  item_id  rating  timestamp\n",
       "0      196      242       3  881250949\n",
       "1      186      302       3  891717742\n",
       "2       22      377       1  878887116\n",
       "3      244       51       2  880606923\n",
       "4      166      346       1  886397596"
      ]
     },
     "execution_count": 43,
     "metadata": {},
     "output_type": "execute_result"
    }
   ],
   "source": [
    "user_rating_data.columns = ['user_id','item_id','rating','timestamp']\n",
    "user_rating_data.head()"
   ]
  },
  {
   "cell_type": "code",
   "execution_count": 44,
   "metadata": {},
   "outputs": [
    {
     "data": {
      "text/html": [
       "<div>\n",
       "<style scoped>\n",
       "    .dataframe tbody tr th:only-of-type {\n",
       "        vertical-align: middle;\n",
       "    }\n",
       "\n",
       "    .dataframe tbody tr th {\n",
       "        vertical-align: top;\n",
       "    }\n",
       "\n",
       "    .dataframe thead th {\n",
       "        text-align: right;\n",
       "    }\n",
       "</style>\n",
       "<table border=\"1\" class=\"dataframe\">\n",
       "  <thead>\n",
       "    <tr style=\"text-align: right;\">\n",
       "      <th></th>\n",
       "      <th>Genre</th>\n",
       "      <th>Id</th>\n",
       "    </tr>\n",
       "  </thead>\n",
       "  <tbody>\n",
       "    <tr>\n",
       "      <th>0</th>\n",
       "      <td>unknown</td>\n",
       "      <td>0</td>\n",
       "    </tr>\n",
       "    <tr>\n",
       "      <th>1</th>\n",
       "      <td>Action</td>\n",
       "      <td>1</td>\n",
       "    </tr>\n",
       "    <tr>\n",
       "      <th>2</th>\n",
       "      <td>Adventure</td>\n",
       "      <td>2</td>\n",
       "    </tr>\n",
       "    <tr>\n",
       "      <th>3</th>\n",
       "      <td>Animation</td>\n",
       "      <td>3</td>\n",
       "    </tr>\n",
       "    <tr>\n",
       "      <th>4</th>\n",
       "      <td>Children's</td>\n",
       "      <td>4</td>\n",
       "    </tr>\n",
       "  </tbody>\n",
       "</table>\n",
       "</div>"
      ],
      "text/plain": [
       "        Genre  Id\n",
       "0     unknown   0\n",
       "1      Action   1\n",
       "2   Adventure   2\n",
       "3   Animation   3\n",
       "4  Children's   4"
      ]
     },
     "execution_count": 44,
     "metadata": {},
     "output_type": "execute_result"
    }
   ],
   "source": [
    "genre_data.columns=['Genre','Id']\n",
    "genre_data.head()"
   ]
  },
  {
   "cell_type": "code",
   "execution_count": 45,
   "metadata": {},
   "outputs": [
    {
     "data": {
      "text/html": [
       "<div>\n",
       "<style scoped>\n",
       "    .dataframe tbody tr th:only-of-type {\n",
       "        vertical-align: middle;\n",
       "    }\n",
       "\n",
       "    .dataframe tbody tr th {\n",
       "        vertical-align: top;\n",
       "    }\n",
       "\n",
       "    .dataframe thead th {\n",
       "        text-align: right;\n",
       "    }\n",
       "</style>\n",
       "<table border=\"1\" class=\"dataframe\">\n",
       "  <thead>\n",
       "    <tr style=\"text-align: right;\">\n",
       "      <th></th>\n",
       "      <th>0</th>\n",
       "    </tr>\n",
       "  </thead>\n",
       "  <tbody>\n",
       "    <tr>\n",
       "      <th>0</th>\n",
       "      <td>943 users</td>\n",
       "    </tr>\n",
       "    <tr>\n",
       "      <th>1</th>\n",
       "      <td>1682 items</td>\n",
       "    </tr>\n",
       "    <tr>\n",
       "      <th>2</th>\n",
       "      <td>100000 ratings</td>\n",
       "    </tr>\n",
       "  </tbody>\n",
       "</table>\n",
       "</div>"
      ],
      "text/plain": [
       "                0\n",
       "0       943 users\n",
       "1      1682 items\n",
       "2  100000 ratings"
      ]
     },
     "execution_count": 45,
     "metadata": {},
     "output_type": "execute_result"
    }
   ],
   "source": [
    "info_data"
   ]
  },
  {
   "cell_type": "code",
   "execution_count": 46,
   "metadata": {},
   "outputs": [
    {
     "data": {
      "text/html": [
       "<div>\n",
       "<style scoped>\n",
       "    .dataframe tbody tr th:only-of-type {\n",
       "        vertical-align: middle;\n",
       "    }\n",
       "\n",
       "    .dataframe tbody tr th {\n",
       "        vertical-align: top;\n",
       "    }\n",
       "\n",
       "    .dataframe thead th {\n",
       "        text-align: right;\n",
       "    }\n",
       "</style>\n",
       "<table border=\"1\" class=\"dataframe\">\n",
       "  <thead>\n",
       "    <tr style=\"text-align: right;\">\n",
       "      <th></th>\n",
       "      <th>movie_id</th>\n",
       "      <th>movie_title</th>\n",
       "      <th>release_date</th>\n",
       "      <th>video_release_date</th>\n",
       "      <th>IMDb_URL</th>\n",
       "      <th>unknown</th>\n",
       "      <th>Action</th>\n",
       "      <th>Adventure</th>\n",
       "      <th>Animation</th>\n",
       "      <th>Children's</th>\n",
       "      <th>...</th>\n",
       "      <th>Fantasy</th>\n",
       "      <th>Film-Noir</th>\n",
       "      <th>Horror</th>\n",
       "      <th>Musical</th>\n",
       "      <th>Mystery</th>\n",
       "      <th>Romance</th>\n",
       "      <th>Sci-Fi</th>\n",
       "      <th>Thriller</th>\n",
       "      <th>War</th>\n",
       "      <th>Western</th>\n",
       "    </tr>\n",
       "  </thead>\n",
       "  <tbody>\n",
       "    <tr>\n",
       "      <th>0</th>\n",
       "      <td>1</td>\n",
       "      <td>Toy Story (1995)</td>\n",
       "      <td>01-Jan-1995</td>\n",
       "      <td>NaN</td>\n",
       "      <td>http://us.imdb.com/M/title-exact?Toy%20Story%2...</td>\n",
       "      <td>0</td>\n",
       "      <td>0</td>\n",
       "      <td>0</td>\n",
       "      <td>1</td>\n",
       "      <td>1</td>\n",
       "      <td>...</td>\n",
       "      <td>0</td>\n",
       "      <td>0</td>\n",
       "      <td>0</td>\n",
       "      <td>0</td>\n",
       "      <td>0</td>\n",
       "      <td>0</td>\n",
       "      <td>0</td>\n",
       "      <td>0</td>\n",
       "      <td>0</td>\n",
       "      <td>0</td>\n",
       "    </tr>\n",
       "    <tr>\n",
       "      <th>1</th>\n",
       "      <td>2</td>\n",
       "      <td>GoldenEye (1995)</td>\n",
       "      <td>01-Jan-1995</td>\n",
       "      <td>NaN</td>\n",
       "      <td>http://us.imdb.com/M/title-exact?GoldenEye%20(...</td>\n",
       "      <td>0</td>\n",
       "      <td>1</td>\n",
       "      <td>1</td>\n",
       "      <td>0</td>\n",
       "      <td>0</td>\n",
       "      <td>...</td>\n",
       "      <td>0</td>\n",
       "      <td>0</td>\n",
       "      <td>0</td>\n",
       "      <td>0</td>\n",
       "      <td>0</td>\n",
       "      <td>0</td>\n",
       "      <td>0</td>\n",
       "      <td>1</td>\n",
       "      <td>0</td>\n",
       "      <td>0</td>\n",
       "    </tr>\n",
       "    <tr>\n",
       "      <th>2</th>\n",
       "      <td>3</td>\n",
       "      <td>Four Rooms (1995)</td>\n",
       "      <td>01-Jan-1995</td>\n",
       "      <td>NaN</td>\n",
       "      <td>http://us.imdb.com/M/title-exact?Four%20Rooms%...</td>\n",
       "      <td>0</td>\n",
       "      <td>0</td>\n",
       "      <td>0</td>\n",
       "      <td>0</td>\n",
       "      <td>0</td>\n",
       "      <td>...</td>\n",
       "      <td>0</td>\n",
       "      <td>0</td>\n",
       "      <td>0</td>\n",
       "      <td>0</td>\n",
       "      <td>0</td>\n",
       "      <td>0</td>\n",
       "      <td>0</td>\n",
       "      <td>1</td>\n",
       "      <td>0</td>\n",
       "      <td>0</td>\n",
       "    </tr>\n",
       "    <tr>\n",
       "      <th>3</th>\n",
       "      <td>4</td>\n",
       "      <td>Get Shorty (1995)</td>\n",
       "      <td>01-Jan-1995</td>\n",
       "      <td>NaN</td>\n",
       "      <td>http://us.imdb.com/M/title-exact?Get%20Shorty%...</td>\n",
       "      <td>0</td>\n",
       "      <td>1</td>\n",
       "      <td>0</td>\n",
       "      <td>0</td>\n",
       "      <td>0</td>\n",
       "      <td>...</td>\n",
       "      <td>0</td>\n",
       "      <td>0</td>\n",
       "      <td>0</td>\n",
       "      <td>0</td>\n",
       "      <td>0</td>\n",
       "      <td>0</td>\n",
       "      <td>0</td>\n",
       "      <td>0</td>\n",
       "      <td>0</td>\n",
       "      <td>0</td>\n",
       "    </tr>\n",
       "    <tr>\n",
       "      <th>4</th>\n",
       "      <td>5</td>\n",
       "      <td>Copycat (1995)</td>\n",
       "      <td>01-Jan-1995</td>\n",
       "      <td>NaN</td>\n",
       "      <td>http://us.imdb.com/M/title-exact?Copycat%20(1995)</td>\n",
       "      <td>0</td>\n",
       "      <td>0</td>\n",
       "      <td>0</td>\n",
       "      <td>0</td>\n",
       "      <td>0</td>\n",
       "      <td>...</td>\n",
       "      <td>0</td>\n",
       "      <td>0</td>\n",
       "      <td>0</td>\n",
       "      <td>0</td>\n",
       "      <td>0</td>\n",
       "      <td>0</td>\n",
       "      <td>0</td>\n",
       "      <td>1</td>\n",
       "      <td>0</td>\n",
       "      <td>0</td>\n",
       "    </tr>\n",
       "  </tbody>\n",
       "</table>\n",
       "<p>5 rows × 24 columns</p>\n",
       "</div>"
      ],
      "text/plain": [
       "   movie_id        movie_title release_date  video_release_date  \\\n",
       "0         1   Toy Story (1995)  01-Jan-1995                 NaN   \n",
       "1         2   GoldenEye (1995)  01-Jan-1995                 NaN   \n",
       "2         3  Four Rooms (1995)  01-Jan-1995                 NaN   \n",
       "3         4  Get Shorty (1995)  01-Jan-1995                 NaN   \n",
       "4         5     Copycat (1995)  01-Jan-1995                 NaN   \n",
       "\n",
       "                                            IMDb_URL  unknown  Action  \\\n",
       "0  http://us.imdb.com/M/title-exact?Toy%20Story%2...        0       0   \n",
       "1  http://us.imdb.com/M/title-exact?GoldenEye%20(...        0       1   \n",
       "2  http://us.imdb.com/M/title-exact?Four%20Rooms%...        0       0   \n",
       "3  http://us.imdb.com/M/title-exact?Get%20Shorty%...        0       1   \n",
       "4  http://us.imdb.com/M/title-exact?Copycat%20(1995)        0       0   \n",
       "\n",
       "   Adventure  Animation  Children's  ...  Fantasy  Film-Noir  Horror  Musical  \\\n",
       "0          0          1           1  ...        0          0       0        0   \n",
       "1          1          0           0  ...        0          0       0        0   \n",
       "2          0          0           0  ...        0          0       0        0   \n",
       "3          0          0           0  ...        0          0       0        0   \n",
       "4          0          0           0  ...        0          0       0        0   \n",
       "\n",
       "   Mystery  Romance  Sci-Fi  Thriller  War  Western  \n",
       "0        0        0       0         0    0        0  \n",
       "1        0        0       0         1    0        0  \n",
       "2        0        0       0         1    0        0  \n",
       "3        0        0       0         0    0        0  \n",
       "4        0        0       0         1    0        0  \n",
       "\n",
       "[5 rows x 24 columns]"
      ]
     },
     "execution_count": 46,
     "metadata": {},
     "output_type": "execute_result"
    }
   ],
   "source": [
    "item_data.columns = ['movie_id','movie_title','release_date','video_release_date','IMDb_URL','unknown','Action','Adventure','Animation','Children\\'s','Comedy','Crime','Documentary','Drama','Fantasy','Film-Noir','Horror','Musical','Mystery','Romance','Sci-Fi','Thriller','War','Western']\n",
    "item_data.head()"
   ]
  },
  {
   "cell_type": "code",
   "execution_count": 47,
   "metadata": {},
   "outputs": [
    {
     "data": {
      "text/html": [
       "<div>\n",
       "<style scoped>\n",
       "    .dataframe tbody tr th:only-of-type {\n",
       "        vertical-align: middle;\n",
       "    }\n",
       "\n",
       "    .dataframe tbody tr th {\n",
       "        vertical-align: top;\n",
       "    }\n",
       "\n",
       "    .dataframe thead th {\n",
       "        text-align: right;\n",
       "    }\n",
       "</style>\n",
       "<table border=\"1\" class=\"dataframe\">\n",
       "  <thead>\n",
       "    <tr style=\"text-align: right;\">\n",
       "      <th></th>\n",
       "      <th>movie_id</th>\n",
       "      <th>movie_title</th>\n",
       "    </tr>\n",
       "  </thead>\n",
       "  <tbody>\n",
       "    <tr>\n",
       "      <th>0</th>\n",
       "      <td>1</td>\n",
       "      <td>Toy Story (1995)</td>\n",
       "    </tr>\n",
       "    <tr>\n",
       "      <th>1</th>\n",
       "      <td>2</td>\n",
       "      <td>GoldenEye (1995)</td>\n",
       "    </tr>\n",
       "    <tr>\n",
       "      <th>2</th>\n",
       "      <td>3</td>\n",
       "      <td>Four Rooms (1995)</td>\n",
       "    </tr>\n",
       "    <tr>\n",
       "      <th>3</th>\n",
       "      <td>4</td>\n",
       "      <td>Get Shorty (1995)</td>\n",
       "    </tr>\n",
       "    <tr>\n",
       "      <th>4</th>\n",
       "      <td>5</td>\n",
       "      <td>Copycat (1995)</td>\n",
       "    </tr>\n",
       "  </tbody>\n",
       "</table>\n",
       "</div>"
      ],
      "text/plain": [
       "   movie_id        movie_title\n",
       "0         1   Toy Story (1995)\n",
       "1         2   GoldenEye (1995)\n",
       "2         3  Four Rooms (1995)\n",
       "3         4  Get Shorty (1995)\n",
       "4         5     Copycat (1995)"
      ]
     },
     "execution_count": 47,
     "metadata": {},
     "output_type": "execute_result"
    }
   ],
   "source": [
    "movie_data = item_data[['movie_id','movie_title']]\n",
    "movie_data.head()"
   ]
  },
  {
   "cell_type": "code",
   "execution_count": 48,
   "metadata": {},
   "outputs": [
    {
     "data": {
      "text/html": [
       "<div>\n",
       "<style scoped>\n",
       "    .dataframe tbody tr th:only-of-type {\n",
       "        vertical-align: middle;\n",
       "    }\n",
       "\n",
       "    .dataframe tbody tr th {\n",
       "        vertical-align: top;\n",
       "    }\n",
       "\n",
       "    .dataframe thead th {\n",
       "        text-align: right;\n",
       "    }\n",
       "</style>\n",
       "<table border=\"1\" class=\"dataframe\">\n",
       "  <thead>\n",
       "    <tr style=\"text-align: right;\">\n",
       "      <th></th>\n",
       "      <th>0</th>\n",
       "    </tr>\n",
       "  </thead>\n",
       "  <tbody>\n",
       "    <tr>\n",
       "      <th>0</th>\n",
       "      <td>administrator</td>\n",
       "    </tr>\n",
       "    <tr>\n",
       "      <th>1</th>\n",
       "      <td>artist</td>\n",
       "    </tr>\n",
       "    <tr>\n",
       "      <th>2</th>\n",
       "      <td>doctor</td>\n",
       "    </tr>\n",
       "    <tr>\n",
       "      <th>3</th>\n",
       "      <td>educator</td>\n",
       "    </tr>\n",
       "    <tr>\n",
       "      <th>4</th>\n",
       "      <td>engineer</td>\n",
       "    </tr>\n",
       "    <tr>\n",
       "      <th>5</th>\n",
       "      <td>entertainment</td>\n",
       "    </tr>\n",
       "    <tr>\n",
       "      <th>6</th>\n",
       "      <td>executive</td>\n",
       "    </tr>\n",
       "    <tr>\n",
       "      <th>7</th>\n",
       "      <td>healthcare</td>\n",
       "    </tr>\n",
       "    <tr>\n",
       "      <th>8</th>\n",
       "      <td>homemaker</td>\n",
       "    </tr>\n",
       "    <tr>\n",
       "      <th>9</th>\n",
       "      <td>lawyer</td>\n",
       "    </tr>\n",
       "    <tr>\n",
       "      <th>10</th>\n",
       "      <td>librarian</td>\n",
       "    </tr>\n",
       "    <tr>\n",
       "      <th>11</th>\n",
       "      <td>marketing</td>\n",
       "    </tr>\n",
       "    <tr>\n",
       "      <th>12</th>\n",
       "      <td>none</td>\n",
       "    </tr>\n",
       "    <tr>\n",
       "      <th>13</th>\n",
       "      <td>other</td>\n",
       "    </tr>\n",
       "    <tr>\n",
       "      <th>14</th>\n",
       "      <td>programmer</td>\n",
       "    </tr>\n",
       "    <tr>\n",
       "      <th>15</th>\n",
       "      <td>retired</td>\n",
       "    </tr>\n",
       "    <tr>\n",
       "      <th>16</th>\n",
       "      <td>salesman</td>\n",
       "    </tr>\n",
       "    <tr>\n",
       "      <th>17</th>\n",
       "      <td>scientist</td>\n",
       "    </tr>\n",
       "    <tr>\n",
       "      <th>18</th>\n",
       "      <td>student</td>\n",
       "    </tr>\n",
       "    <tr>\n",
       "      <th>19</th>\n",
       "      <td>technician</td>\n",
       "    </tr>\n",
       "    <tr>\n",
       "      <th>20</th>\n",
       "      <td>writer</td>\n",
       "    </tr>\n",
       "  </tbody>\n",
       "</table>\n",
       "</div>"
      ],
      "text/plain": [
       "                0\n",
       "0   administrator\n",
       "1          artist\n",
       "2          doctor\n",
       "3        educator\n",
       "4        engineer\n",
       "5   entertainment\n",
       "6       executive\n",
       "7      healthcare\n",
       "8       homemaker\n",
       "9          lawyer\n",
       "10      librarian\n",
       "11      marketing\n",
       "12           none\n",
       "13          other\n",
       "14     programmer\n",
       "15        retired\n",
       "16       salesman\n",
       "17      scientist\n",
       "18        student\n",
       "19     technician\n",
       "20         writer"
      ]
     },
     "execution_count": 48,
     "metadata": {},
     "output_type": "execute_result"
    }
   ],
   "source": [
    "occupation_data"
   ]
  },
  {
   "cell_type": "code",
   "execution_count": 49,
   "metadata": {},
   "outputs": [
    {
     "data": {
      "text/html": [
       "<div>\n",
       "<style scoped>\n",
       "    .dataframe tbody tr th:only-of-type {\n",
       "        vertical-align: middle;\n",
       "    }\n",
       "\n",
       "    .dataframe tbody tr th {\n",
       "        vertical-align: top;\n",
       "    }\n",
       "\n",
       "    .dataframe thead th {\n",
       "        text-align: right;\n",
       "    }\n",
       "</style>\n",
       "<table border=\"1\" class=\"dataframe\">\n",
       "  <thead>\n",
       "    <tr style=\"text-align: right;\">\n",
       "      <th></th>\n",
       "      <th>user_id</th>\n",
       "      <th>age</th>\n",
       "      <th>gender</th>\n",
       "      <th>occupation</th>\n",
       "      <th>zip code</th>\n",
       "    </tr>\n",
       "  </thead>\n",
       "  <tbody>\n",
       "    <tr>\n",
       "      <th>0</th>\n",
       "      <td>1</td>\n",
       "      <td>24</td>\n",
       "      <td>M</td>\n",
       "      <td>technician</td>\n",
       "      <td>85711</td>\n",
       "    </tr>\n",
       "    <tr>\n",
       "      <th>1</th>\n",
       "      <td>2</td>\n",
       "      <td>53</td>\n",
       "      <td>F</td>\n",
       "      <td>other</td>\n",
       "      <td>94043</td>\n",
       "    </tr>\n",
       "    <tr>\n",
       "      <th>2</th>\n",
       "      <td>3</td>\n",
       "      <td>23</td>\n",
       "      <td>M</td>\n",
       "      <td>writer</td>\n",
       "      <td>32067</td>\n",
       "    </tr>\n",
       "    <tr>\n",
       "      <th>3</th>\n",
       "      <td>4</td>\n",
       "      <td>24</td>\n",
       "      <td>M</td>\n",
       "      <td>technician</td>\n",
       "      <td>43537</td>\n",
       "    </tr>\n",
       "    <tr>\n",
       "      <th>4</th>\n",
       "      <td>5</td>\n",
       "      <td>33</td>\n",
       "      <td>F</td>\n",
       "      <td>other</td>\n",
       "      <td>15213</td>\n",
       "    </tr>\n",
       "  </tbody>\n",
       "</table>\n",
       "</div>"
      ],
      "text/plain": [
       "   user_id  age gender  occupation zip code\n",
       "0        1   24      M  technician    85711\n",
       "1        2   53      F       other    94043\n",
       "2        3   23      M      writer    32067\n",
       "3        4   24      M  technician    43537\n",
       "4        5   33      F       other    15213"
      ]
     },
     "execution_count": 49,
     "metadata": {},
     "output_type": "execute_result"
    }
   ],
   "source": [
    "user_data.columns= ['user_id','age','gender','occupation','zip code']\n",
    "user_data.head()"
   ]
  },
  {
   "cell_type": "code",
   "execution_count": 50,
   "metadata": {},
   "outputs": [
    {
     "data": {
      "text/html": [
       "<div>\n",
       "<style scoped>\n",
       "    .dataframe tbody tr th:only-of-type {\n",
       "        vertical-align: middle;\n",
       "    }\n",
       "\n",
       "    .dataframe tbody tr th {\n",
       "        vertical-align: top;\n",
       "    }\n",
       "\n",
       "    .dataframe thead th {\n",
       "        text-align: right;\n",
       "    }\n",
       "</style>\n",
       "<table border=\"1\" class=\"dataframe\">\n",
       "  <thead>\n",
       "    <tr style=\"text-align: right;\">\n",
       "      <th></th>\n",
       "      <th>user_id</th>\n",
       "      <th>item_id</th>\n",
       "      <th>rating</th>\n",
       "      <th>timestamp</th>\n",
       "    </tr>\n",
       "  </thead>\n",
       "  <tbody>\n",
       "    <tr>\n",
       "      <th>0</th>\n",
       "      <td>196</td>\n",
       "      <td>242</td>\n",
       "      <td>3</td>\n",
       "      <td>881250949</td>\n",
       "    </tr>\n",
       "    <tr>\n",
       "      <th>1</th>\n",
       "      <td>186</td>\n",
       "      <td>302</td>\n",
       "      <td>3</td>\n",
       "      <td>891717742</td>\n",
       "    </tr>\n",
       "    <tr>\n",
       "      <th>2</th>\n",
       "      <td>22</td>\n",
       "      <td>377</td>\n",
       "      <td>1</td>\n",
       "      <td>878887116</td>\n",
       "    </tr>\n",
       "    <tr>\n",
       "      <th>3</th>\n",
       "      <td>244</td>\n",
       "      <td>51</td>\n",
       "      <td>2</td>\n",
       "      <td>880606923</td>\n",
       "    </tr>\n",
       "    <tr>\n",
       "      <th>4</th>\n",
       "      <td>166</td>\n",
       "      <td>346</td>\n",
       "      <td>1</td>\n",
       "      <td>886397596</td>\n",
       "    </tr>\n",
       "  </tbody>\n",
       "</table>\n",
       "</div>"
      ],
      "text/plain": [
       "   user_id  item_id  rating  timestamp\n",
       "0      196      242       3  881250949\n",
       "1      186      302       3  891717742\n",
       "2       22      377       1  878887116\n",
       "3      244       51       2  880606923\n",
       "4      166      346       1  886397596"
      ]
     },
     "execution_count": 50,
     "metadata": {},
     "output_type": "execute_result"
    }
   ],
   "source": [
    "user_rating_data.head()"
   ]
  },
  {
   "cell_type": "code",
   "execution_count": 51,
   "metadata": {},
   "outputs": [
    {
     "data": {
      "text/html": [
       "<div>\n",
       "<style scoped>\n",
       "    .dataframe tbody tr th:only-of-type {\n",
       "        vertical-align: middle;\n",
       "    }\n",
       "\n",
       "    .dataframe tbody tr th {\n",
       "        vertical-align: top;\n",
       "    }\n",
       "\n",
       "    .dataframe thead th {\n",
       "        text-align: right;\n",
       "    }\n",
       "</style>\n",
       "<table border=\"1\" class=\"dataframe\">\n",
       "  <thead>\n",
       "    <tr style=\"text-align: right;\">\n",
       "      <th></th>\n",
       "      <th>movie_id</th>\n",
       "      <th>movie_title</th>\n",
       "      <th>release_date</th>\n",
       "      <th>video_release_date</th>\n",
       "      <th>IMDb_URL</th>\n",
       "      <th>unknown</th>\n",
       "      <th>Action</th>\n",
       "      <th>Adventure</th>\n",
       "      <th>Animation</th>\n",
       "      <th>Children's</th>\n",
       "      <th>...</th>\n",
       "      <th>Fantasy</th>\n",
       "      <th>Film-Noir</th>\n",
       "      <th>Horror</th>\n",
       "      <th>Musical</th>\n",
       "      <th>Mystery</th>\n",
       "      <th>Romance</th>\n",
       "      <th>Sci-Fi</th>\n",
       "      <th>Thriller</th>\n",
       "      <th>War</th>\n",
       "      <th>Western</th>\n",
       "    </tr>\n",
       "  </thead>\n",
       "  <tbody>\n",
       "    <tr>\n",
       "      <th>0</th>\n",
       "      <td>1</td>\n",
       "      <td>Toy Story (1995)</td>\n",
       "      <td>01-Jan-1995</td>\n",
       "      <td>NaN</td>\n",
       "      <td>http://us.imdb.com/M/title-exact?Toy%20Story%2...</td>\n",
       "      <td>0</td>\n",
       "      <td>0</td>\n",
       "      <td>0</td>\n",
       "      <td>1</td>\n",
       "      <td>1</td>\n",
       "      <td>...</td>\n",
       "      <td>0</td>\n",
       "      <td>0</td>\n",
       "      <td>0</td>\n",
       "      <td>0</td>\n",
       "      <td>0</td>\n",
       "      <td>0</td>\n",
       "      <td>0</td>\n",
       "      <td>0</td>\n",
       "      <td>0</td>\n",
       "      <td>0</td>\n",
       "    </tr>\n",
       "    <tr>\n",
       "      <th>1</th>\n",
       "      <td>2</td>\n",
       "      <td>GoldenEye (1995)</td>\n",
       "      <td>01-Jan-1995</td>\n",
       "      <td>NaN</td>\n",
       "      <td>http://us.imdb.com/M/title-exact?GoldenEye%20(...</td>\n",
       "      <td>0</td>\n",
       "      <td>1</td>\n",
       "      <td>1</td>\n",
       "      <td>0</td>\n",
       "      <td>0</td>\n",
       "      <td>...</td>\n",
       "      <td>0</td>\n",
       "      <td>0</td>\n",
       "      <td>0</td>\n",
       "      <td>0</td>\n",
       "      <td>0</td>\n",
       "      <td>0</td>\n",
       "      <td>0</td>\n",
       "      <td>1</td>\n",
       "      <td>0</td>\n",
       "      <td>0</td>\n",
       "    </tr>\n",
       "    <tr>\n",
       "      <th>2</th>\n",
       "      <td>3</td>\n",
       "      <td>Four Rooms (1995)</td>\n",
       "      <td>01-Jan-1995</td>\n",
       "      <td>NaN</td>\n",
       "      <td>http://us.imdb.com/M/title-exact?Four%20Rooms%...</td>\n",
       "      <td>0</td>\n",
       "      <td>0</td>\n",
       "      <td>0</td>\n",
       "      <td>0</td>\n",
       "      <td>0</td>\n",
       "      <td>...</td>\n",
       "      <td>0</td>\n",
       "      <td>0</td>\n",
       "      <td>0</td>\n",
       "      <td>0</td>\n",
       "      <td>0</td>\n",
       "      <td>0</td>\n",
       "      <td>0</td>\n",
       "      <td>1</td>\n",
       "      <td>0</td>\n",
       "      <td>0</td>\n",
       "    </tr>\n",
       "    <tr>\n",
       "      <th>3</th>\n",
       "      <td>4</td>\n",
       "      <td>Get Shorty (1995)</td>\n",
       "      <td>01-Jan-1995</td>\n",
       "      <td>NaN</td>\n",
       "      <td>http://us.imdb.com/M/title-exact?Get%20Shorty%...</td>\n",
       "      <td>0</td>\n",
       "      <td>1</td>\n",
       "      <td>0</td>\n",
       "      <td>0</td>\n",
       "      <td>0</td>\n",
       "      <td>...</td>\n",
       "      <td>0</td>\n",
       "      <td>0</td>\n",
       "      <td>0</td>\n",
       "      <td>0</td>\n",
       "      <td>0</td>\n",
       "      <td>0</td>\n",
       "      <td>0</td>\n",
       "      <td>0</td>\n",
       "      <td>0</td>\n",
       "      <td>0</td>\n",
       "    </tr>\n",
       "    <tr>\n",
       "      <th>4</th>\n",
       "      <td>5</td>\n",
       "      <td>Copycat (1995)</td>\n",
       "      <td>01-Jan-1995</td>\n",
       "      <td>NaN</td>\n",
       "      <td>http://us.imdb.com/M/title-exact?Copycat%20(1995)</td>\n",
       "      <td>0</td>\n",
       "      <td>0</td>\n",
       "      <td>0</td>\n",
       "      <td>0</td>\n",
       "      <td>0</td>\n",
       "      <td>...</td>\n",
       "      <td>0</td>\n",
       "      <td>0</td>\n",
       "      <td>0</td>\n",
       "      <td>0</td>\n",
       "      <td>0</td>\n",
       "      <td>0</td>\n",
       "      <td>0</td>\n",
       "      <td>1</td>\n",
       "      <td>0</td>\n",
       "      <td>0</td>\n",
       "    </tr>\n",
       "  </tbody>\n",
       "</table>\n",
       "<p>5 rows × 24 columns</p>\n",
       "</div>"
      ],
      "text/plain": [
       "   movie_id        movie_title release_date  video_release_date  \\\n",
       "0         1   Toy Story (1995)  01-Jan-1995                 NaN   \n",
       "1         2   GoldenEye (1995)  01-Jan-1995                 NaN   \n",
       "2         3  Four Rooms (1995)  01-Jan-1995                 NaN   \n",
       "3         4  Get Shorty (1995)  01-Jan-1995                 NaN   \n",
       "4         5     Copycat (1995)  01-Jan-1995                 NaN   \n",
       "\n",
       "                                            IMDb_URL  unknown  Action  \\\n",
       "0  http://us.imdb.com/M/title-exact?Toy%20Story%2...        0       0   \n",
       "1  http://us.imdb.com/M/title-exact?GoldenEye%20(...        0       1   \n",
       "2  http://us.imdb.com/M/title-exact?Four%20Rooms%...        0       0   \n",
       "3  http://us.imdb.com/M/title-exact?Get%20Shorty%...        0       1   \n",
       "4  http://us.imdb.com/M/title-exact?Copycat%20(1995)        0       0   \n",
       "\n",
       "   Adventure  Animation  Children's  ...  Fantasy  Film-Noir  Horror  Musical  \\\n",
       "0          0          1           1  ...        0          0       0        0   \n",
       "1          1          0           0  ...        0          0       0        0   \n",
       "2          0          0           0  ...        0          0       0        0   \n",
       "3          0          0           0  ...        0          0       0        0   \n",
       "4          0          0           0  ...        0          0       0        0   \n",
       "\n",
       "   Mystery  Romance  Sci-Fi  Thriller  War  Western  \n",
       "0        0        0       0         0    0        0  \n",
       "1        0        0       0         1    0        0  \n",
       "2        0        0       0         1    0        0  \n",
       "3        0        0       0         0    0        0  \n",
       "4        0        0       0         1    0        0  \n",
       "\n",
       "[5 rows x 24 columns]"
      ]
     },
     "execution_count": 51,
     "metadata": {},
     "output_type": "execute_result"
    }
   ],
   "source": [
    "item_data.head()"
   ]
  },
  {
   "cell_type": "code",
   "execution_count": 52,
   "metadata": {},
   "outputs": [
    {
     "data": {
      "text/html": [
       "<div>\n",
       "<style scoped>\n",
       "    .dataframe tbody tr th:only-of-type {\n",
       "        vertical-align: middle;\n",
       "    }\n",
       "\n",
       "    .dataframe tbody tr th {\n",
       "        vertical-align: top;\n",
       "    }\n",
       "\n",
       "    .dataframe thead th {\n",
       "        text-align: right;\n",
       "    }\n",
       "</style>\n",
       "<table border=\"1\" class=\"dataframe\">\n",
       "  <thead>\n",
       "    <tr style=\"text-align: right;\">\n",
       "      <th></th>\n",
       "      <th>user_id</th>\n",
       "      <th>item_id</th>\n",
       "      <th>rating</th>\n",
       "      <th>timestamp</th>\n",
       "    </tr>\n",
       "  </thead>\n",
       "  <tbody>\n",
       "    <tr>\n",
       "      <th>0</th>\n",
       "      <td>196</td>\n",
       "      <td>242</td>\n",
       "      <td>3</td>\n",
       "      <td>881250949</td>\n",
       "    </tr>\n",
       "    <tr>\n",
       "      <th>1</th>\n",
       "      <td>186</td>\n",
       "      <td>302</td>\n",
       "      <td>3</td>\n",
       "      <td>891717742</td>\n",
       "    </tr>\n",
       "    <tr>\n",
       "      <th>2</th>\n",
       "      <td>22</td>\n",
       "      <td>377</td>\n",
       "      <td>1</td>\n",
       "      <td>878887116</td>\n",
       "    </tr>\n",
       "    <tr>\n",
       "      <th>3</th>\n",
       "      <td>244</td>\n",
       "      <td>51</td>\n",
       "      <td>2</td>\n",
       "      <td>880606923</td>\n",
       "    </tr>\n",
       "    <tr>\n",
       "      <th>4</th>\n",
       "      <td>166</td>\n",
       "      <td>346</td>\n",
       "      <td>1</td>\n",
       "      <td>886397596</td>\n",
       "    </tr>\n",
       "  </tbody>\n",
       "</table>\n",
       "</div>"
      ],
      "text/plain": [
       "   user_id  item_id  rating  timestamp\n",
       "0      196      242       3  881250949\n",
       "1      186      302       3  891717742\n",
       "2       22      377       1  878887116\n",
       "3      244       51       2  880606923\n",
       "4      166      346       1  886397596"
      ]
     },
     "execution_count": 52,
     "metadata": {},
     "output_type": "execute_result"
    }
   ],
   "source": [
    "user_rating_data.head()"
   ]
  },
  {
   "cell_type": "code",
   "execution_count": 54,
   "metadata": {},
   "outputs": [
    {
     "data": {
      "text/plain": [
       "(1682, 24)"
      ]
     },
     "execution_count": 54,
     "metadata": {},
     "output_type": "execute_result"
    }
   ],
   "source": [
    "item_data.shape"
   ]
  },
  {
   "cell_type": "code",
   "execution_count": 55,
   "metadata": {},
   "outputs": [
    {
     "data": {
      "text/plain": [
       "(100000, 4)"
      ]
     },
     "execution_count": 55,
     "metadata": {},
     "output_type": "execute_result"
    }
   ],
   "source": [
    "user_rating_data.shape"
   ]
  },
  {
   "cell_type": "code",
   "execution_count": 119,
   "metadata": {},
   "outputs": [
    {
     "name": "stdout",
     "output_type": "stream",
     "text": [
      "Number of missing values across columns: \n",
      " user_id         0\n",
      "age             0\n",
      "gender          0\n",
      "occupation      0\n",
      "zip code        0\n",
      "age_discreet    0\n",
      "dtype: int64\n"
     ]
    }
   ],
   "source": [
    "## check if any missing data in user data\n",
    "print('Number of missing values across columns: \\n',user_data.isnull().sum())"
   ]
  },
  {
   "cell_type": "code",
   "execution_count": 120,
   "metadata": {},
   "outputs": [
    {
     "data": {
      "text/plain": [
       "Index([], dtype='object')"
      ]
     },
     "execution_count": 120,
     "metadata": {},
     "output_type": "execute_result"
    }
   ],
   "source": [
    "## get the column with missing values\n",
    "user_data.columns[user_data.isna().any()]"
   ]
  },
  {
   "cell_type": "code",
   "execution_count": 121,
   "metadata": {},
   "outputs": [
    {
     "data": {
      "text/html": [
       "<div>\n",
       "<style scoped>\n",
       "    .dataframe tbody tr th:only-of-type {\n",
       "        vertical-align: middle;\n",
       "    }\n",
       "\n",
       "    .dataframe tbody tr th {\n",
       "        vertical-align: top;\n",
       "    }\n",
       "\n",
       "    .dataframe thead th {\n",
       "        text-align: right;\n",
       "    }\n",
       "</style>\n",
       "<table border=\"1\" class=\"dataframe\">\n",
       "  <thead>\n",
       "    <tr style=\"text-align: right;\">\n",
       "      <th></th>\n",
       "      <th>user_id</th>\n",
       "      <th>age</th>\n",
       "      <th>gender</th>\n",
       "      <th>occupation</th>\n",
       "      <th>zip code</th>\n",
       "      <th>age_discreet</th>\n",
       "    </tr>\n",
       "  </thead>\n",
       "  <tbody>\n",
       "    <tr>\n",
       "      <th>0</th>\n",
       "      <td>1</td>\n",
       "      <td>24</td>\n",
       "      <td>M</td>\n",
       "      <td>technician</td>\n",
       "      <td>85711</td>\n",
       "      <td>young</td>\n",
       "    </tr>\n",
       "    <tr>\n",
       "      <th>1</th>\n",
       "      <td>2</td>\n",
       "      <td>53</td>\n",
       "      <td>F</td>\n",
       "      <td>other</td>\n",
       "      <td>94043</td>\n",
       "      <td>old</td>\n",
       "    </tr>\n",
       "    <tr>\n",
       "      <th>2</th>\n",
       "      <td>3</td>\n",
       "      <td>23</td>\n",
       "      <td>M</td>\n",
       "      <td>writer</td>\n",
       "      <td>32067</td>\n",
       "      <td>young</td>\n",
       "    </tr>\n",
       "    <tr>\n",
       "      <th>3</th>\n",
       "      <td>4</td>\n",
       "      <td>24</td>\n",
       "      <td>M</td>\n",
       "      <td>technician</td>\n",
       "      <td>43537</td>\n",
       "      <td>young</td>\n",
       "    </tr>\n",
       "    <tr>\n",
       "      <th>4</th>\n",
       "      <td>5</td>\n",
       "      <td>33</td>\n",
       "      <td>F</td>\n",
       "      <td>other</td>\n",
       "      <td>15213</td>\n",
       "      <td>mid-age</td>\n",
       "    </tr>\n",
       "    <tr>\n",
       "      <th>...</th>\n",
       "      <td>...</td>\n",
       "      <td>...</td>\n",
       "      <td>...</td>\n",
       "      <td>...</td>\n",
       "      <td>...</td>\n",
       "      <td>...</td>\n",
       "    </tr>\n",
       "    <tr>\n",
       "      <th>938</th>\n",
       "      <td>939</td>\n",
       "      <td>26</td>\n",
       "      <td>F</td>\n",
       "      <td>student</td>\n",
       "      <td>33319</td>\n",
       "      <td>young</td>\n",
       "    </tr>\n",
       "    <tr>\n",
       "      <th>939</th>\n",
       "      <td>940</td>\n",
       "      <td>32</td>\n",
       "      <td>M</td>\n",
       "      <td>administrator</td>\n",
       "      <td>02215</td>\n",
       "      <td>mid-age</td>\n",
       "    </tr>\n",
       "    <tr>\n",
       "      <th>940</th>\n",
       "      <td>941</td>\n",
       "      <td>20</td>\n",
       "      <td>M</td>\n",
       "      <td>student</td>\n",
       "      <td>97229</td>\n",
       "      <td>young</td>\n",
       "    </tr>\n",
       "    <tr>\n",
       "      <th>941</th>\n",
       "      <td>942</td>\n",
       "      <td>48</td>\n",
       "      <td>F</td>\n",
       "      <td>librarian</td>\n",
       "      <td>78209</td>\n",
       "      <td>old</td>\n",
       "    </tr>\n",
       "    <tr>\n",
       "      <th>942</th>\n",
       "      <td>943</td>\n",
       "      <td>22</td>\n",
       "      <td>M</td>\n",
       "      <td>student</td>\n",
       "      <td>77841</td>\n",
       "      <td>young</td>\n",
       "    </tr>\n",
       "  </tbody>\n",
       "</table>\n",
       "<p>943 rows × 6 columns</p>\n",
       "</div>"
      ],
      "text/plain": [
       "     user_id  age gender     occupation zip code age_discreet\n",
       "0          1   24      M     technician    85711        young\n",
       "1          2   53      F          other    94043          old\n",
       "2          3   23      M         writer    32067        young\n",
       "3          4   24      M     technician    43537        young\n",
       "4          5   33      F          other    15213      mid-age\n",
       "..       ...  ...    ...            ...      ...          ...\n",
       "938      939   26      F        student    33319        young\n",
       "939      940   32      M  administrator    02215      mid-age\n",
       "940      941   20      M        student    97229        young\n",
       "941      942   48      F      librarian    78209          old\n",
       "942      943   22      M        student    77841        young\n",
       "\n",
       "[943 rows x 6 columns]"
      ]
     },
     "execution_count": 121,
     "metadata": {},
     "output_type": "execute_result"
    }
   ],
   "source": [
    "user_data"
   ]
  },
  {
   "cell_type": "code",
   "execution_count": 122,
   "metadata": {},
   "outputs": [
    {
     "data": {
      "text/plain": [
       "Index(['movie_id', 'movie_title', 'release_date', 'video_release_date',\n",
       "       'IMDb_URL', 'unknown', 'Action', 'Adventure', 'Animation', 'Children's',\n",
       "       'Comedy', 'Crime', 'Documentary', 'Drama', 'Fantasy', 'Film-Noir',\n",
       "       'Horror', 'Musical', 'Mystery', 'Romance', 'Sci-Fi', 'Thriller', 'War',\n",
       "       'Western'],\n",
       "      dtype='object')"
      ]
     },
     "execution_count": 122,
     "metadata": {},
     "output_type": "execute_result"
    }
   ],
   "source": [
    "item_data.columns"
   ]
  },
  {
   "cell_type": "code",
   "execution_count": 123,
   "metadata": {},
   "outputs": [
    {
     "data": {
      "text/plain": [
       "Index(['user_id', 'age', 'gender', 'occupation', 'zip code', 'age_discreet'], dtype='object')"
      ]
     },
     "execution_count": 123,
     "metadata": {},
     "output_type": "execute_result"
    }
   ],
   "source": [
    "user_data.columns\n"
   ]
  },
  {
   "cell_type": "code",
   "execution_count": 124,
   "metadata": {},
   "outputs": [
    {
     "data": {
      "text/plain": [
       "0        young\n",
       "1          old\n",
       "2        young\n",
       "3        young\n",
       "4      mid-age\n",
       "        ...   \n",
       "938      young\n",
       "939    mid-age\n",
       "940      young\n",
       "941        old\n",
       "942      young\n",
       "Name: age, Length: 943, dtype: category\n",
       "Categories (3, object): [young < mid-age < old]"
      ]
     },
     "execution_count": 124,
     "metadata": {},
     "output_type": "execute_result"
    }
   ],
   "source": [
    "age_discreet = pd.qcut(user_data.age,3, labels=['young', 'mid-age','old'])\n",
    "age_discreet\n"
   ]
  },
  {
   "cell_type": "code",
   "execution_count": 125,
   "metadata": {},
   "outputs": [],
   "source": [
    "user_data['age_discreet'] = age_discreet\n",
    "# user_data = user_data.groupby('age_discreet')\n",
    "# user_data"
   ]
  },
  {
   "cell_type": "code",
   "execution_count": 126,
   "metadata": {},
   "outputs": [
    {
     "data": {
      "text/plain": [
       "<matplotlib.axes._subplots.AxesSubplot at 0x20f0c6e7ca0>"
      ]
     },
     "execution_count": 126,
     "metadata": {},
     "output_type": "execute_result"
    },
    {
     "data": {
      "image/png": "iVBORw0KGgoAAAANSUhEUgAAAnoAAAGqCAYAAACcfOm+AAAABHNCSVQICAgIfAhkiAAAAAlwSFlzAAALEgAACxIB0t1+/AAAADh0RVh0U29mdHdhcmUAbWF0cGxvdGxpYiB2ZXJzaW9uMy4yLjIsIGh0dHA6Ly9tYXRwbG90bGliLm9yZy+WH4yJAAAgAElEQVR4nOzdeXxcdb3/8df7nJnJNmnSJV0htLS0gKUUiewgCO4ocAU37r0iaEGvIC5X8ecCV9HrdlVQuVjwIgoqoCCKgKBCBWRpy1IotSjQAt23tJlss5zP74+ZStombdomM5nM5/l4zCMzZ875ns9MMjmf+X6+53xlZjjnnHPOueEnKHUAzjnnnHNucHii55xzzjk3THmi55xzzjk3THmi55xzzjk3THmi55xzzjk3TMVKHYDb1pgxY2zy5MmlDsM555wrioULF643s6Zi7e+Y17zGWlOpAWlryUsv/cHM3jIgjQ0ST/SGmMmTJ7NgwYJSh+Gcc84VhaTlxdzf2tWr+dZb3zogbf3LjTeOGZCGBpEnes4555yrGIlkkv1OOGFgGrvxxoFpZxB5ouecc865ipFOpXjlL38pdRhF44mec8455yqGgLDUQRSRJ3rOOeecqxiJZJJ9vXTrnHPOOTf8ZFIpVnrp1jnnnHNuePLSrXPOOefcMJRIJpnkpVvnnHPOueEnk0qx2ku3zjnnnHPDUyXN/+qJnnOusrVugLUrIZeDmlqYNAXi8VJH5ZwbJPFkkgleunXOuWFu/Rr4y210Lv8Dm5KriYKI6u5qGu01xFrOgsOPh5j/i3RuuMmmUqz10q1zzg1ja1aQvvlS/jHpKVa+oYEobCg8YdRueYbpC5+gad0c9NZ/h7CSzs9zrm/PdsL9KejMwSG1cGISEmVaA62kT7UnegWSLgNSZvbt3dhmMnCMmf18kMJyzg20dJrcb77Ds9OeYW3zGOrac4Rm/3y6q6aWp47LMfvBa2h6clq+Z8+5CpaL4PI18Ie2/Ni2UPDrNpi4Af5nEuyXKHWEuyeeTDKuSKVbSTOAm3os2h/4EvDTwvLJwDLg3Wa2aWCC2pYnentnMvB+oN+JnqSYmWUHLSLn3M4t/zsb7FHWNjdQn4oQ2ubp6rRBIuS5WSGjHvs14aFHewnXVbRfbII722BqHIIeH5eVWfjcSrhhv22XD3XZVIr1RSrdmtlSYDaApBBYAdwGXAL8ycy+LumSwuPPDkYMZdrpOjAkfV7SUkl/BGYUls2W9IikRZJukzSysHyapD9KekrS45KmAl8Hjpf0pKRPSKqWdJ2kpyU9IemkwrbnSLpF0u+Ae0r1ep1zwKL7WdmcJcwF9HVsqkob7Y21bI4WweqXixqec0NJZPDLzTAhtmMyNzEGy9KwsKM0se2prXPdDsRtN50MPG9my4HTgOsLy68HTt/Dl7NLFfs1VdLhwHuBw8i/D48DC8l3p15oZvMkfRm4FLgYuBH4upndJqmafJJ8CfBpMzu10OanAMzsEEkHAvdIml7Y5dHALDPbWLQX6ZzbgW1ZS8e4OPGM9bmOAJnoTnRBV2fxgnNuiGmLYFMOpvRxInogeCkNr6srblx7I5ZM0lSas27fC/yicH+cma0CMLNVksYOTEA7qthEDzgeuM3MOgAk/RaoAxrNbF5hneuBWyTVA5PM7DYAM+sqbLN9m8cB3y+s8zdJy4Gtid69fSV5kuYAcwCam5sH5tU553qleA1hOkd6FwcmkxFGoZdtXUWrFsQFmQjivdQADagvszMbsqkUGweudDtG0oIej+ea2dztV5KUAN4JfG6gdtxfFV26Jf832h/9HX2ws/Xa+wzCbK6ZtZhZS1NTUz935ZzbI9OPYsLyLOmdDCDPhhDLZGjobIamicWLzbkhpiqAk+ry4/G2l4ryieAxZdSbBwNeul2/9fhduO2Q5BW8FXjczNYUHq+RNAGg8HPtwL7KV1XyV9W/AD+R9HXy78M7gB8BmyQdb2YPAP8GzDOzLZJekXS6mf1GUhX533EbUL9dm2cDfy6UbJuBpcBri/eynHM7ddBhjP3rFJalVtNRXUttV7TN0zkZ7TUBU59so+o150NdskSBOjc0nD8anuqEF9PQFIM4sCGCboMvjIVkmfXohckko4pfun0fr5ZtAX4LfID8WP8PALcPTEA7qthEz8wel3QT8CSwHHig8NQHgKsl1QIvAB8sLP834EeFcXsZ4CxgEZCV9BTwE+CqwrZPA1ngHDPr7qXE65wrlfoGqo/7Dw598DKeOrqDLXU1xLNCZmRDiALYd+lGJqeOhXe8udTROldy4xMwtzl/9u09bdARwWtr4OxGOKzMevMAcqkUm4t4weRCPvFG4Pwei78O3CzpPOAl8jnF4OzfrL/VS1cMLS0ttmDBgl2v6Jzbc2bw+EN0P3A16+v/zpp9AjKJgPpN3UxY0UDDiNcTvPOjMHJMqSN1btiTtNDMWoq1v5mjR9uv3vrWAWnroBtvLGrse6Jie/SccxVMgsOPo+rA2UxauohJzy+ATDeMnACnHwOTJkNQ6UOYnRuewmSSRp/r1jnnKkBdEl57TP7mnKsIUSpFm89165xzzjk3PJXZ+SN7xRM955xzzlWMMJlkhJdunXPOOeeGnyiVIuWlW+ecqwyWzcKG9ZDLQW0damwsdUjOuUHmpVvnnBvmrL0dW/gg0YJbyVS/jMVyhB11xEYeSXDs6WjajFKH6JwbBGEySdJLt845N3xZ6yZyN15OqvExNh0TI1u1dT60NurW/p6Rd/2ZqoM/ht5wam9zWjtXcTrIckv0Cr/LttJNjkOCWubE9mHyNpNDlYcolaLTS7eunJnBPc/CT+bB6k1wyGQ4/yR4jU/Z6RyWzZL7xbfZuM9jbJpcR1VXnOqO/DXzDKOjqYrOMZ1MfPRKqhrHoMOPLnHEzpXWclKc072EdRYQWQAEvJDr5O7cEj4eH8cHgv1KHeJu89LtMCPpJ8AdZvarUsdSDP9zD3z/lxBkIBbC84vh3ofhmo/DcQeUOjrnSuyFv9Mde5jWybXUpBKIV3vshKjqDMlU1bB2VopJD/0cHXYk8osnuwplGHPSf2NNFCNOQKLwcTGDrlzIFazhsKp6ZjGqtIHuhjCZpNZLt65crWiFubdDfQh1I19dvm4tXHYL3HOJX/DfVbbokd+xuTlHmK3dJsnrKd4d0pmsIp1YQs1Ly2Dy/sUN0rkh4sFoDasiiJkIexw7JKgWdEdxrsy8zLXx8kn0olSK7goq3ZbtIV9SnaTfS3pK0jOS3iPpS5LmFx7PVS+DayQdLmmepIWS/iBpQmH5RZKelbRI0i8Lyy6TdL2keyQtk/Qvkr4p6WlJd0uKF9brdb+S7pf0DUmPSXpO0vGD/b489A/oaIXa7YZNNI6AF1+EVzYPdgTODXHrltE5OiTWvat/fzHS9Z2waX1RwnJuKLov2kIExILevxSZBSy17uIGtZdEvnQ7ELdyUM49em8BVprZ2wEkNQD3mtmXC49/BpwK/G7rBoXE7PvAaWa2TtJ7gK8C5wKXAFPMrFtSz+srTAVOAg4GHgbeZWafkXQb8HbgN8APdrLfmJkdIeltwKXAKdu/EElzgDkAzc3Ne/Wm9PFZLOxn5887VxEEYKWOwrmyYX30fBee3NmzQ5KSSaq8dFsWnga+Lekb5MffPSDpXZI+A9QCo4DF9Ej0gBnATODeQqdbCKwqPLcIuFHSb8gnb1vdZWYZSU8X1r+7x/4nF+6ftJP93lr4ubDH+tsws7nAXICWlpa9OgIdPx3qR0FqM9Q3bm0fNm6Ggw6FiSP2pnXnhoFxB1Cz9hk6xkdUde7sO3mGxJY6GDW2aKE5N9S8JRjJr7WZbA5i23WCm4HCLDNVU5rg9pClUmQf8NLtkGdmzwGHk0+4/lvSl4CrgDPN7BDgGqB6u80ELDaz2YXbIWb2psJzbwd+WGhzoaStSXB3YX8RkDGzrYlYBMQkVe9iv1v7tHMUIbEeVw+feDd0BrBmLaxfD6vWQP1YuPw9Pj7PueCoU2l8JUEUpDH1/r0qXZ2jenOaqtws2HfvetmdK2dHBE3sK5ELcuR6fFzMoDsyqpTjovi+pQtwD0gQhgNzKwdl26MnaSKw0cxukJQCzik8tV5SEjgT2P4s26VAk6SjzezhQil3OrAE2NfM7pP0IPB+INnPULYmdTvbb1HNOQFm7QPX/wVWbYJDJ8MHXw+Ty2esrHODZ/L+VIUnMer5u9k4TcS7E8QyhcuryOiuyRFkuhj7VDV6w9l+xq2reNcmDuYD6WdZaTmyUUj+/PSIZCzHZ+MTOZDymk1GySTx4weodHu9l24H0yHAtyRFQAb4CHA6+R6+ZcD87Tcws7SkM4ErC2P6YsD3gOeAGwrLBHzXzFr7c6HUwnrX7Gy/pXDU/vmbc25bCkOCd1/EyF+kSbT9mdb9u+kckUAmZFlGrEjT8HwDiZZPEMw8rNThOldy46nl94nDuCtaxa25jXSTY7ZGcF5sH0ZTXmVbAFIpoocqp3SrVyuRbihoaWmxBQsWlDoM54Y96+rCnl6IPfJrstELRPEcYWcdYfOJBEe9DXnJ1rmikLTQzFqKtb/Dm0bbI6e9dUDaSvz4xqLGvifKuUfPOef2mKqr0euOxQ4/msSWLZDLQk0tqq0tdWjOuUEkymd83UDwRM85V9EUBNBYXmOMnHN7IZkkOGaAxujN9TF6zjnnnHNDR3sKHqmcMXqe6DnnnHOuslTQyfSe6DnnKlo2naZt2TJy7e3UTJxI3bhxpQ7JOTeYkkk4eoBKt1d56dY554ak9pUrWX7hh7An7qZmhKEQNnZCZ7aRxou/QvMFH/Vr6Dk3HLWn4LHKKd36fzHnXMVZ/+CDvHjMJEZuvIvxBxoN+0D9BBizP0yc0opddyFPn3gYUS5X6lCdc4MhGKBbGfAePedcRWlfuZLV/3o842YAMcjmyE9QWPihAOrHQbhhEc+efjIzf3d/6YJ1zg28uiQcOUClW7x0W7YkNQLvN7OrCo8nAlea2Zl70eb9wKfNzK+I7FyJLL/4fEZPAWIQZXd83iLIGtSOhvbn5tG+Zo2P23NuOGlPwXwv3VYM5fX2PjQCH936wMxW9pbkSfJk2bkykU2niRb8nkQtRDuryhpEETRMgJc+94mixeecKwIB4QDdykBFJimSJgN3AfcBRwO/kXQqUAXcZmaXAl8Hpkp6ErgX+CFwh5nNlHQO8HagGqiT9A7g++Tn340Bl5nZ7ZJqgOuAg4ElUI6TAjo3fLS9/DI19Zb/ittLb15PFkGsCrKP3luU2JxzRVKXhNd56bYSzAA+CPwGOBM4gnye/1tJJwCXADPNbDb8Mzns6WhglpltlPQ14M9mdm6h5PuYpD8C5wMdZjZL0izg8d4CkTQHmAPQ3Ozzazo3WKL2dsIQ+jPFtwESRLnMoMflnCuijhQ87qXbSrDczB4B3lS4PUE+ETsQOKAf299rZhsL998EXFLo/buffE9fM3ACcAOAmS0CFvXWkJnNNbMWM2tpamra81fknNupmgkTSHf17x+flO/VU3LMoMflnCsyP+u2IrQXfgr4bzP7Uc8ne+nB62v7rW28y8yWbtcG5DsGnHNDQG1TE502ilxmIwryiVxfwhDa1sGoz3yteAE65wZfbRIO99JtJfkD8BVJN5pZStIkIAO0AfW70caFki40M5N0mJk9AfwFOBu4T9JMYNZgvADnXP+N/Mw3af/hh6ifANkMvX4VUwhRBto2xJl55h6faO+cG4o6UvCEl24rhpndA/wceFjS08CvgHoz2wA8JOkZSd/aRTNfAeLAIknPFB4D/C+QlLQI+Azw2KC8COdcv+17zrm0jWihfR3EYhCE+WvnofzPWByUg/UvwPhr7/LZMZwbbkRFlW5l/RmV7IqmpaXFFizwy+w5N5gsilj8rrcQW3wvDRMgVg0UxuR1bMz35I2/9i6aTj651KE6N+xJWmhmLcXaX8u0/WzBtz8/IG3pjPOLGvue8NKtc67iKAiYeds9tG/YwCuf+0+6H7kLMt1oRBOj/t/XmHn6Gd6T59xw1ZGCpyqndOuJnnOuYtWNHs2Muf9X6jCcc8W0tXRbITzRc84551zlqE3CbD/r1jnnnHNu+OlIwSIv3TrnnHPODT9b57qtEJ7oOecq2+b1sH455DJQ3QATpkI8UeqonHODpSYJs7x065xzw1vrWtILLmVD8k7WNleRCwNqU91M+lM9NWO/QOzQd+Wnx3DODS+dKXjGS7euzHVm4cn1sL4LpoyAgxohrKCzjJzbqfUraF34Jh4/Ksnq6sOwSPnljbBoYppZqz/L1L88TfyEyzzZcw5ozxm/SGW5dbPRFcHhteJDI0NmxMvwwOKl26GnMO/sHWY2cy/bOQdoMbOPSTodeM7Mni08dz/waTMr+6sVP7EOvroQVm6BUPkZng4ZC185AsbUlDo650osl6Pj0X/n0RNGsS7WRH06hXrMg5ZWnIUTZ6Popxzw3CkEB72+hME6V3rrchFnvZTlH+0B1QHEAvGPlLhtY47v7Rtxal1ZpBKvqknCTC/dVoLTgTuAZwdrB5JiZpYdrPZ7s6ELvvgoZLpgSj1IkIvgmTXwXwvgiuMgUDEjcm6IWfUPVkx7nvXxw6jPtLH9xyFhGSwT8LcJ02m+/7+omfFH8Isnuwr2hbVZnm8PmVRlBMp/YkbGjE1Z8ZkVxglTjRFhGR1YOlPwbOWUbsvpv1co6RpJiyXdI6lG0lRJd0taKOkBSQcCSHqHpEclPSHpj5LG9WxI0jHAO4FvSXpS0tTCU2dJekzSc5KOL6wbSvq2pKclLZJ0YWH5lyTNL8yFO1fK//VLul/S1yTNAz4u6XBJ8wox/kHShMF8k/74MrR2QFMyn+RBvmS7Tx08tQaebxvMvTs39GWe/yUvjR9PGOV2SPK2Slg3qSDJuonPw6bVRY3PuaFkc2T8qTVgTMJ26CQYGYO2tPh1qqj9GXtva+l2IG5loJx69A4A3mdmH5Z0M/Au4IPABWb2d0lHAlcBbwAeBI4yM5P0IeAzwKe2NmRmf5X0W/Ll4F8BFPK0mJkdIeltwKXAKcAcYApwmJllJY0qNPMDM/tyYdufAacCvys812hmr5cUB+YBp5nZOknvAb4KnDs4bxG82Aa9DZkIQ4gMVrfDASMGa+/ODX1R+kU6YzWEUd8Hp63Hs85kAOmu4gTm3BC0JjLSEVTHe38+ECzLFDemvVadhIO9dDsUvWhmTxbuLwQmA8cAt0j//JpRVfi5D3BTofcsAbzYz33cul37kE/2rt5agjWzjYXlJ0n6DFALjAIW82qid1Ph5wxgJnBvIcYQWLX9TiXNIZ9Q0tzc3M9QezexDjLRjstzESAYXb1XzTtX9oLYRBK5v5MK68F2foRKdEbQ4JdacZVrtCAW5I8rvXUiGDChjyRwyOpKwRIv3Q5F3T3u58gnV61mNrvH7aDC898n3+N2CHA+0N/0Zus+cryaBAt6jNQGJFWT7z08s7CPa7bbR3uPbRf3iO8QM3vT9js1s7lm1mJmLU1NTf0MtXdv3Bdqq2BTR8/28z1500fDjIa9at65shef8l72XbeSXKzv77lpxam2Tsa+Mh5GjS9idM4NLaPDgKMbjLXpHQc6pLJQFRrvSpZJDXMrL92WjS3Ai5LOMrNbCmPkZpnZU0ADsKKw3gf62L4NqO/Hfu4BLpB0f4/S7dY+s/WSksCZwK962XYp0CTpaDN7uFDKnW5mi/v3EnffhFq4pAW+uRCWbcmPz8tGsF8jXPo6v8SKc0w6kH3ubeL5Ca1siY2gLtu+zVi9LCFdsWoOXfsU1ROvgLCc/006t/e+0hTy7o4cL3cFNMSMmGBLFiLBZftAU7kdWKqTcFDxSreSGoFryVf4jPzwraXkq3+TgWXAu81s0wAFtY1y/w92NvC/kr4AxIFfAk8Bl5Ev6a4AHiE/xm57vwSukXQR+UStL9cC04FFkjLANWb2A0nXAE+T/wXN721DM0tLOhO4UlID+ff7e+TLvIPmDZPg0NEwbwWs7YLpjXDUOKgt99+2cwMhnqB+9o0cOf+NPHb4frTGRyEzZBBJBEHEwRsXM/1vpxCetEMHvHMVZ/94wG8nw49ac/x+M3RHcEwjnD8q4ISaMjywdKVgaVFLt1cAd5vZmZIS5Id8/T/gT2b2dUmXAJcAnx2MncvMdr2WK5qWlhZbsKDsL+Xn3NC3+gU6F36E1c1LWD2xkWwYp76zjX3/lmFE/KPEj7gIElW7bsc5t1ckLTSzlmLtr2XyaFvw+bcOSFuac+NOY5c0gnwH1P7WI+GStBQ40cxWFc4nuN/MZgxIUNspw1TcOecGwPj9qXnrXUxZu5z9lj0JmQ6Chv3giFlQ56emOzdsVSdhxoCVbsdI6tk7M9fM5vZ4vD+wDrhO0qHkT/b8ODDOzFYBFJK9sQMU0A480XPOVa4ggPFTCMb3NrrDOTcsdaXg7wNWul2/i97IGPBa4EIze1TSFeTLtEVTZiMonXPOOef2QnHPun0FeMXMHi08/hX5xG/N1gkUCj/X7v0L65336DnnnHOuclQl4YDinHVrZqslvSxphpktBU4mP/Xqs+SvCvL1ws/bByigHXii55xzzrnK0Z2C54t61u2FwI2FM25fID+rVwDcLOk84CXgrMHauSd6zjnnnKscoqgD1wqzevU2ju/kYuzfEz3nXOXKbIbWp2DzIojSUNUEo46Euv0h8H+Pzg1LVUmY5nPdumFgcxo6c9AQh3K8pqVzg2rT47DiNsAgMQoUQsfLsGUJ1EyC/f4N4n6ZFecAOslyX7SZe3Mpus2YGVZxRjCSCSrDCdS7U/Bi5cx164f/Yag1Ddc9C3ctMba0GRObxPtmidOn9D4ptXMVZ8sSePnmfEIX9rgoclgDVWOgcxUs+wlMvQCCRMnCdG4oWG/dXJReyeLuOCFxAoOHFPHLcDVfqhnBKcGoUoe4e4pcui01T/SGma4cXPpXuPmublr/0YlyxtNVIYuW1tL2zhjnHlzqCJ0rMYtg9V1QPXbbJK+nmgnQsQy2/A0aZxU1POeGEsP4YmYli7uqmBgagV6dTWtjLsFlnW0cVFvLpHLq2UskYYqXbl2ZWrQR7ngky+alHVTXQBCKTDrHyvkpfjpxBO/cP2BMGX0enRtwna9AegPU7rfz9eKjYP1fPNFzFe1562RBd8jYEAJt+9yo0FiRi/Gr3EY+HptYmgD3RDoFyyundFtBnZf9J2mypCWSrpG0WNI9kmokzZb0iKRFkm6TNLKw/v2SviHpMUnPSTq+sDyU9C1J8wvbnD/Ysc9fDa2vZAhDCMMAIRKJACJj2fKIFR2DHYFzQ1y6lXztZhdi9dC1Gnw+cFfBllgnaQtIqPfPQYKAJ3PdRY5qLxX3gskl5z16fTsAeJ+ZfVjSzcC7gM+Qn8ZknqQvA5cCFxfWj5nZEZLeVlh+CnAesNnMXiepCnhI0j1m9mLPHUmaA8wBaG5u3quga2IQxLXNsckwMIglIF4mf5jODRr19/ttlF9X/UgKnRumEgjIH1N6+yhEZoV1ykgiCZO9dOvgxcK1byA/CfFUoNHM5hWWXQ/c0mP9W3usO7lw/03ALElnFh43kE8gt0n0ChMgzwVoaWnZq+6D4yfBpGlxnnupi+7OHGFMZNJGmIwza3rI5Lq9ad25YaB6PGD0eeTaKr0R6g8sWljODUWvC+qoD7fQHlWRVLTNc2aQkfHGeLJE0e2hdApe8tKtg5590TmgsZ/r53g1gRb5HsDZhdsUM7tngOPcxtR6+MiJIc3H1hM0JsgGIVWTajjkpDo+dbSo9dTeVbqqMZA8ALp3MrWkRZBNweijixeXc0PQKKo4oyrOJsvREb2aMmQMVuYCpsbTvDnY1eFxCAoG6FYG/LDff5uBTZKON7MHgH8D5u1imz8AH5H0ZzPLSJoOrDCz9sEKMhB86CCY3RRy63NJ1rbDwU3wLwfkk0DnHDDhVHj+auhen0/8eoqy0PlS/sLJtZNLEp5zQ8lFsfFEtau4rSvNxlyYvzqJjEOr01yeGE99uaUSiSQ0e+nW9e4DwNWSanl1vrqduZZ8GfdxSQLWAacPaoRAGMCRY/M351wvqsbA/nPglVugfVlhLF4IlgUCGHsyjH2Dj89zDogT8p+xfTgn2c0jURsdBgcFVcxUkqDcxucBZFKwonJKt57o9cLMlgEzezz+do+nj+pl/RN73F9PYYyemUXA/yvcnHNDSfVYmPpR6FoJ7S9CrhsSo6F+OsRqSx2dc0NOE1W8I+jj2pPlZOtZtxXCEz3nXOWS8rNj1EwqdSTOuWKJJ2EfL90655xzzg0/mRSs9NKtc84559zwVCZnzA4ET/Scc845VzmEJ3rOOeecc8NSPAkTfYyec85VBFt9K7bpZog6UWIKmvRpqN2n1GE55wZLJgVrfIyeGyZyOQgr6DRy5/rLNvyJDWs/zMvjqtg4ZSSRAqqzKxjX+lsmvzCDxMG3Q5AodZjODQmddPNTm8+DuRVkMPZRDR8Lj2Qy40sd2u7z0q0rdxvTcMECuGc9pA0aQvhQM3xlVqkjc25osI3381Lqgzy3fzNpxQlzEYEZbWGSLWPqWTdiDYc983pqZz4EQQUdEZzrxTMs57LsA3RGVXTlajBEqzJ8IvoTxwQT+M/wDaUOcffEkzDeS7fDnqQTgU+b2an9XP8c4B4zW1l4fC3wHTN7dtCC3AOpNLT8EV7phLhBIoDNGfjG87C4DW49ttQROld6m1dewHMH7EvOQqpz2X8uDy2HRbAp0ciS5tW8duW1aJ85JYzUudLqJsNl2QdozdSTsSrCIAdAl1XTmanmodhqZoRP8U4OLXGkuyGTgrWVU7qtyK+qkvYkwT0HmLj1gZl9aKgleQBfWwKvdEF9ADUhxAS1IVRHcOdaeKK11BE6V1q28a+8PC4irQTxKNrheQGJbJb1NaNJbbqy+AE6N4TcaPPpyiW2SfIgP9dtIKMtl+Tn2SF3KNy5rTNjDMStDJRVj56kycDdwIPkpyJ7CrgO+C9gLHB2YdXvATVAJ/BBM1ta6JF7O1AN1AFf7tHu64C5wLuAkcB3gCSwnnyCdyzQAtwoqRM4GriLfI/gAkkp4Arg1OUfWwAAACAASURBVMI+TzOzNZKmku/XDQvrf9LMkgP8tmzjVyshsB2n6EwE0GVw7fPww8MHMwLnhrhNv2PThAaCyPpcJcRIK2R9Qzv1RQzNuaHm/twKuqJqAuV2eE6CdJQgbZtJkyZBmYxpjSVhrJduh7JpwFnAHGA+8H7gOOCd5OeU/XfgBDPLSjoF+Br5BA7yCdosM9tYKN0i6Rjg+8BpwCrgBvKJ2jpJ7wG+ambnSvoYhcSusF3PmOqAR8zs85K+CXwYuJx88neFmf1C0gV9vSBJcwqvh+bm5r16c7otn+j1ymBLeq+ad24YSBMhRN+JHoAZRAKiyMfpuYoVEWFoh86DVwlDZInKJc2DbArWe+l2KHvRzJ42swhYDPzJzAx4GpgMNAC3SHoG+C7wmh7b3mtmG3s8Poh8T947zOwlYAYwE7hX0pPAF4D+XGchDdxRuL+wEAfkE8tbCvd/3tfGZjbXzFrMrKWpqakfu+vb6xoh28tv1QAEb/cpPV2lq55NMtNOTn3/+4sQoSLq2+VJnqtok1VPIkgTWe+ZXowMgUR1+aR5XrotA9097kc9HkfkX89XgPvM7IxCqff+Huu3b9fWKvKl3MOAleR//YvN7OjdjClTSDYBcpTwff3yTLhnLbRlIRnmX1DGoAPYrxrO8kTPVThNeB+Tnv8i6/fLkUOEvfTspcOQhvRmxsTOKEGEzg0dF4VHcX7uTjqiGizYdlhQNhcwIraFIzWeoJz6jWJJGOOl23LWAKwo3D9nF+u2AucB90hqB/4KNEk62swelhQHppvZYqANdnu4ziPky8Y3Ae/dzW33yMEj4KYj4LzHYUM635MXCF5TB3ce69fUc44gxrjYeYxru5FV9eOJIiMWRQjIITJhjGq6mL5iA8GUL5Y6WudKaiyjeEu4H3fxEu25JF25KpCIkaEhtoWRIXwyfH2pw9w92RRsrJzS7XBM9L4JXC/pk8Cfd7Vy4aSJd5A/WeJc4EzgSkkN5N+f75EvEf8EuLrHyRj9cTFwg6RPAb8HNu/ma9kjb50IKyfCH9bAKx3QMgoObSjGnp0rD8GULzLr7+uoydzBqoaxdIdVmCCwiDHpDey/YgtjJv4OEo2lDtW5kjs/PJ4DwiX8X/YpOm0zRkCAOCaYwEXhCcTKLZXYWrqtEHq14ugGmqRaoNPMTNJ7gfeZ2Wk726alpcUWLFhQnACdq3C2+Slyr/wXG2JPkgmN+q4EI+rPQxM+BonaUofn3JCTJSIiO6Bn2EpaaGYtA9bgLrTM2s8W3Pn5AWlL+55f1Nj3RJml4WXncOAHyp+i20q+x9A5N0So4VBiDbcyrtSBOFcmYgRQTide9CaXgk1eunUDwMwegHK6XLhzzjk3zFVY6dYTPeecc85VjjAJI/2sW+ecc8654SeXgs1eunXOOeecG368dOucc8OfmdH10kts+dVVdM//PeS6CBomUnfmp6g/4Y3Eav2sW+eGpTAJDV66dc65YStKp1nz7f8k89iPyB1cS/aEGiwmlFpKdNvZtF3dwMhLf0P9Ya8rdajODRmP83d+zNN0E3EEozmPEwjLsWssl4I2L926MveDp+CSh6HLoCkBvz8dXju61FE5V3oWRaz5+sfJvPxTUmeNJ9OQwHIAhibU0jl1BDUvtLHxSycT/PdD1M08pNQhO1dSrbTynuy9ZIJqIqrA4Hm1c1P0O86NjeFsjit1iLvHS7eVS9JE4EozO7PUseyNfa6DFWnys+5GsNrg8F/BeVPh2lNKHZ1zpdX+zCIyi/+PtjMmkqmJo27j1ek7DcPomFZPkI7Y8I0PUnv9Yygoo3k8nRtAOXK8O/NH0mEtOQv++VkxgzAQP85tZEz4FG8upyuJBUmo99JtRTKzleSnQBs0kmJmlh2s9j//aCHJ64R/fiIjIAM/fh6+eRyMqh6svTs39G356eWkD6knm8wneTsSlobOqfUkFj5Dx9K/UXfQwUWP07mh4H+5j0xYvU2SB/nDS2QBCL6bfY43x8oo0YtS0F45pdth8zVV0r9KekzSk5J+JCmUlJL0VUlPSXpE0rjCulMLj+dL+rKkVGH5ZEnPFO6fI+lWSXdL+rukb/bY15skPSzpcUm3SEoWlh8uaZ6khZL+IGlCYfn9kr4maR7w8cF8H761EMjANp/IrSI46+7B3LtzQ1uuq4vckvvJNtdimb6nfxSQqwrJHFBLx7zfFi9A54aYO7KbMNTrIQUgMpFRgjTposa114IBupWBYdGjJ+kg4D3AsWaWkXQVcDZQBzxiZp8vJGofBi4HrgCuMLNfSLpgJ03PBg4DuoGlkr5Pvq/sC8ApZtYu6bPAJyX9N/B94DQzWyfpPcBXeXXas0Yze30f8c8B5gA0NzfvxTsBGZHvweuNwdINe9W8c2XNMhkgg8VD6Mc031YVkGtdN+hxOTdU5Wzng9kMYRKtbGEsY4oU1V4Kk5D00m25OZn8vLLz89PKUgOsBdLAHYV1FgJvLNw/Gji9cP/nwLf7aPdPZrYZQNKzwH5AI3Aw8FBhXwngYWAGMBO4t7A8BFb1aOumvoI3s7nAXICWlpZ+HH76VgV0h0BvxWHBERP2pnXnypsSCQiqCbqyUBPLj2Ptc2VQR45w0sSixefcUJMgR2Ynz0sGZjQysmgx7bUoBZ1eui03Aq43s9mF2wwzuwzImNnWxCnH7ie23T3ub91ewL099nWwmZ1XWL64x/JDzOxNPbZv36NXtpu+fQz5FHP7dFH520/fuOM2zlWKsKqK2GGnElvegWJ9FaPABLGOLPGlHSRPOqOIETo3tJwdn0BA1GsHuAEhEXVRN4lyO43VS7dl50/A7ZK+a2ZrJY0C6ney/iPAu8j3sr13N/f1CPBDSdPM7B+SaoF9gKVAk6SjzexhSXFgupkt3v2Xs+c+dij8eAk8uZl8amrk/xgFX22BZLyY0Tg39DS8/9NkvnAj8alJMo1VkN72EGaA4lC9eDMafSTVU6aUJlDnhoD3cxw/i27BghpyBJgJIQwjVIQsy3/FX1vqMHdPkIQaL92WFTN7VtIXgHskBeRPR/iPnWxyMXCDpE8Bvwc278a+1kk6B/iFpKrC4i+Y2XOSzgSulNRA/r39HlDURA/giffC/PVw5u9gYzccPBLuPA1G+9m2zlEz40Cqjr8Eu/cbdJ00hq4x1YDyY1tDCNMRtYs3E58fMPqK6ykMxXCuYt0aO433pW9jS1iNKSz0HxhBLsMX4zN4LdNKHeLusRR0V07pVq9WNitHoReu08xM0nuB95nZaaWOC/Jj9BYsWFDqMJwb1iyXY93//Q+dt1+OTYNMcy2EQm0ZEktSEE2j6fLfUDO1zA5gzg2iDbTyEx6hiyzHMoUTec2AtCtpoZm1DEhj/dAye7Qt+PNbB6Qtjb6xqLHviWHRo7cHDgd+oPxX9VZePTPWOVcBFIaM/fBnSJ/5YbbceRPdD9+GdXUQjJtM/ac/Tt0hswlilfrv0bnejaaRT/GWUoex94IkVHvpdlgzswegnC7j7ZwbDImRIxlz9gVw9s6usuScG1YsBenKKd1WZKLnnHPOucplZXLG7EDwRM8555xzlSNIQqJ4pVtJy4A28tfCyJpZS+HqIDcBk4FlwLvNbNMABbUNT/Scc845VzksheWKXro9yczW93h8CflJGb4u6ZLC488Oxo490XPOOedcxTBBVPrrO58GnFi4fz1wP57oOefcwDKMTTzKy/yeDF3Usy/786/EGVXq0JwbkraQIkuWJEkSZZpCiCSKDVjpdoykntdEm1uY1rQnI3+dXwN+VHh+nJmtAjCzVZLGDlBAOyjP35LbpXQEVy2Fl1Jw3Hj4l31LHZFzQ0sHL/Iwl9BOa35idkAs4h/cSTPHM5PPoXKZ48i5QfYXlnBV5z9YlYuTI2BE0M2bEw2cHzuKahKlDm+3GCly0YCVbtf34zp6x5rZykIyd6+kvw3UzvvDE71h6Kpn4cJ5EHUDEXw3BslaeOAMmD261NE5V3rdrOcBLqaTbqCKsJDQRUA3WV5kHgCH8PnSBencEPGT7KP8qKOddenJZKMQCVYS8XJ3B4/X/oEfVb257JK9KCjelzgzW1n4uVbSbcARwBpJEwq9eROAtYO1f0/09pCki8l30XYUHt8JvN/MWvuz/mBZsB7+4z6gHcgCAjohlYGjb4W28yDmnRSuwj3H1XTShagm4NUpzvLzlMfIIF7iQaaznirGlC5Q50psHZu4vmsjq7r3o1rdJMLsP59rz9bxRMdYbgjn86HYsSWMcjepniAYqNLtz3a+K6kOCMysrXD/TcCXgd8CHwC+Xvh5+wAFtANP9PaApJDCfLlAB4CZvW0Xm22z/mC5YB7QTf4k7q0JXZhf1tUB/7sULjxoMCNwbmgzcqzgUYwYIb3PYxsSkiXDMn7GDD5R5AidGzp+nn2a1elxVClDsN3HpTpIk8omuT3zAufGIoIyGepgpMjyULF2Nw64rTBndgz4uZndLWk+cLOk84CXgLMGKwBP9Hoh6TfAvkA1cIWZzZWUAr4DvBn4PTARuE/SejM7qXCdnBagE7gZ2Id8ivUV8r/obdYfrNiXbODVnryeAiAHd7/siZ6rbEYXWTJoJ6WmwseFLbxStLicG4oWR+1krJGEcr0+H5lI5WJ0kaaW6iJHt+ei7bPWQWJmL9DLTFxmtgE4uRgxeKLXu3PNbKOkGmC+pF8DdcAzZvYlAEnnsuN1cQDeAqw0s7cX1msws82SPtnH+kiaA8wBaG5u3qvAa2LQEZAfbNRTfqQ5TXV71bxzZU/EECIi/02sb0ZYZuOOnBtoSfL9BpGxQ48e5J8MgxyxMkonRJIYxw1Qa9cNUDuDp3x+M8V1kaQzCvf3BQ4g/wX/1/3Y9mng25K+AdxRmFd3pwqnWs8FaGlpsT0LOe8js+Hyv5Av325/FIvD52fuTevOlT9RRT1jybAWqOp1nRwRAdA8HCZwd24vnJmYwrzYOjalR1Gt9DbPRQZxZZkehmV1qZWIdtI8XOowiqY8CupFJOlE4BTgaDM7FHiCfAm3y8x677vuwcyeAw4nn/D9t6QvDWK4O7h0NowfTb7/cetvN5Z/fOaBcEBDMaNxbmg6kPcTEJEhu8NzEYaRppYkozm+BNE5N3QcwTSmVbWSCNJ0RVVEli8QZSxGtyWYWL2Si6peU+owd1uOYEBu5aB8UvDiaQA2mVmHpAOBo/pYrw2oB7YpxUqaCGw0sxsK4/rO2dn6Ay0WwPKz4aMPwc+XQDoHjdXwpaPgIh+b5xwAY3kzU3mc57mfHDki4gTkT9QIyFJDgiP5ml9Hz1W8GDGuqj6eC/kLf0+PYHNmJIaoCTuYkFjL5+r250D2bshRsYkkCY4ZoNa2vzby0OOJ3o7uBi6QtAhYCjzSx3pzgbskrdru5IpDgG9JioAM8JFdrD/gEgFce3z+5pzr3Wv4HGOYzd/4BW2sJT8mL8YEjuRAPkI1E0odonNDwmga+Wn1qTxTvYzfZV+knRyHazRvC0+hjppSh7fbItrp7vPQPvzIbK+GhLkB1tLSYgsWLNj1is65ARPRCeQQ1ci//zpXVJIW9mN2iQEzu2Ws3btgYK5mMlZXFTX2PeH/0ZxzFS8ow14J59yeEUmqOHqAWrtqgNoZPJ7oOeecc65iRKTo5NFSh1E0nug555xzroIIq6ATrTzRc84551zFCKijmiNLHUbReKLnnHPOuYoR0U4780sdRtF4ouecq2hmbZi9jJEhoAHUjFQ5ZR3nKo2hwtw3lcETvWHMDLIG8cr5e3au38w66czdSnt0Hx20snVu26QmUxe8l3i4wzzkzlUsw3iJTp6kjS4i9qeG2YwoXGq8/Hii58padw5+uhh+uRhaO2DyKLjgcDhlX1Bvk1I7V2HMukhlr2SDLSCrMSTUjAjIkGG9raIz901GcxGJsHLG8TjXly6yXMMKFrIFEAEiS8RY4nyMZiZTW+oQd0tAHXW8rtRhFM2QSfQkTQbuMLOZJQ5llwrz4X7azE4tdSzby0Zw8Z/gjmfy07UnQni8Fc5/Cb50Mpwz5N9d5wZfOvcgm2w+BPtQ1ePfYIw4MY2hnVZiuR8zJngNUrKEkTpXetezkvlsYQI1BGztLTA2kOE7LOdypjGCeElj3B052mljYanDKJrK6bscIiQNanI9fy3cuRhGV8HoJNTXwNh6iEdwxcOwOT2Ye3du6DPL0mF3klYjYR/fdRMaQQebSEePFzk654aW9XTzGFsYR3WPJA9AjCbBZnI8SGvJ4tsz+TF6A3ErB0OmR68glHQNcAywAjgNmAFcDdQCzwPnmtkmSfcDTwCHA03AvwOfIz/X7E1m9gUASf8KXAQkgEeBj5pZTlIK+CFwCrAJ+H/AN4Fm4GIz+22hl/FnQF0hvo+Z2V97BizpdeTnsX0XMBL4DpAE1gPnmNmqQqx/BY4Ffgv8z8C8XTu64+9gOaja7svViFpY3QZPrIUT9xmsvTtXDlrpsvWEQWOfa4iArKrJ2NNUcUIRY3NuaFlKB1mMWB9JTQ0xnmALb6OpyJHtuYBakgzpWcsG1FBL9A4A3mdmH5Z0M/nk6TPAhWY2T9KXgUuBiwvrp83sBEkfB24nn/RtBJ6X9F1gLPAe4Fgzy0i6Cjgb+Cn55O1+M/uspNuAy4E3AgcD15NPyNYCbzSzLkkHAL+AV/86JB0DfJ98QroKuAE4zczWSXoP8FXg3MLqjWb2+t5etKQ5wByA5ubmvXn/6Gvq4gDAwGc2dq7//PPiKp0BOxvaLSAqs09KRAdbeKLUYRTNUEv0XjSzJwv3FwJTySdI8wrLrgdu6bH+bws/nwYWm9kqAEkvAPsCx5FP/uYrfxZCDfnkDSAN3N1j++5CMvg0MLmwPA78QNJsIAdM77Hvg8j35L3JzFZKmgnMBO4t7Cskn/xtdVNfL9rM5hbaoqWlZa8+MW+cAjcshEwG4j169TZ3QWMSDh2zN607Nxw0UEUj7dZJTIle1zCMwLpIBAcWOTbnhpZp1KDCyRe99ep1kuEQRpYgsj2Xv7xK5ZyZONQSve4e93NA37WVbdePtts2Iv/aBFxvZp/rZduM2T/7v/65vZlFPcbRfQJYAxxKvlOsq8f2q4Bq4DBgZWFfi82sr5mS23fxWgbEsRPhhGlw/3NQl86XcDvSkAngghYYVV2MKJwbuqQ4dcGb2RJdR05JQsId1klbGw2MIBFUTnnHud6Mp5rZJFlIignbjdNrJUMtAa8vs0QvpJYRvLbUYRTNUEv0trcZ2CTpeDN7APg3YN4utunpT8Dtkr5rZmsljQLqzWx5P7dvAF4pJH8fgG2OCK3AecA9ktrJj8FrknS0mT0sKQ5MN7PFuxHvXkuE8KO3wPfHwm+WQFsnTJ4AH34tnDV919s7VwkS4YmMtMfYGC0hrSbiqkaIHDmytoVaa2dEOAepodShOldyH2IfOlnOEjoICP75WRlByEdoZiS994wPVTk6aOXJXa84TAz1RA/gA8DVkmqBF4AP9ndDM3tW0hfIJ2MBkAH+A+hvoncV8GtJZwH3sV2vnJmtkfQO4C7yY/HOBK5U/ugQA74HFDXRA6iLwyVHwidboDuC2hDC8jg5yLmikOoYEfs0Ye4G2qNH6bTVgAgJGMEEkuG5JMJjSx2mc0NCHTH+k/1ZSjsL2EKaHFOo5UhGkCyjy6pslS/d7tiTP1zJ+hq970qipaXFFixYUOownKsYZuvJ2QvkrIu4xiBNQ32M3XPODTxJC82saOMkZrVMszsXfGdA2tpXpxU19j1RDj16zjk3aKQxxDTG/xk6VyFydLKJp0odRtH4/zbnnHPOVZRKKt16ouecc865ihFSy0hmlTqMovFEzznnnHMVI0sn63mm1GEUjSd6zjkHWBShwE9Pd64SWJnMUzsQ+pXoSfoX4BvkpxRT4WZmNmIQY3POuUFjUUT3iy/S8ccrCNpvRvEMua7xhId+jbojXk+scVfXa3fOlaOQGkZxSKnDKJr+9uh9E3iHmS0ZzGCcc64Yoq4uWq/7BJpyHRtPH0l3Qw2mWsJsivrl5xL9MkPiqPuom314qUN1bsh4mmXcmP4H7RjHxRo5IziMRBkWBrN0sa74l7gtmf7+htZ4kldebl8GVy+Gte1w0Gj49GyYPbrUUTlXepbL0XrdxXQddxPrZ+xDRIBl83McZoKQ9LRRbGnOMPH2Y+moepzagw4udcjOldRGNnNq25Msz04gbdNBcAtZvhgs4sr6OG8Jyq93LPLS7Q4WSLoJ+A095pQ1s1sHJaq9ICllZklJE4H/z959x8lVlgsc/z1nys729EY6NXTIUgMhVGliELCBUrzkKtIURFSuglyvjaKgQQMiIKAUC1UMQmJoQjYBAiGQBEIgpPdsmXbOc/84Z2GTbJnNTt19vp/PfHbmzHve80w2s/PMW29R1TNF5DygTlUvzuJ1fgTMUtV/ZavObLlgJjz8BohCSGDhSnhyEfzyGPiKbYNmern44kXobnezdvedcNMOIfU+fi6kgAeJaJSVpwxkwLQvUb77XBu7Z3qtNB4nNbzOkvRo0qkwgiJAiigbwgP52uZNPNrnffZldKFDzViYcgawd6HDyJtME70aoAk4odUxBYou0WuhqsvxtyTLiIgI/k4hXgZlQ6r6g+7ElytPfOAnedVRiLbamWZLHK6aBZNHQU1Z4eIzptCa//UT1n+uL65uneS1Fkp5JCpihPZ/m8SSJcR23jnPURpTHP7Fm3yQGoabChOST3bSEsBLC43hGq5oXszT5aMLFmNXpWhmNW8VOoy8yehrqqqe38btglwH1x0iMlpEWs+fHiEiT4nIOyLyw1ZlFojIVGBuUOY2EakXkfkicl2r+t4XkR+IyPPAWSJyl4icGTz3AxGZLSJvisi0IGlERGaKyM9E5BURWSgiR+b6dU+b77fkRbfZfrCqDBob4b53cx2BMcVL02lCziMkamKI2/H2jx6wZbdamt+ek5/gjClCv2lejatR/LadrTkC6jksjg8kSTr/we0wwcPJyq0UZDrrdjhwKzAB/7f9PHCZqi7LYWzZdjCwN37L5GwReQJYC+wOnK+qFwGIyPdVdb2IhIBnRGRfVZ0X1BFX1SOCcie2qvvXqvqj4PgfgVOBx4Lnwqp6sIicDPwQOG7bwERkCjAFYOTIkd16kWua2s7eRUAc/3ljeisvlcKJpvHEQTrb5lsFNwLavDEvsRlTjDZ4EVT9pK4tnoJHmDTpkpmYESbGIHrP2NtMfyt/AO4HzgoenxMcOz4XQeXI06q6DkBE/gocgT/mcKmq/qdVuc8FiVcYGArsCbQkeg+0U/fRInIVUAH0A+bzSaLX0r09B9oexKCq04BpAHV1dZ19/HRo34HwxkdtXcO/jR/UndqNKW1OWRnu5mpCrktSIoS0/bebIxDenCbUr3tfvowpZeNCSd5xwEtDW0NVHUeJOnGiRPMf3A5KE2clbxc6jLzJtN1xoKr+QVXTwe0uYGAO48qFbf+itzxubDkgImOAK4FjVXVf4Akg1uqcRrYhIjFgKnCmqu4D3L7NOS2TV1zysED1t/aDWBlsbvITOwDPg/UNMGoQnDQ81xEYU7zEcdBh/0PVyiakg3ejiiDqUfNqIxX71uUvQGOKzHdie1JGE4Q++Uxp4SmEHJcTy9YSLpFuTABF8Ahl5VYKMk081orIOcCfgsdfBNblJqScOV5E+gHNwGSgrTGGNfjJ3CYRGQycBMzspN6WpG6tiFThTwB5OCsR74DdamHaCXDxDFjXEKxsLTB6MPz9pLa/kRnTm1Qe9VmcZ66g4bMVJMMRQumtJ2SoCESgZvkW3I1nExkwoECRGlN4u7ATny57mr8nxpJyonhpB1DEgXA4zZDwcn4cO6zQYXZJhBiD2aPQYeRNponeBcCvgZvxW8JepO1EqZg9D/wR2AW4X1XrRWR06wKq+rqIvIrf9foe8EJnlarqRhG5HXgDeB+Ynd2wu+70MXDicHj4fVjeCPsN8B8bYyA6ZAjNQ//CsKdPZ/kxQ0hHo3gq/pg9RwnhUb2igeq/9qXm/BsLHa4xBXdbxfGMDT/P75tjNEgNHkJUEhwYXckdFQdRQ1WhQ+ySFHFW8E6hw8gb0Q7GqJj8q6ur0/r6+kKHYUyP1/DiTNIvn0PyoE007FyJF3KINqSpnrsJXX4GNV+ZatugGdNKGo8PWUGcJDsxmBoqslKviMxR1byNkditbpROrf9+Vuo6Xv47r7HviA5b9ETkKlX9uYjcShtzq1X10pxFZowxOVR1+CS8uvdofnsB4ZkzIbkZZ8BuVBxxFNEhQwodnjFFJ4zDGHYqdBjdFiHGUHYvdBh501nXbcu2Z9bEZIzpcZxolMp996Ny3/0KHYoxJk9SJPiIRYUOI286TPRUtWWJkCZVfaj1cyJyVhunGGOMMcYUtVJZ7DgbMp2M8V3goQyOGWOMMcYUrQgxhtF7Nn7vbIzeScDJwE4ickurp2qgpPY7McYYY4whSYJl9J79QDtr0VuOPz7vNPydHVpsAb6Zq6CMMSZv1q2A998ENwnVA2DXAyEc6fw8Y0zJ8mhnT7ciJyKVqrrd5g0d6WyM3uvA6yJyv6qmuhWdMcYUk1Xvk/r7lWzRGazbsxyvLERsUYJBT5QT3fcqQsdOgVBprHxvTD64uLzK+zSSYl+G0ZeaQoe0QyKUMZxdCh1Gl4jI4cAdQBUwUkT2A/5bVS/q7NxMx+iNFpGf4O/7+vH2Xqo6dgfiNXnw2EfwpRnQ2ATD+sGcU2BweaGjMqZIfLSIhj8dw6LJFWwYsCuuhvwFk3eHDw9rZvjc69jpnnoi595u28kYA3yt6Wn+2jSGTcn+eAhl0sheNbN5pPJAhtC30OF1SZIkH7Ck0GF01c3Ap4BH4eMNHiZmcmKmf8H+ANyGPy7vaOAe/F0mTBEacB+cdjc0LAB9Hz56DYb8Bs55vtCRGVME0mni95/Ogs/V4oFIfAAAIABJREFUsKb/QGiCaFOaSHOacGOaZq+c9w4ZzfIhj6Oz7i90tMYU3MmN0/n9xoNYlxpCigguYZq1mvrNB3PQ+o9YxYZCh9hlLk5WbpkSkZCIvCoijweP+4nI0yKyKPjZabasqh9u9zIykGmLXrmqPiMioqpLgWtF5Dnghxme3y0iElLVjF5QO+eHVbVoJo909/V05IvPw7r38HfsDQU3F1gH9/0HbhxvLXuml3v7JVbtsYaNtTsTbUz5LXkBAaLpNAkiLB8/jMH3/ITYxC9Zq57ptebyATM2HYhHGPHAaTW0zVVhRWIUU5pf4pHyEwoXZBdFKWMkee+QvAx/beKW/u6rgWdU9acicnXw+DsdnP9h0H2rIhIFLuWTtY47lGmiFxcRB1gkIhcDHwGDMjy3Q8F+s08BLwMHAAuBrwBvAXcCJwC/FhEBvof/t/gJVf1OcP5X8f9xlgOLgISqXiwidwHrgzrnisgDwC+BcqAZOF9V3xGR84DJ+CnR3sCNQBT4MpAATlbV9SIyE3gVGA8MDGL8LrAP8ICqXhPEcw7+LyAavKaLVNUVkQbgJvym1yvw997Nuj/PC15d67HkLcneRhj/BCw7MxdXNqY0uC9NZc0J/dFkCGnn+1Y0naKxqpz1I5Yx7IMFMHqvPEdpTHH4fvPbJOVw8BT/Y/gTIcBT4YWGXf1P1hKRJMlS3s/b9URkOHAK8GPgW8HhzwCTgvt3AzPpONH7GvArYCdgGTAd+EYm18800bscqMBPYK4HjgHOzfDcTOwOfFVVXxCRO4GWwYVxVT1CRIYB/8FPsjYA00VkMvAK8D/AgfgzgZ8FXm9V727AcUGiVQNMVNW0iBwH/B9wRlBub/yEMAYsBr6jqgeIyM34Cd0vg3JJVZ0oIpcBjwTxrAfeDcoOAj4PTFDVlIhMBc7G7+quBN5U1R9k7V+tLXHa2KyOj5O95aXXwm5MVrlNH5CORRHXa7eMAHgQ7x+Bxo15i82YYrMsXQMKjrQ/S7U5XUGSJFGieYxsxyl0qds1C34JXAVUtzo2WFVXAKjqChHpsPFMVdfi5xNdllGip6qzAYJWvUtVdcuOXKwDH6rqC8H9e/ETSoAHgp8HATNVdU0Qx31AyyDEf6vq+uD4Q7DVKogPteoirQXuFpFd8X/Prdu8ZgSvaYuIbAJadgR5A9i3VblHWx2f3/JLEpH3gBHAEfjJ3+zgm085sDo4xwX+0taLF5EpwBSAkSNHtlUkc+2tCuEBApUl9K3LmFwIhWpx3M1oqJPlFRwh1OhBpCw/gRlThCqdZhDwPG032QuRKpkkD/yu21GMyVZ1A0Sk9Tax01R1WssDETkVWK2qc0Rk0o5eZJu1jFtsAupV9ZGOzs0o0ROROvwJGdXB403ABao6p8MTM7dtG1TL45a1Ytr7i9zZQjit15q5Hj+hOz3oLp7Z6rlEq/teq8ceW/8bJdoo07qcAHer6nfbiCXe3ri84D/FNIC6urq22uMytsswWLwGSLJ10ucCNXD/0d2p3ZjSF9r3XPq+dyUb96ppd9n3tOMQdRMMWByCE/bMb4DGFJFLK2s4b1MKV7ZvRfAUcGBczUJgeN5j21FJEixhabaqW6uqdR08PwE4TUROxu81rBGRe4FVIjI0aM0byieNQu2JAXvwyY5kZwDzga+KyNGqenl7J2badnkn/liz0ao6Gr9f+A8ZnpuJkSJyWHD/i2w/fu1l4CgRGSAioaDMv/G7bo8Skb4iEuaTrti21OKPLQQ4L2uRb+0Z4MyWJthgVs2oHF2rTW+eCgzDHyGYDm4uUAkDRsGnd8pnNMYUobqTGfJKmsp0M4lodLtvma4IXoXDwCVriY2+EMorChKmMcXgS4xnbOVCBMXDT+48DaZ7OkIlm7ihckSBo+waRVCcrNw6vZbqd1V1eJA7fQF4VlXPwe8hbBkCdy7+cLCO7AIco6q3quqtwHHAOOB0/LkM7cp0jN4WVX2uVeDPi0g2u28XAOeKyO/wJ1TcBlzS6norROS7wAz8VrMnW5oqReT/8BPB5fgTODa1c42f43fdfgt/LF/WqepbInIN/hhCB0jhJ8VZ++rQmbIyiJ8Pez8Biz/CT/TK4Oz94N4J+YrCmCJWUU31hN+x6+MXsPjUETRVVuAlHVBFwxAOuwxdtpIxM/sR+m/bAMiYl2v34kh5nUUNu5N0/KV0Q+rSP7KKWwc0cyT7FTjCrikjymjy2gbTlp8CDwYTSj8Azuqk/E74Y/1bcpxKYFgwByHR/mkgqp33FAYTDSqAP+F3q34ef1LEXwBUdW6nlbRf92jgcVXdewfPr1LVhqBF72/Anar6tx2Np9Dq6uq0vr6+84LGmO6pf5LGmf/N6v3SrN+tD14oRNmWOINf2US/xoOInP1HqO1f6CiNKRpzWcrvvIXE8TjMqeVCDiJE93ePEZE5nXR/ZtXYul30+vobs1LXOTI5L7EHCeE1+MPOBH+ewv/h52XXquq32zs30xa9/YOf266bdzh+4ndMF+LNtmuDWbQx/OnGfy9gLMaYUlF3MpX7LGLMvGcZOfPvkNgM/fcgdOzZMHzXQkdnTNE5kFH8zil4S1i3KYKX31m33aaqvxeRf+Av/fY2fr6zLNj3tt0kDzKfdZuzIfyq+j7+8iY7ev6V2YvGGNOrlMXgoJMJHXRyoSMxxuRJGVHG0s0VLvJMRP4Lf9Hl4cBrwKHAS2TQ0JbprNs2135T1R9lHqYxxhhjTGElSLKYZYUOo6suw19q7j+qerSI7AFcl8mJmXbdtl6mJAacSoZbbxhjjDHGFAuFkuu6xV+iLS4iiEiZqr4tIrtncmKmXbdbjVoUkRv4ZPFgY4wxxpiSECPKziW07l9gmYj0wZ+H8LSIbMBfbaRTmbbobasC8r8jsDHGGGNMd8RJsSizHKloqOrpwd1rRWQG/trAT2VybqZj9N7gk90qQsBAwMbnGWNKnqsLSXmvoNpEyBlOWI7CkcpCh2WMySEvC8vCFIqq/rsr5TNt0Tu11f00sEpV29k8yBSLuAubk9CvDMIlNxzBmNzydAWbvR+Q0FdJkUYRQgpRr4YKOY9y5zykg43cjelNmkjwF/2AF3U5KVxG05cvy2hGSd9Ch9ZlZUTZlWGFDiNvMk30hgLzVXUL+IsUi8heqvpy7kIzO2rZZjj6Hli83n/sOHD8WHjiCxCyhM8YPF3DRvdrNPIhLgMISxQB0ngkaCKlt4AbpyL89UKHakzBLdWNXK2vsJ4UaSKAw1JW8rIu54vsxpektNadjJPiHVYUOoy8yfRj/zagodXjpuBY1ojIZBHp8u7hIjJJRA7PoNxpInL1jkXXPSLSR0Quyse1mpOw269h8Tr8DdiS4CXhn4vgwDvyEYExxa/ZvYdmlqIyhLBEPz7u4BCRKprpSyN34+lHHdRiTM+XxuWHOpc1KA4VxIgSI0yUcpoo535vIfN1TaHD7DIPJyu3UpBplKKt9kpTVY8dn8jRnslAlxK9YNuzSfg7dHRIVR9V1Z/uWGjd1gfIS6L37RnQnMJP8oRPfsMpmLcS5q/NRxTGFC9Pm2nmMZL0wWnnT2BUykmSoNm1jXZM7zZHV7OKZsJEcdh6KEMMh4SEuEffLVB0O8bfGSOUlVspyDRZe09ELuWTVryLgPc6O0lEzgEuBaLAy8F5m4Bf4Y/7awY+A+wMnAYcJSLXAGcEVfwGf+JHE3BhsG7MXcB64IDg5wTADa51CX5SdU1wzXXA2aq6SkTOA+pU9eKgjs1AHTAEuEpVHxaRSfgLEK7C3/btr8Ab+AsVlgOTVfVdERkI/BY+Xlr7clV9QUSuDY6NDX7+UlVvwd+8eGcReQ14uqM96brrsXfwp81sO7RI/OO/mQ1TT8rV1Y0pfsoKXJpwpKN9bAWXMtLyRt7iMqYYvchaXEJEtvtQ8XlEWcpGPHS7RLBYxQizO0MKHUbeZJrofQ24BT+BUuAZYEpHJ4jIOODzwARVTYnIVOBsoBJ/Zefvi8jP8RO4/xWRR4HHVfXh4PxngK+p6iIROQSYyidbfewGHKeqbpBcNajqDcF5fYFDVVWDLUOuAq5oI8ShwBHAHvhrAj4cHN8PGIefRL4H3KGqB4vIZfiJ5OX4ierNqvq8iIwE/hmcQ1Df0UA18I6I3AZcDeytqi17Bm/7bzWl5d9z5MjubcsS6uR9VhbpVvXG9AAtbxLtsNTWZY3pnZyWVoJOypTSOyVOmgWsKnQYeZPpgsmrgS90se5jgfHA7GDmWjmwGkgCjwdl5gDHb3uiiFThd8c+1GrWW1mrIg+pqtvOdYcDD4jIUPxWvSXtlPt70AX9logMbnV8tqquCOJ4F3/jYPBb9lr2/D0O2LNVbDUiUh3cf0JVE0BCRFYDretuk6pOA6YB1NXVZfLp067z94cfzMCfG73t55nAtw/pTu3GlD5hJ8L0wdNmQh+/bbemeIQkTpTD8hydMcXleAbxFO+TRgm3kc45JBjH4BJL9Up7eZWuynQdvbuBy1R1Y/C4L3Cjql7Q0WnA3ar63W3qurLVeD+3nRgcYGN7LWBsvSXbtm4FblLVR4Ou2GvbKZfYJta2jnutHrcel+gAh6lqc+sKg8Sv9fntvb6c+d4EuOUVWKvB1T38lQ9DcOquMKztzzVjeg1HopTLGSSYSpoKnDb+4Ke1gWqqKAudUoAIjSkee8gARmkN79KIS4xQ8HGpQII0VShfljGFDbKLYkQYx6BCh5E3mSYh+7YkeQCqukFEDujknGeAR0TkZlVdLSL98Lsz27Ol5XlV3SwiS0TkLFV9SPwMal9Vfb2d82paPa4FWqbKndtJjDtqOnAx8AsAEdlfVV/roPzHry3XQg58cAmc8Vd4+l1wPagIwzcOhp8dm48IjCl+MeccKrwXadR5JOlHSMpwEFw8VDdRSZIq+X4n4/iM6fkcHH7qjOfb3it8SBNJQv6ak6SpxeFi2YfRJbaWXjNp3qT3zEzMNNFzRKSvqm4ACJK2Ds9V1beCiRXTRcTBnwf6jQ5O+TNwezDp40z88Xy3BXVEgufbSvQeAx4Wkc/gj6G7Fr/L9yPgP0AuvmpcCvxGRObh/zvMwh/H2CZVXSciL4jIm8A/cjkZA6A8Ck8GHe2eglNaLerG5JwjldQ4vybs3kSc6SR0AwhEVShjBJVyMWWh4wodpjFFoQ+V3OZMpF5X8Q9dThKXPaUvk2U41VQUOrwdoiWyNEo2SKtVU9ovJPIV4HvAQ8Ghs4Afq+ofcxhbr1RXV6f19fWFDsOYXsPTDbj6GpDAYRCO7I//3dQYkw8iMkdV6/J1vV3r9tFb6h/NSl0ny9i8xr4jMp2McY+ILMZfjsQDzlfVl3IamTHG5IEjfXHk6M4LGmN6hGZc3mBdocPIm4y+tgZLi/wO6A8MAn4nIpfkMjBjjDHGmFzoTTtjZDpG76v4a9M1AojIz4CX8Ge4GmOMMcaUhHLC7M2AQoeRN5kmeoK/WEcLF1tJ1BhjjDElpok081hf6DDyJtNE7w/AyyLyt+DxZOD3uQnJGGOMMSZXpGS6XbMh08kYN4nITPwtwwR/MsaruQzMGGPyIrEOmj/E0xROuAYqx4ATLXRUxpgcKSfEvvQrdBh5k/GuDao6F5ibw1iMMSZ/khtZsfJm3ozUs7Y6guc4lCXS7PxhlD0rp1DW/3gQG6FiDEATSe5iBs+6G0l7DmNCHpc6RzCGnQodWpc14/IaGzsv2EPkdXsukx9JF378KtyzEDbHYXgNXH0AfHHnQkdmTJFIbuTN5Rcxd3CSVLgaPAdUiVfEeK3KY8mWWzhx1Voqhnyp0JEaU3CvsZgrEvNZuWUnNjXuinrCm7FGXqpewKkVs7nGmVzoELtEEdvrtjcQkTrgK6p66Q6e/z1V/b9Wj19U1cMzLZ8raQ+OeAxeWxZscSvwThOc90+YUwc3HJzrCIwpfutWTeXVwUlSTpSwq/g7dwKqqCtsrK5i5oZ7ObnpCKgYWdBYjSmkJpq4MjGfxavGkXTLiIQTSEhpTlawdPVu/G3AEnapmcUXmFjoUDNWQYj96FPoMPKm1yZ6qloPdGcLiu8BHyduHSV5bZXPldvf8ZO8igiEW31hiSdh6lz45t6wU2nuWGNMdiQ3Mi/0AqlQDWFv+52BBMCFtbUVrF/7F/pVfDPvIRpTLKZ5M1i+eTgpt4yyaPzj45FwCs9xWbVhBH+MzeULJTSstQmXV9lU6DDypsdNOxGRShF5QkReF5E3ReTzInKQiLwYHHtFRKpFZJKIPN7qnDtFZLaIvBrsm4uInCcifxWRp0RkkYj8PDj+U6BcRF4TkfuCYw3Bz6EiMit47k0RObKt8rny+wX+B1V4m1bpsgik0/C7t3J5dWNKQPNHrK4O09HujyGEtIR5P/1C/uIypgjNcBvZ1NiXSCSx3XOO45H2QqxL9GUzmwsQ3Y5RbMHkUncisFxVTwEQkVrgVeDzqjpbRGqA5m3O+T7wrKpeICJ9gFdE5F/Bc/sDBwAJ4B0RuVVVrxaRi1V1/zau/yXgn6r6YxEJARWq+lwH5RGRKcAUgJEju9dN1JBqO3sXAQQ2bP9eNaZ3URfPcfC/EnWQ7YmSFhdUbVKG6bVSOKAOIu28VxQ8QjSTpia/oe2wCkIcQG2hw8ibnpjovQHcEOze8TiwEVihqrMBVHUzgGz9h/sE4DQRuTJ4HANaMq5nVHVTcM5bwCjgww6uPxu4U0QiwN9V9bXOAlbVacA0gLq6ug4+eTp30CB4b832n02e63+sHTeiO7Ub0wNEqonFUzRVx9rN8xT//dLXG2BJnunVdnJSLIg0k0pHCIfdrZ5TBUeU8nAT/UsmzYMmPOawpdBh5E1ptDt2gaouBMbjJ3w/AU6nw6/tgP83/QxV3T+4jVTVBcFzrdvAXDpJjlV1FjAR+Aj4o4h8ZQdexg67bjzEyqAxDp7nH0u7sCUJI/vDaZbomd6uYhS7b+mDIx5uO38a0iJUxOOMrb0gz8EZU1wuCo1nYO1KXDeK533ypUcVkqkYVRWb2CfaQLjE2o2s67aEicgwYL2q3huMm5sCDBORg4Ku22q277r9J3CJiFyiqioiB2SwIHRKRCKqmtrm+qOAj1T1dhGpBA4E7mmvfLaNrYEHToILnoX1W/BTXAf2HAL/OMUaJ4xBHHbvcwnvbfwRq/tUk3b9GeotHbmuCFFNsd+6PoRGHFDgYI0prAPYjSMrXmdGvzJWbRhCipDf4q1QVbGJsX0XcX3olEKH2SUVhDiwhFogu6vHJXrAPsAvRMQDUsDX8f+G3yoi5fhJ3nHbnHM98Etgnvh9uu8Dp3ZynWlB+bmqenar45OAb4tICmgAvtJJ+aw7aTh89GX4xzL4cIvfnTu+9+zfbEynQn0O4fi1l/D8ultZURsjGQ6DCoJSHY+z34a+7D70RgjFCh2qMQV3Y+gsfl0zncdi89iQ6oOnDuXhBvYp28SPQyfTl8pCh9gljXjU01joMPJGtKOpZybv6urqtL6+O6u+GGMyFl9Fw4aneD/1T9Jeij4MYUSfcwlV7wOhskJHZ0zRWc4amogznKHEstRWJCJzVLUuK5VlYEjdvnpO/eNZqetGGZXX2HdET2zRM8aYzMQGUzX0XPbm3EJHYkxJGMbAQofQbRU41FFV6DDyxhI9Y4wxxvQajSivbDdUv+eyRM8YY4wxvYpbIjNms8ESPWOMMcb0GpU4HEzv2QvUEj1jjDHG9BqNeLxMvPOCPYQlesaY3ksVnp0KL90E6Sao2Rm+/GcYOLzQkRljckQR67o1xpge77Hric//IenhIdKHR9AQOI31RB8ehbMqRNkVa6C69+yHaUxnlrKCP/MizbgcykhO5NBCh7RDKnE4hPKs1DU1K7XkliV6PdT0j+DqV2FDCsZVw28PhZG9Zza5MR17+Ds0r7mBpqMr8GKCJAEP0lUhksMiRFekkVv6EP1WI5T3nrE8xrSlkUa+nPwL61P92dg0DNcL8c/YZn5V/iCXR8fyKYp6GbntNOLxkiY6L9hD9JpET0TOA+pU9eIs1jkZWKiqb2Wrzmw4YTo8vT54oPB+AkY/DjftA5fvVdDQjCm8pkbiy35B44QKUMFp+OQpSfs/k8PC4JbBDbsQ/Z/lhYnTmCLxheTfWbpxD9Y39kccDwdlQ1N/VoeH8fMBC6ktL+dQSufDRRHUs65bk5nJwONAxomeiIRVNZ2rgKa+EyR5LoRa9rVVcIEr3oALd4PKSK6ubkwJuOvzJEdH0ZDgtLOUljRAaliEsndXQioFEXvTmN7pXp5hddNQ1jUMoDzW3Gq/9BTJZIQP14/lJwPn8ki0dBK9KoRDyc7ON7/LSi251WMSPRE5B7gUiAIvAxfh7zP7XWAFsBBIBGXvAh5X1YeDxw2qWhXcvwr4MuAB/1DVq0XkQmBKUPfi4Pn9gdOAo0TkGuAMoBr4LVABvAtcoKobRGQm8CIwAXgUuDFX/w4/fhPQVkleIISf7F3yCtw5IVdXN6b4JdY+QaquEulg0p0AXkhIDwnDs7+FT12St/iMKSYPJlewbssBRCOJVkmeLxpN0RSvZEuqD03RFBWUxheiBlVe8FKFDiNvekSiJyLjgM8DE1Q1JSJTgXOA64DxwCZgBvBqJ/WchN9Kd4iqNolIv+Cpv6rq7UGZ/wW+qqq3isijbJ0wzgMuUdV/i8iPgB8Clwd19FHVo7L4stu0IQ10sH3xgk25jsCYIlcG6oB0ts23q3jlDqxZmJewjClGaYmQSkeJxpLtlBBSXpT1rKOCIXmNbUcpguda122pORY/oZst/leOcuBwYKaqrgEQkQeA3Tqp5zjgD6raBKCqLSPd9g4SvD5AFfDPbU8UkVr8ZO7fwaG7gYdaFXmgvYuKyBT8FkNGjhzZSYgdqw1Bs0e7yd7ONd2q3piSJykQFVQ6SfYcwWn2oP/OeYvNmGIT0jSRcArXdQiFvDZKKBEnRT9K58OlCuFwJ5qVuu7MSi251VMSPQHuVtXvfnzAnyhxejvl0+AvoiN+ZtjyGxfaTpHuAiar6uvBpI5JOxBjY3tPqOo0YBpAXV1dZ+0MHbpqHHzrDXC9rbtvXfwXd8uB3andmNIX7XMc4eXPkRoZgab2y4mnhFe5cPrX8xecMUXmM9GBrK5azbKNIyl3mrfqvk2lwlREmqmKbKSihHaaaFDl+VTOhsoXnZ7SdvkMcKaIDAIIulxfBSaJSH8RiQBntSr/Pn4LIMBn4OOBBdOBC0SkolU94I+9WxHUc3arerYEz6Gqm4ANInJk8NyXgX+TZ9/cCw6vAcLgSnBzQBy4fhz0K533ojG5cf5fiS5NgatoO191vUqIrErjrO8H0ewM2jamFP0XJzCo8iP6VayjOVFOMhkhlQrTHI/hoIzo9x7fiu5T6DC7RsFznazcOiMiMRF5RUReF5H5InJdcLyfiDwtIouCn31z9XJ7RIueqr4VTIiYLiIOkAK+AVwLvIQ/GWMu/pwEgNuBR0TkFfwksTGo5ykR2R+oF5Ek8CTwPeB/8Cd4LAXeIEjugD8Dt4vIpcCZwLnAb4NE8T3g/Fy+7va8cDI8uASunQfrkrBrpb+O3t79Oj/XmB6vspryfl/Fm3sn8f1jeJWCJAAFDQuElciaNOVz40S/taLQ0RpTcHdHT+P8vo/Qr6ofGxoH4HohqmKb6Vu+jv8qG8wk9it0iF1SKcKEcHbSn3s6L5IAjlHVhqCx6HkR+QfwWeAZVf2piFwNXA18JytBbUNUu9VTaLKsrq5O6+vrCx2GMT3fg98kvvRXpIaHSQ8L+8utNHpEl6ZwlnvELl8LfezbkTEtFrCEe3mZRlwOYzifJzvzC0VkjqrmbdXl/geM15NnvJiVuu7tG8s49qAR6Hng6/g54iRVXSEiQ/HnFOyelaC20SNa9Iwxpss+dzMx70Zif/8BPHMHSW0kWjkGzn4IRowrdHTGFJ1xjOHHjCl0GN2noF6o83KZGSAirVtnpgXj7j8mIiFgDrAL8BtVfVlEBqvqCoAg2RuUrYC2ZYmeMab3chz47P/CZ/+X7MzBM8YUuypHmBjNzhSF+2BtZy16quoC+4tIH+BvIrJ3Vi6eIUv0jDHGGNNrNHgwqzn/w9ZUdWOwgcKJwCoRGdqq63Z1rq7bU2bdGmOMMcZ0TvGXo8jGrRMiMjBoyUNEyvHX630bf5esc4Ni5wKP5ObFWoueMcYYY3qRKgcmxqTzghm4r/MiQ4G7g3F6DvCgqj4uIi8BD4rIV4EP2HoJuKyyRM8YY4wxvUaDB7M6WCw9m1R1HnBAG8fX4e/qlXOW6Bljei1NbcRtuoNU6gmEOCIjiZRPwSk/hu12cDfG9AyKv11UL2GJXg+lCisS0OxC3wj0symFxmzFbXiQePzbeNKEOhEUB4clpJpnEG7ah7Lah5CIraNnDMAqGrk79SGzvM2k8BgjMS6MDOVAGYRQWl+KqhyYmKVdojLoui04S/R6oJUJuHUBvLoSEimoqYDjR8B5O0NF1pYOMqZ0uU3PEI9fhhsKIwzYalaah0dK56GbTqe8/7Mg9qYxvdtbuo6LkotY50XwXL/V4CPHY7Yu5SvOBi6N7F5SyV6DB7MaCh1F/vTKWbci0mN/xZtT8D9z4bl3IZaCQWFwG+BP8+HXC/2WPmN6u2TTtbgOOFRt9/HkiIM6/XB5C7fpsYLEZ0yxSOFyReJd1rhlRN0QMRFiIpRpiEQqyj3eZuZqzlYGyY2Wrtts3EqAtegVgIiEggUUs+6ltbBgFYyohFCQxteUQzgOzy6FL46GEeW5uLIxpUETb+PKQqCm3TKOOHhOmGTzbZRXTs5fcMYUmf94q1iBQ9hz2PZbUZkICTfM7akVjI8OLkyAO6AqBBOrslOXdd0WORGpwl+7pi8QAa5R1UdE5Cogrqq3iMjNwH6qeoyIHAucD8wA9lbVbwb1XAiMU9Vvicg5wKVAFHgZuEhV3aAV8SbgU8AV+PvdZV3JhBOmAAAgAElEQVT9OijzPknyWlTEYFUjLGmwRM/0bpp+BwUc6ezPXxTVZfkIyZiiNddrwFUh2k7PrHoOSzSe36C6qcGFWZsKHUX+9Mqu21biwOmqeiBwNHCjiAgwCzgyKFMHVIlIBDgCeA74M3BacAz85O8PIjIO+DwwQVX3x2/YPTsoUwm8qaqHqOpWSZ6ITBGRehGpX7NmTbdeUEUIvDaOq/qTCGM23Mj0emWA0tkoBhUP6fV/Ik1vV97yHuhg3E+o1N4niv9BmY1bCSix307WCfB/IjIP+BewEzAYf/Ph8SJSDSSAl/ATviOB51S1EXgWOFVE9gAiqvoG/po444HZIvJa8HhscC0X+EtbQajqNFWtU9W6gQMHdusFHbcTEIXmxNbH1zfB0D6we3W3qjem5En0UBwtwyPRcTkvgRM6PE9RGVOcjg8PpMxxSWobTXqqOCGXSU77wyCKVi9K9Hp11y1+a9tAYLyqpkTkfSDW6v75wIvAPPwWv52BBcG5dwDfw9/K5A/BMQHuVtXvtnGteK7G5bU2rgom7wp/XQjRBr8/uhmIVsCUPaA20lkNxvRsEulD2DkWz30CDZW1OVfQI05IHSJVl+c9PmOKyRhqOVSizIqkSKYiRMXvHkorpB1loJPi3MiIQofZJVUhmJil3NTG6BW/WmB1kNgdDYxq9dws4ErgAuAN/PF1c1T99mtVfVlERgAHAvsG5zwDPCIiN6vqahHpB1Sr6tI8vR7CDly0KxzQFx79ENYlYWwVnDEK9izBL13G5EK0+hd4m14j7S3Hc6oRogh+h65HAyE3QTR8MU7ZuEKHakzB/SK6F1cm5/NyNEHC88f/hEQZicsN0V0ZTGWBI+yahjTM2lDoKPKntyd69wGPiUg98Bp+61yL54DvAy+paqOIxINjrT0I7K+qGwBU9S0RuQaYLiIOkAK+AeQt0QOIODBxkH8zxmxPIgOJ1U4nufki0u6LeNKAAoIS8foTjX2fcPXXCx2mMUWhnAi/ie7PEjbxdHoNDbgc5FRzqDOYCCU68LtEul2zoVcmeqpaFfxcCxzWTpln8Hs+Wx7v1kaxI4CbtznvAeCB9q5pjCkOEhlEWf+HiSZX4CWno9qI44zFqTjeFkk2pg1jqGVKuLbQYXRbVQgm9slOXdZ120OJSB/gFeD1ICE0xpQoiQ4lFD230GEYY/KkIQ2z1hU6ivyxRG8HqOpGoK0WPmOMMcYUO+u6NcYYY4zpeapCMLFfduqyrltjjDHGmCLSkIZZ3duboKRYomeMMcaY3iXnq9oWD0v0jDHGGNNrVIVhYvc2ofqYdd2agkokYFkCdraFko1pUyObWcg8lrCIFClq6cM49mM4uxAq1fXBjMkBF4+7Ugu5rWkTSUIcGPL4RdWeDKT0Vg5rSMGsVYWOIn8s0euB7l8MZ/8Z2Ay4nr+Ccj+IXwZlZYWOzpjisJJlPMvjpEhRTiVhoqxnAzN4ipGMZiInE8b2DDTmQzZy3IZ3Wd0wjGR8CABLwi7/avqIS6vTXFW+V4Ej3AHWddtzicjlwDRVberieQ07uuixiJwHTFfV5Ttyfle88AGcfRew1oM0oIDjwWaI/cJBr8l1BMYUvwTNzOQJhBB9qf74eIQIHhUsZSmv8QJ1TCpckMYUAQ+P49a/y7KNY8AVnFAaccBLC+s2DeEmXcuE8g+ZQOnsd1sVzt7OUdZ1W5wuB+4FupToddN5wJtAzhO9Ix4A1gVJntPqiSSw1uPYJx2eOTnXURhT3JbwNgmS9GX7NRYcHKqpYSEL2I/DiGDN4Kb3+pu3hDXNQ9G0Qzia/vi4E1bES7FlSz8uiy2kvrZ0Er2GFMxaWego8sfpvEjpEpFKEXlCRF4XkTdF5IfAMGCGiMwIyjS0Kn+miNwV3B8jIi+JyGwRuX6ber8dHJ8nItcFx0aLyAIRuV1E5ovIdBEpF5EzgTrgPhF5TUTKc/qiN7F9kkfwuBmeXZjTqxtTEj7kPSJE230+SoQUadbRiwbyGNOGqc1rSDSXEwqnt3tOHPA8h3WpKhQtQHTd4GbpVgJ6eoveicByVT0FQERqgfOBo4N9bjvyK+A2Vb1HRL7RclBETgB2BQ4GBHhURCYCHwTHv6iqF4rIg8AZqnqviFwMXKmq9W1dSESmAFMARo4c2Y2XS8erfSt+y54xvZyHhyAZlTOmN0t5Aiq093YRUTwEpd0iRacqDBOHZKcu67otvDeAG0TkZ8DjqvqcSMb/FScAZwT3/wj8LLh/QnB7NXhchZ/gfQAsUdXXguNzgNGZXEhVpwHTAOrq6rr3tagaWIef8LV+qS5QDmV9u1W7MT3CIIaykpVUUtnm8y5pBIe+DMhzZMYUlxPDMV4vS+Imwkhk6y8+6vkfM5XhJpySSfOCrtucD6QqHj2661ZVFwLj8RO+n4jID9oq1up+rIPnWgjwE1XdP7jtoqq/D55LtCrnUoBE+psTgZogShf/FbhABOjvEL8w3xEZU3x2YS8Eh2Q7Tdxb2MIoRlFegktHGJNNV5TvRb+K1XiEUPeTZE49SKcjxCoaubKyuoMaipR13fYMIjIMWB90nzbgT4rYgt/u1dJ1u0pExgHvAKcHzwO8AHwBf+LG2a2q/SdwvYjcp6oNIrITkOoklJZr5txNE+BPCx1WLga2BJMyyoBah/vOyUcExhS/avpyCBN4iVlEKaOSSgQhSYpGNlNNDQdxVKHDNKbgygjzy9pKvqEr2LhlEG4qDCgiUFm5hbraZZwfOaTQYXZJVQQmDstOXdZ1W3j7AL8QEQ8/Gfs6cBjwDxFZoapHA1cDjwMf4s+MbfkKfxlwv4hcBvylpUJVnR4khi8F3cANwDl0nNvfBfxWRJqBw1S1OXsvcXsrzvd/Hj/dYd4GOHc0/Ly03ofG5Nzu7E8lNbzBK6zG3/gyQphx7MM+HEx5O926xvQ2n4mMYd+BG5hS8Q7vxStQhEonzrW1/fisc0hG412LSUMSZn1Y6CjyR1RLbKZMD1dXV6f19W3O2TDG5EicRtKkiFFpiyQbk2ciMkdV6/J1vf671ulJN2Xnc/a+0/Ib+47o6S16xhjTqZi13hnTa1RFYOLw7NRlXbfGGGOMMUWkIQmzlhY6ivyxRM8YY4wxvUsvWiLTEj1jjDHG9BpVUZjYzb0JWljXrTHGGGNMEWlIwKwlhY4ifyzRM8b0SqpK85IlbHr4VyTf/hsucUJlI6j+9PeoOfIEwtUluAisMaZzLRsJ9BKW6Bljeh03HmfVTZfjhW8nNiFC7CwHdYD4W6Tf/BIffC/KgPOeoWb8wYUO1Zii8R8WcxtvEfeEI51qvsFRJbeGHkBVGUwcnZ26rOvWFMy1r8INr0DchQExuON4OHVEoaMypvDUdVn5828Q2fOPhA+J4SIkkwKuQFSJHOLRZ2+X9XcejkTrqd5n/0KHbExBrWYTpzTWs4phJNgfFJ5zUtzCbK6u8LiAQwsdYpc0JGDWe4WOIn+Kaq9bETlPRH7dxXOeFJE+nZT5kYgc18Hzk0Vkz65cNzhvkogc3tXzcm3YXXDdS9DoguvBqjh8+jE499lCR2ZM4TXOn4/0uZvwIWFSSQdtFsQF8RRJQbrJwa1wqPlKhLVTv4h6vWh6njHbUJRPNc/lA92FxnQ1Xgq8tJBMlrHeG8r1TRU8ybxCh9k1LV23ttdtaVDVkzMo84NOikzG3wbtrW2fEJGwqqbbOW8S/hZoL3YWQ4b1ddtVr8CKJvz/gC0t6sHn1D1vw/UHwUgbemR6sY33X0f55yKk1UHa+UPtNQuhWoeyPRfStHgRlbvtnt8gjSkSU5nFKh1BOh0i7HjB54oCipeGhnBfrku8xcll+xY40sxVlcHEsdmpy7putyEifwdGADHgV6o6TUTOB74LrAAWAomg7F1AM7AHMAo4HzgXf6/al1X1vKDc+0Ad/h61/wCeBw4HPgI+o6rNQV2Pq+rDIvJT4DQgDUwH/ho8PkpErgHOAH6Pn7xNAB4VkYXANUAUWAecDZQDXwNcETkHuAT4ALgTGAisAc5X1Q+C668HDgDmAldk6Z90O7fOCe5sO2wi2Onuwn/DP0/N1dWNKW5uPE6q8UkqBgoadxDa3gJSAFeFyL5hGp9/3BI902v9MREn5ZYRcrZv2XYc/32y2h2Kh4dTXJ2E7WpIwKzFhY4if/LdoneBqq4XkXJgtog8AVwHjAc2ATOAV1uV7wscg5+IPYafeP1XcO7+qvraNvXvCnxRVS8UkQfxk7Z7W54UkX7A6cAeqqoi0kdVN4rIowSJYFAOoI+qHhU87gscGpzzX8BVqnqFiPwWaFDVG4JyjwH3qOrdInIBcAt+ayHAbsBxqrpdG4KITAGmAIwc2b3FfeJK2wtBBonfkk3dqt6YkqapFKHKFEoM6WSfb1VwYoK7eV2eojOm+DRpBYrgtPOlCA+8UJhGmqimKr/B7SibdZtTl4rI6cH9EcCXgZmqugZARB7AT4haPBYkV28Aq1T1jaDcfGA0sG2it6RV8jcnKNPaZiAO3BEkmY93EOsDre4PBx4QkaH4rXrtrcBzGPDZ4P4fgZ+3eu6htpI8AFWdBkwDqKur6/jTpxM1YdicZvtkL6h1/ODu1G5MaXPKynA3leN4HmlHkA6G3zkCugVCA2wWk+m9+soWVoiH5/nvie0IhElRWUL7RVfFYOIu2anLum5bEZFJwHHAYaraJCIzgbeBcR2clgh+eq3utzxuK/bWZVz87tWPqWpaRA4GjgW+AFyM32LYlsZW928FblLVR4PXcW0HMW91yXbqy5mfHQlfn9Hq6hL8DFrUb5+YjyiMKU5ONEps1Pm4y6bhjBS0ue2lIVTAEY+mV5L0P+eUPEdpTPG4smwoX3ebafYqEbytRgV5Hjhhj5HOhzjsV7AYu6ohDrPeKXQU+ZPPDvVaYEOQ5O0BHIqfiE0Skf4iEgHOymUAIlIF1Krqk8DlQMu6CVuAjqYo1OKP+QN/nGCLbc97ET+BBH8c3/PdjbmrvjYOJg3D/82GWv0UmDrR3/rFmN6s9qzLaJqZJuR5aBvvBxUIVXh4Kzy8NZOIjbAWPdN7fZoDGO28SySUxMXBVQfPE1wcCEOts5LbYqWT5AF+44eXpVsJyGfX7VPA10RkHvAO8B/8CRjXAi8F9+fipyW5Ug08IiIx/LaubwbH/wzcLiKXAme2cd61wEMi8lEQ95jg+GPAwyLyGfzJGJcCd4rItwkmY+TqhXRkxmSYsw6mPAurGqBuGNxzNNRYkmcM5WPHUjbk58SfvIrYiVGoENKug3rghJWwKN4qj013lbHT9+9tGbNrTK81K3YSn44/wduMoFkq8XCIaoIBzgruKB/LHpTWl6GqGEzcrfNymSiFrlvRTgYkm/yqq6vT+vr6QodhTI+mnsfaP99BwyuXUnGkEtnNb53wNkPi5RTJt/dg6PeeIjZ8eKFDNaZoNJLkYWazhSTHMJY9GZWVekVkjqrWZaWyDPQfVacnXZ2dz9n7Lspv7Dui5NfRM8aYrhLHYeCXptDn1C+w+bmnaLr/L5BqJDRwF/pM/hoV39gVCeWyc8GY0lNJlHOZUOgwus9m3RpjTO8Qqamh/ymfg1M+V+hQjDF5UhWDiVlaGrMUum4t0TPGGGNMr9EQh1nb7YPVc5XGMtbGGGOMMdmQx1m3IjJCRGaIyAIRmS8ilwXH+4nI0yKyKPjZN7sv8hPWomeMMcaYXqOqHCZ2tIJvF2TQdZsGrlDVuSJSDcwRkaeB84BnVPWnInI1cDXwnexEtTVL9IwxvZam0zQvXkzi3bfQZJxQv8FU7LUfkQEDCh2aMSZHGpph1vz8XEtVV+AvH4eqbhGRBcBOwGeASUGxu4GZWKJnjDHZ0/D6q2x5dCqp/tNpHuOiNUJkjUvZb4dTNuwc+p55HuGamkKHaUzR8PBYwVripNmJ/sQoK3RIOya7s24HiEjrtVqmBduabkdERgMHAC8Dg4MkEFVdISKDshbRNizR66HiabjlbVjWAIcOgi+NLXRExhSPLf95kQ0z/5u1k+NsGTLQ36sw2CowPCHFwNk/IXXbYgZ9/X8t2TMGuNN9nif1A5Lq4IkQIc0YKrk2fCw1HW4sVXyqymHiXtmp6z5Ym8k6esHOXH8BLlfVzflciN0SvR5o6gK44mVIBt9Yfj0fLnsJpp8IB/QvbGzGFFpy9Wo2PfNtVn3epamm9v/bu/Mwucoy7+Pf36mqru6ksickAcwGIYAgYdKy08QBFMYRXEB8R5RFjY4izqsMLrigDI6+jhGBAQzIi0pUEAEzOigahJY9CQlhmwCSsAZCZ69eqqvq3PPHOZFO051O0tW1dN+f6+p01XNOPeeu7pw+dz3LeUhlc9uv35kIWHvUXsCvSN06iwlnf6ZSoTpXFb5Z+C1LaKU1HEneUvEsziLtQQfzCotYkDylppK9bDs0ryzf8eIlXn8NLDSzW+Pi1yRNjlvzJgPrBur4Put2J0maK+moLs8/JemjlYypJ0ta4F8egHwR6pPQkIS0YEM7nHhHpaNzrvKyD/2F1oPW0Dp6OKnW7ZM8gKAYkmzL0zJnErkXbyS/YUNF4nSuGvyVV3jEtrK5OAoISKlIQkUSgrawgc1Wz/zCPZUOc9eUd9atgB8DT5nZ/C6bFgFnxY/PAn7TvzfVO2/R23lzgSxwP4CZXVPRaHrxpSVQtCjB2yaRiJK9jbmote/TJZpt5FytsTCkY9mtbP7IaIKOwpuSvG0SxZBcQx0d+6+h/YmVpI6dW84wnasaCwpLaaeBRA9ZTUJGW9jAymAjBUKSNdJ2lGmApoNLU9dOzLo9GvgI8JikFXHZV4DvADdL+hjwAnB6aSJ6s5pN9CSdCZwP1BENbLweuBY4DEgADwNnAKuBK4CDid7vxWb2G0kJ4LvAu4jy+2vN7ApJa4BGM2uR1Aj8B9E06E8Bxfi4nwWOJ0r8fgf8xMwOi+OaBiwys7dJmgPMBzJAC3D2tsGXA+XJjfR48QoCIIR713mi54Yu6+zEbC2dw+pI5PoajW0URicobBywHhXnqt7L6qAYNtDbkLIiSUKJDjrIMKy8we2mbDs0r+h7v1Iws3vp+bIMUR4x4Goy0ZN0AFESd7SZ5SVdBcwiagr9N6ABuNHMHpf0beAuMztX0mjgYUl/Aj4KTAcONbOCpLG9Hc/M1ki6Bsia2X/EMRwfb3tKUp2kGWb2XBzXzXGf/BXAqWb2uqQzgEuBc3t4P/OAeQBTpkzp188mUwevt/e+fXyNTpJyriQSCWTDCML1WKCo+btXIsiFKN1QtvCcqzb1JqQQrOe1n0WIMFKkyhxZP/hatzXheGAOsCSeudJANJDxW8ASoIOotQ/gncApki6In9cDU4ATgGvMrABgZv0ZiHMz8EGiptgz4q9ZwEHAH+MYE8T30ukunoq9AKCxsXFHV54+fWJ/+PJDUCxGXbbbdBYhIfjiQf2p3bnaFqRSJPc8lpFrrqZl5njSrbke9zMgMKN+dT31J3sTuBu63pucwdX559hq9SS0fXZkBukgxyilSNdQopcZBk2HlKYuX+t24Iiou/TL2xVKk4i6SVNECV1rvO8HzGxVt31F9Pe8uwJvTFKp38l4bgJ+JelWwMzsGUkHA0+Y2ZE7WUdJXHgQLHwWHl8PKsC2RgsB5x0Ie2XKGY1z1Sdz3Cm0L76KjfsaxUSCRLHbxQvozNQz6uWNJFtPpn769MoE6lwVeBezuVGryAftdIT1BIRIEJpAxnC18anEnEqHuUuybdC8vNJRlE9tjJx8s8XAadtuMBivGTeVqFXsa0RJ9nfjff8AfDZO7JB0aFx+J/ApScltdcTla4haCwE+0OWYW6Hn+eNm9leihuCvESV9AKuACZKOjOtPSSrRnXt2bNk/wpdnw+ThMKwOZo2BG+fCZWVNOZ2rTg0zZ9KQOo/J97yCpRPkMmnCRHRvsHxdks4R9WQ2ZBl3R4ZR7/lnlOi5y8q5oSBFgvnJkxmndkYmtpAKOkkoz7CgjXHBRs7WfhzBfpUOc9eUcdZtNajJFj0ze1LSV4E7JQVAnmhqcsHMfh5PtLhf0t8DlwCXASvjZG8N8I/AdcB+cXmeaCLHlcA3gR9L+grRJI9t/gu4RdKpRJMxursJ+B7RuD/MrFPSacDlkkYR/awvAwZ84ZVkEv5tTvTlnNuekknGfeQz8LOA1M1XsvXQIlumjcaSAQ2tOUY/9Cr1T8xkzMn/wfC3+lgH5/ZkDAuTZ3A/q7i9+DQ5K3KwxnNm4nCG7XTHV5UZQmP0ZNavIWGuxBobG23p0qV97+ic6xcrFOj461/ZevdvKLx0HwQ5CCbTcPj7ybz9KFLj/O7izpWDpGU7s7pEqUzdp9Eu+vfSXGc/eUZ5Y98dNdmi55xz/aVkkoZZs2iYdSFWLGKFAqqro5xLEznnyi/bCs1LKh1F+Xii55wb8pRI+Fg854aSGhlfVwqe6DnnnHNuyMgMg6YSdbb67VWcc84556pIthWaH+p7v8HCEz3nnHPODS3edeucc0PA+tXknjuftpH3YokiqbYR1CW+TnrmR6HOlz5zbjDKDIemw0pTl3fduopa2wZ/bYW3jYSRvsatc28IQ3IrPsna6beTPTRDq/YmlKizTjKFf2Pcc//K+LFLYI9ZlY7UuarQRo5ri8/w3/kNFDCmq54vpvdlJrV3G6JsFpofqHQU5eOJ3iB072tw4m+gYz3Rgm5peMuesOoMaKid5QidGzC5lRfw4v6/paV+MlkbTsoKyKBdDWxOjaRjZj3F59/OxIZnYcQelQ7XuYr6H1qY1/4oHZ1JOvN1GGJzIs9ZhRWcmt6DLyYPrnSIu8YYUjdM9kRvF0m6Dpgfr87xFTP7dqVj6mrNFjj258A6oiQPQPDiFphwA2Q/UbnYnKsKHVk2jL+ODfVTaA8bSJP/26aUFcGgJRhLckqe0Y+eR3rOzRUM1rnKKlDkkx0rybbV0xmmCeKFUzuLSTpa67ndXufIzEs0sXdlA90FmQw0HVGauhb+qDT1DCRP9HaBpISZfbxL0VeAXUr04joG7LPEaXcBLUSfVrq23uWgdS38/6fhnBpbltC5Uso9+2M27zeKLMNJ9fKxPhmGZIMRbBx3B5PyOUj52Ac3NP13+Dwd+YDOYj1BostKWoIgAblcPd9PrqapvnYSvWwWmu+vdBTlE1Q6gEqTdKGk8+PHP5B0V/z4eEk3SspK+pakh4AjJd0tqVHSd4AGSSskLYxfc6akh+OyH8Vr7tK9joF8P8tfJGrJ657CJ4EOmP/YQB7dueoX5m8jF9Rj1vsKGAFGjjpaxw6D1vVljM656nJ74XUKnantk7wuOot1bLBcmaPqp21dt6X4qgHeogfNwBeAy4FGIC0pBRwD/AX4MPC4mX0d+NvySGb2JUnnmdnsuPwA4AzgaDPLS7oqfu1PgeFd6+hO0jxgHsCUKVMG6n0653aV/e0f59wgkclA01GlqWvh9aWpZyB5ogfLgDmSRgA54BGihO9Y4HyinP3XO1HP8cAcYEmcDDYQjZSjrzrMbAGwAKCxsbFfV5VD3gLLXwXybP/bzQMj4fM1NmbWuVILUqeSDuejpPWaw4WINDmGb2yDvWpvVqFzpXJqcgJP1L1ArqOeIHjzCVOX6GSsamtoQzYLzfdWOoryGfJdt2aWB9YA5wD3E7XivQPYB3gK6NjJMXUCfmJms+OvWWZ2cbxtZ+vot1/9PTAeSBAld3mirtx6GDbZx+c5l973E4xat5kMrRToeX3bQhAwMtzKmPUnQaq+zBE6Vz3eHUylPhVSF+QIu95k2CAsQjrdwefrp1csvt3iXbdDUjNwAXAu8BgwH1hmZratq7YXeUmpOFlcDPxG0g/MbJ2kscAIM3t+oIPvap+RcM//gXctgo4WoiSvAfaaDKtOL2ckzlWp+gxjX/8YbWN/SVgfvHF7FYyCEiBjnG1g3PMbSO/3n5WO1rmKSpLgmvqD+aStpKMzH91exQJSyTx1DTlOSe/BcTU04xbirttjSlPXwp+Vpp6B5Ile5C/ARcADZtYqqSMu68sCYKWkR8zsw5K+CtwpKSBqS/sMUNZED6BpErTPgxeysLoNDhkFo2urZd25AZU+5PvsvXwziRn/RXZEhlZlCBUw3FrJFLYybvVWxo9+2O+h5xxwABO4o+EYrql7hj8U1lMMYWqQ5svp/ZnJ+EqHt8uyWWjemSv8ICEzH2hcTRobG23p0qWVDsO5oWH9c+RWf4a2kQ9CEJLoGEZaXyO979mQHlbp6JwbEiQtM7PGch1v3LhGO/nk0lxnFy4sb+y7w1v0nHND17gZpMfdgTd4Ozd0ZDLQ1FSauhbWwGK3nug555xzbsjIZqG5udJRlM+Qn3XrnHPOOTdYeYuec84554YM77p1zjnnnBukoq7bsO8dBwlP9JxzQ9fWzfDgD8mvvQ7UQZCcTuLQK2DmHEj0fDNl51yt23bH5KHBEz3n3NBjhi2+lFfT32XDW/dgy2HjCIOAdCHLqPXvZ9JNrYw48UmYMLnSkTpXFQzjJpZzTW4deVIcnCoyPziWYTRUOrRdFnXd7nAxhJ3mXbeuItryMPkXsGUT0QcXQeN0WPKeSkfmXHWwxZeweu+reXnv/elIpCE0AozWdAOb9xrF5pM2M6N5H8Ye9yKM8bVu3dC2hnWcuPUF1ndMoiM/AwweS3WyqO55PjWyha8HJVpmokyirttCpcMoG5912wdJoyV9usvzuZJ+W8mYdqQtD8OvgS2vhdAeQlv0fekqI31tpaNzrgps2cQrDfN5ee+9yQV1pIpFUhaSMKMuLBIUjY0NY3jh6LdQvPNDlY7WuYoKMU7Y+iKvZGfQnhuBKBIERfKdKTa2TubKTXvyS1ZUOsxdNLQWu/UWvb6NBj4NXFWKyiQlzWzAPkpMuxnoCKMF2La1TIdAaHRm4cZnxZn7DtTRnat+9uD32XjQODoSdaSKbx6QLSBRLLJp2JIRVtwAABK1SURBVGhaJj3IxNatMHxE+QN1rgp8j3tp6ZhJWEyQTL5x6UomQ8IwJNs+lm+1ruVDwysY5C7KZERTU2nG4HrXbQ2S9Hng3PjpdcARwD6SVgB/BH4HZCTdAhwELAPONDOTNAeYD2SAFuBsM1sr6W7gfuBoYBHw/YGK//X1RIldT8MP8sa593ii54a2wqs/ZssRk9AOJt0FQCFIsmnqWCaufQ72PaRs8TlXTW5sE525BoLgze0TQQCFgtjQOZHi8JBEjXQSZrMhzc2dlQ6jbDzR6yJO1M4BDidKlR4CzgQOMrPZ8T5zgUOBtwKvAPcBR0t6CLgCONXMXpd0BnApbySNo83suF6OOw+YBzBlypT+vQmLv3qRz/eveudqXtBJGARoRycKYAgLAshlyxSYc9UnV0xjQKKXHM4As4CQ2kn0IrXR7VoKnuht7xjgNjNrBZB0K3BsD/s9bGYvxfusAKYBm4ha+P4oCSABrO3ympt6O6iZLQAWADQ2Nu746tOXJFFzRPf/w/GkjClj+lW7c4PAROoKnbTXpUlY76dbwookc3kYNamMsTlXXSYEm3g5KBIWRZB48/kiIJXIkaB2bkcUdd2mSlKXd93Wnp2db53r8rhI9HMU8ISZHdnLa1r7E9jO+vghcN0SQWhvdOEaUdpZF/DU+8sRhXPVKzX7ckZvOIetk3ofd5dXwLBiB5OWbYDTp5UvOOeqzGXDZ/APuc1sbRsLYYGgS6NdoRCQSOQ5ILGGgAMqF+Quirpuc33vOEjUUjtrOTQD75U0TNJw4H1EXbM7MxJ7FTBB0pEAklKS3jpwofbs2mNg8mRBOoAUcYIH1AecfwQMK82HGOdq16wmJi3bwKjcZvKJBN2H6uUVkFSRca+vIzPp237jZDekvZ19OLjuaRrSrYRhkkLhja9EImSPzAvcnCnRemJl5bNuhyQze0TSDcDDcdF1ZrZM0n2SHgfuIJqM0dNrOyWdBlwuaRTRz/Yy4IkyhL6dVz4Eq7fAYf8VsKkDDhwPS/8BUp7kOQepFCOPeozpDxxIcPg0ttSPJB9EfwoTZjSEOSa89hozlhwIp59f4WCdq7y7Mu9iXvKP/L5+Mm35EViYIJVoZ0pqDb/PHM4YamjKLdu6btMlqasWum5lOxij4sqvsbHRli5dWukwnBv8Wl4lf+f7WDftSbJ7jyFUQDLXycRl6xk54Rtw3L96a55zXRjGC7SwlQ5mML5kq2JIWmZmjSWpbCeMG3eInXzy70tS18KFe5Y19t3hLXrOuaFp/CRS//QAe23ZBC8+BZ1bYMxU+MC+kPQ/jc51J8RUJlQ6jBLwtW6dc27oGDka3trbHCrn3GCTyQQ0NZWmNbIWum490XPOOefckBHNuh0698f0RM8555xzQ4h33TrnnHPODUqZTIKmpkxJ6vKuW+ecqwWFNrAiJBog8D+Lzg1m2WyR5ubNlQ6jbPwvmnNuaLKQwta7WJf/PpsaXsQCo649xaT8u8gM/wKq36PSETpXVUKMDWTpoMhEMqRqNoXwrls3CDy7CT7+Z3glC0ftBVceCxm/YbJzEQvZtOGzPDPiPtYPHwUW3zIiCS9wL2/p+G9mtN5AcvicysbpXJVYGK7ilnAVnerEMBIEzLJJfCv5doZRV+nwdknUdTuyJHV5122JSBoN/JOZXbUbr70B+K2Z3bILr7kOmG9mT/ay/RTgQDP7zq7GUw6n3wG3rAAKgOCZ5+Eny+DG98KHZ1Y6Oucqr3XTD3lq5ANs0liGh52oy6f7PAHPNYwjaDuXfTqbUd2oCkbqXOX9oPgoi3mavFIULI0QEPJU8ArnFP/ETxMnkqZ2WhKy2QLNzRvLdjxJ1wP/CKwzs4PisrHATcA0YA3wQTMbkKBqZa3b0cCny3UwM/t4b0levH1RtSZ5v3wWblkO5AHxxm+4A868HdrzlYvNuaoQdvJq4qdsDkYx3DpRt80pjFQY8lJDAx2t11ckROeqxetsZTHP0mFpQksSxGmeCMiF9WTVyo+KT1U6zN1Q1rVubwBO6lb2JWCxmc0EFsfPB0RNtOgB3wH2kbQC+COwDvggkAZuM7NvAEj6KHABUQf8SjP7SPz6JkmfByYBF5rZLZLmAhcDLcBBwDLgTDMzSXcDF5jZUkknAd8GEkCLmR0v6Wyg0czOk/Qe4KtAHbAe+LCZvSbpYmAKMCP+fpmZXT5gP6HY+YuBkO1/s0FcloPP3w9XHzfQUThXvQqtj9DSAInQ3pTkbVNHSKvqeU03MY3/W9b4nKsmPwmfJVQI9uZ2ISHyYR13s5rzeVsFots9Udft6JLUtTNdt2bWLGlat+JTgbnx458AdwNfLElQ3dRKovcl4CAzmy3pncBpwGFEbVaLJDURJVkXAUebWUvcLLrNZOAYYH9gEbCtG/dQ4K3AK8B9wNHAvdteJGkCcC3QZGaru9W5zb3AEXGC+HHgQuAL8bb9gXcAI4BVkq42swFtU9vQRpTUdT8nA6AID74ykEd3rvqFxRfJKUXSwj737Uy0gxmot5TQucHthTCLKdHrh6KQgII6CQkJaqSTMOq63VDpMCaa2VoAM1sracBmf9VKotfVO+Ov5fHzDDATOAS4xcxaAMys62/xdjMLgSclTexS/rCZvQQQtxZOo0uiBxwBNJvZ6h7q3GZv4CZJk4la9VZ32fY7M8sBOUnrgInAS90rkDQPmAcwZcqUPn8AOzKsDrb2dEaGgGD6mH5V71zNC4KxJCjSifr8A5gMk57kuSFtNPWI3j8UiRAR1EyS94aSzbodL2lpl+cLzGxBqSovhVpM9AT8u5n9aLtC6XyiLtue5Lq9vqfyIm/+eWgHdW5zBdHEjUVduoN3tn4A4v8UCwAaGxv7Ot4O/evh8PU746Mlth2AKNFLw4K5/andudqXHHYE43KdrE4HpK3nP/YFRMryjC8cX+bonKsu5yb34ZHweUJ7c4udYdQFeQ4Jp1Yout0Tdd321EG36xYupMXMGnfjpa9Jmhy35k0mGpI2IGol0dtK1P0J8AfgEkkLzSwraS+iqQeLgdsk/cDM1ksa20sL3K54APhPSdO3dd32UOco4OX48Vn9PF6/fa0RfvYUPPMiUbJnROlqCv75cBhfX9n4nKu45HAmbT6B19IP0E49DRS22xwiOoIkU/LrGDHsXyoUpHPVYRpjmR5O4LlgHbkwzbZxQVGS10kqTPK55AGVDXIXRV23r1c6jEVEOcN34u+/GagD1URbq5mtB+6T9DhwIvBz4AFJjxGNtxthZk8AlwL3SHoUmF+C475O1KV6a1znTT3sdjHwK0l/IZrYUXFPfwS++24YOx7So2CfKfCns+CquZWOzLnqMHr0v7Pf5lHUq53WIEk7KTpI0KoUHUHAnoUW9m27CDXsWelQnau4y5LHcnC4Fw3qJB10UBd0UK8cI8MGLk++g3GUZjmx8irfrFtJvyBqOJol6SVJHyNK8E6U9AxRXjNgd/KQWb96Cl2JNTY22tKlS/ve0TnXP8UcrZv+H6+mbmVDfUiogPqwwITWvdij7mskM0dXOkLnqkqWHH/mJdoJOZQxzGR8SeqVtGw3uz93y9SpB9tFF91akro++cn9yhr77qiVrlvnnCutRJrh477GPuEXmdHxMlgOEmPQ2Il9v9a5IShDmvewT6XD6LdsNk9z82uVDqNsPNFzzg1tQR0aNr3SUTjnysbXunXOOeecG8Q80XPOOeecG3QymRRNTZNKUtfOrIxRaZ7oOeecc27IyGY7aW5+ue8dBwlP9Jxzzjk3xHjXrXPOOefcoBN13ZbmHpnedeucc845V0WirtsXKx1G2Xii55xzzrkhxG+v4pxzzjk3KGUydTQ17V2Surzr1jnnnHOuikRdty9UOoyy8UTPOeecc0NG1KL3lpLUVQstejKzSsfgupD0OvB8CascD7SUsD7nBis/V5zbOaU+V6aa2YQS1rdDkn5P9B5KocXMTipRXQPCE71BTtJSM2usdBzOVTs/V5zbOX6u1Jag0gE455xzzrmB4Ymec84559wg5Yne4Leg0gE4VyP8XHFu5/i5UkN8jJ5zzjnn3CDlLXrOOeecc4OUJ3rOOeecc4OUJ3rOuSFPUraX8hsknVbueJwrN0mnSPpSL9t6PD9cbfCVMZxzzrkhzswWAYsqHYcrPW/RqwGSLpH0uS7PL5X0OUnfk/S4pMcknRFvmyvpt132vVLS2fHjNZK+KemR+DX7x+UTJP0xLv+RpOcllequ4c5VFUmfj8+bxyX9S7dtis+ZJyX9DtijQmE6VzKSpkn6H0nXxf/vF0o6QdJ9kp6RdJiksyVdGe8/XdIDkpZIumQH9b5H0kOSlkv6k6SJcXmv1xRJZ0p6WNKKeFuiPD+FocsTvdrwY+AsAEkB8CHgJWA2cAhwAvA9SZN3oq4WM/s74GrggrjsG8BdcfltwJTShu9cdZA0BzgHOBw4AviEpEO77PI+YBZwMPAJ4KiyB+ncwNgX+CHwNmB/4J+AY4iuA1/ptu8PgavN7O3Aqzuo817gCDM7FPglcGFc3uM1RdIBwBnA0WY2GygCH+7/W3M74l23NcDM1khaH1+QJgLLiU7QX5hZEXhN0j3A24EtfVR3a/x9GfD++PExRBc4zOz3kjaW+j04VyWOAW4zs1YASbcCx3bZ3sQb59Urku6qQIzODYTVZvYYgKQngMVmZpIeA6Z12/do4APx458B3+2lzr2Bm+JGhjpgdVze2zXleGAOsEQSQAOwrp/vy/XBE73acR1wNjAJuB54Zy/7Fdi+pba+2/Zc/L3IG79/lSZE56rezvxf95uLusEo1+Vx2OV5SM+5wJvOA0mXAu8GiFvkrgDmm9kiSXOBi7ft2ksMAn5iZl/e1eDd7vOu29pxG3ASUavdH4Bm4AxJCUkTiFoiHgaeBw6UlJY0iugTVF/uBT4IIOmdwJgBiN+5atAMvFfSMEnDiVod/tJt+4fi82oy8I5KBOlchd1HNEQIunStmtlFZjY7TvIARgEvx4/P6vL63q4pi4HTJO0RbxsraerAvAW3jbfo1Qgz65T0Z2CTmRUl3QYcCTxK9MnrQjN7FUDSzcBK4Bmibt6+fBP4RTyh4x5gLbB1AN6GcxVlZo9IuoHoQxHAdWa2PO5GgugD1d8DjwFPE50Pzg01nwN+Hk8C/PUO9rsY+JWkl4EHgelxeY/XFDNrkfRV4M54vHke+AxRA4UbIL4EWo2IT4pHgNPN7JkS150GimZWkHQk0SDc2X29zjnnnOvOrynVxVv0aoCkA4HfEg0iL2mSF5sC3Bwnk51Esw2dc8653eHXlCriLXrOOeecc4OUT8ZwzjnnnBukPNFzzjnnnBukPNFzzjnnnBukPNFzzjnnnBukPNFzzg1JktZ0WWj9/gocf7akfyj3cZ1zQ4snes65Ic/MjurP6yXtzq2qZgOe6DnnBpQnes65qiLpdknLJD0haV5c9jFJT0u6W9K1kq6MyydI+rWkJfHX0Tuod5ykOyUtl/QjuqzHKSkbf58sqVnSCkmPSzo2Lj9J0iOSHpW0OC67WNICSXcCP+0tFknDJV0fly2XdKqkOuBbRMsYrohXEHDOuZLz++g556qKpLFmtkFSA7AEeBfR2pt/R7Q0313Ao2Z2nqSfA1eZ2b2SpgB/MLMDeqn3cqDFzL4l6d1ENyGfEC/LlDWzjKQvAPVmdqmkBDAMqCdalabJzFZ3ie9i4D3AMWbW3lsskr4NPGlmN0oaTbT82qHA6UCjmZ03ID9I55zDV8ZwzlWf8yW9L378FuAjwD1mtgFA0q+A/eLtJwAHdlmrdqSkEWbW01rNTcD7Aczsd5I29rDPEuB6SSngdjNbIWku0Gxmq+PXbuiy/yIza99RLMA7gVMkXRCX1xOtHOCccwPOEz3nXNWIk6oTgCPNrE3S3cAqoMdWOqLhJ0d2Sbb6ssMuDDNrltQEvBv4maTvAZt28LrWvmJRlPl9wMxWdSs/fCdjds653eZj9Jxz1WQUsDFO8vYHjiDqPj1O0ph40sMHuux/J/C3rk9JO1o4vRn4cLzfycCY7jtImgqsM7NrgR8TdRc/EB9/erzP2F7q7y2WPwCfjRM+JB0al28FRuwgXuec6zdP9Jxz1eT3QFLSSuAS4EHgZeDbwEPAn4Angc3x/ucDjZJWSnoS+NQO6v4m0CTpEaLu1Bd62GcusELScqKE8odm9jowD7hV0qPATb3U31sslwApYKWkx+PnAH8m6ur1yRjOuQHjkzGcc1VPUsbMsnGL3m3A9WZ2W6Xjcs65auctes65WnCxpBXA48Bq4PYKx+OcczXBW/Scc4OKpHOAz3Urvs/MPlOJeJxzrpI80XPOOeecG6S869Y555xzbpDyRM8555xzbpDyRM8555xzbpDyRM8555xzbpD6X7D5w5AvHthXAAAAAElFTkSuQmCC\n",
      "text/plain": [
       "<Figure size 720x504 with 2 Axes>"
      ]
     },
     "metadata": {
      "needs_background": "light"
     },
     "output_type": "display_data"
    }
   ],
   "source": [
    "fig, ax = plt.subplots()\n",
    "user_data.plot(y='occupation', x='age_discreet',kind='scatter',s=user_data.age*2, alpha=0.4,c=\"age\", cmap=plt.get_cmap(\"jet\"), colorbar=True, figsize=(10,7),ax=ax)"
   ]
  },
  {
   "cell_type": "code",
   "execution_count": 127,
   "metadata": {},
   "outputs": [
    {
     "data": {
      "text/plain": [
       "<matplotlib.axes._subplots.AxesSubplot at 0x20f0c6f6c10>"
      ]
     },
     "execution_count": 127,
     "metadata": {},
     "output_type": "execute_result"
    },
    {
     "data": {
      "image/png": "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\n",
      "text/plain": [
       "<Figure size 720x504 with 2 Axes>"
      ]
     },
     "metadata": {
      "needs_background": "light"
     },
     "output_type": "display_data"
    }
   ],
   "source": [
    "fig, ax = plt.subplots()\n",
    "user_data.plot(y='gender', x='age',kind='scatter',s=user_data.age*2, alpha=0.4,c=\"age\", cmap=plt.get_cmap(\"jet\"), colorbar=True, figsize=(10,7),ax=ax)"
   ]
  },
  {
   "cell_type": "code",
   "execution_count": 128,
   "metadata": {
    "scrolled": true
   },
   "outputs": [
    {
     "data": {
      "text/html": [
       "<div>\n",
       "<style scoped>\n",
       "    .dataframe tbody tr th:only-of-type {\n",
       "        vertical-align: middle;\n",
       "    }\n",
       "\n",
       "    .dataframe tbody tr th {\n",
       "        vertical-align: top;\n",
       "    }\n",
       "\n",
       "    .dataframe thead th {\n",
       "        text-align: right;\n",
       "    }\n",
       "</style>\n",
       "<table border=\"1\" class=\"dataframe\">\n",
       "  <thead>\n",
       "    <tr style=\"text-align: right;\">\n",
       "      <th></th>\n",
       "      <th>user_id</th>\n",
       "      <th>age</th>\n",
       "      <th>gender</th>\n",
       "      <th>occupation</th>\n",
       "      <th>zip code</th>\n",
       "      <th>age_discreet</th>\n",
       "    </tr>\n",
       "  </thead>\n",
       "  <tbody>\n",
       "    <tr>\n",
       "      <th>0</th>\n",
       "      <td>1</td>\n",
       "      <td>24</td>\n",
       "      <td>M</td>\n",
       "      <td>technician</td>\n",
       "      <td>85711</td>\n",
       "      <td>young</td>\n",
       "    </tr>\n",
       "    <tr>\n",
       "      <th>1</th>\n",
       "      <td>2</td>\n",
       "      <td>53</td>\n",
       "      <td>F</td>\n",
       "      <td>other</td>\n",
       "      <td>94043</td>\n",
       "      <td>old</td>\n",
       "    </tr>\n",
       "    <tr>\n",
       "      <th>2</th>\n",
       "      <td>3</td>\n",
       "      <td>23</td>\n",
       "      <td>M</td>\n",
       "      <td>writer</td>\n",
       "      <td>32067</td>\n",
       "      <td>young</td>\n",
       "    </tr>\n",
       "    <tr>\n",
       "      <th>3</th>\n",
       "      <td>4</td>\n",
       "      <td>24</td>\n",
       "      <td>M</td>\n",
       "      <td>technician</td>\n",
       "      <td>43537</td>\n",
       "      <td>young</td>\n",
       "    </tr>\n",
       "    <tr>\n",
       "      <th>4</th>\n",
       "      <td>5</td>\n",
       "      <td>33</td>\n",
       "      <td>F</td>\n",
       "      <td>other</td>\n",
       "      <td>15213</td>\n",
       "      <td>mid-age</td>\n",
       "    </tr>\n",
       "    <tr>\n",
       "      <th>...</th>\n",
       "      <td>...</td>\n",
       "      <td>...</td>\n",
       "      <td>...</td>\n",
       "      <td>...</td>\n",
       "      <td>...</td>\n",
       "      <td>...</td>\n",
       "    </tr>\n",
       "    <tr>\n",
       "      <th>938</th>\n",
       "      <td>939</td>\n",
       "      <td>26</td>\n",
       "      <td>F</td>\n",
       "      <td>student</td>\n",
       "      <td>33319</td>\n",
       "      <td>young</td>\n",
       "    </tr>\n",
       "    <tr>\n",
       "      <th>939</th>\n",
       "      <td>940</td>\n",
       "      <td>32</td>\n",
       "      <td>M</td>\n",
       "      <td>administrator</td>\n",
       "      <td>02215</td>\n",
       "      <td>mid-age</td>\n",
       "    </tr>\n",
       "    <tr>\n",
       "      <th>940</th>\n",
       "      <td>941</td>\n",
       "      <td>20</td>\n",
       "      <td>M</td>\n",
       "      <td>student</td>\n",
       "      <td>97229</td>\n",
       "      <td>young</td>\n",
       "    </tr>\n",
       "    <tr>\n",
       "      <th>941</th>\n",
       "      <td>942</td>\n",
       "      <td>48</td>\n",
       "      <td>F</td>\n",
       "      <td>librarian</td>\n",
       "      <td>78209</td>\n",
       "      <td>old</td>\n",
       "    </tr>\n",
       "    <tr>\n",
       "      <th>942</th>\n",
       "      <td>943</td>\n",
       "      <td>22</td>\n",
       "      <td>M</td>\n",
       "      <td>student</td>\n",
       "      <td>77841</td>\n",
       "      <td>young</td>\n",
       "    </tr>\n",
       "  </tbody>\n",
       "</table>\n",
       "<p>943 rows × 6 columns</p>\n",
       "</div>"
      ],
      "text/plain": [
       "     user_id  age gender     occupation zip code age_discreet\n",
       "0          1   24      M     technician    85711        young\n",
       "1          2   53      F          other    94043          old\n",
       "2          3   23      M         writer    32067        young\n",
       "3          4   24      M     technician    43537        young\n",
       "4          5   33      F          other    15213      mid-age\n",
       "..       ...  ...    ...            ...      ...          ...\n",
       "938      939   26      F        student    33319        young\n",
       "939      940   32      M  administrator    02215      mid-age\n",
       "940      941   20      M        student    97229        young\n",
       "941      942   48      F      librarian    78209          old\n",
       "942      943   22      M        student    77841        young\n",
       "\n",
       "[943 rows x 6 columns]"
      ]
     },
     "execution_count": 128,
     "metadata": {},
     "output_type": "execute_result"
    }
   ],
   "source": [
    "user_data"
   ]
  },
  {
   "cell_type": "markdown",
   "metadata": {},
   "source": [
    " ## Analyze User Rating Data"
   ]
  },
  {
   "cell_type": "code",
   "execution_count": 66,
   "metadata": {},
   "outputs": [
    {
     "data": {
      "text/plain": [
       "count    100000.000000\n",
       "mean          3.529860\n",
       "std           1.125674\n",
       "min           1.000000\n",
       "25%           3.000000\n",
       "50%           4.000000\n",
       "75%           4.000000\n",
       "max           5.000000\n",
       "Name: rating, dtype: float64"
      ]
     },
     "execution_count": 66,
     "metadata": {},
     "output_type": "execute_result"
    }
   ],
   "source": [
    "#Five point summary \n",
    "\n",
    "user_rating_data.describe()['rating']"
   ]
  },
  {
   "cell_type": "code",
   "execution_count": 67,
   "metadata": {},
   "outputs": [
    {
     "name": "stdout",
     "output_type": "stream",
     "text": [
      "Minimum rating is: 1\n",
      "Maximum rating is: 5\n"
     ]
    }
   ],
   "source": [
    "#Find the minimum and maximum ratings\n",
    "print('Minimum rating is: %d' %(user_rating_data.rating.min()))\n",
    "print('Maximum rating is: %d' %(user_rating_data.rating.max()))"
   ]
  },
  {
   "cell_type": "code",
   "execution_count": 68,
   "metadata": {},
   "outputs": [
    {
     "name": "stdout",
     "output_type": "stream",
     "text": [
      "Number of missing values across columns: \n",
      " user_id      0\n",
      "item_id      0\n",
      "rating       0\n",
      "timestamp    0\n",
      "dtype: int64\n"
     ]
    }
   ],
   "source": [
    "#Check for missing values\n",
    "print('Number of missing values across columns: \\n',user_rating_data.isnull().sum())"
   ]
  },
  {
   "cell_type": "code",
   "execution_count": 70,
   "metadata": {},
   "outputs": [
    {
     "name": "stderr",
     "output_type": "stream",
     "text": [
      "M:\\apps\\Anaconda3\\lib\\site-packages\\seaborn\\categorical.py:3666: UserWarning: The `factorplot` function has been renamed to `catplot`. The original name will be removed in a future release. Please update your code. Note that the default `kind` in `factorplot` (`'point'`) has changed `'strip'` in `catplot`.\n",
      "  warnings.warn(msg)\n"
     ]
    },
    {
     "data": {
      "image/png": "iVBORw0KGgoAAAANSUhEUgAAA4oAAAFhCAYAAAA2kVSQAAAABHNCSVQICAgIfAhkiAAAAAlwSFlzAAALEgAACxIB0t1+/AAAADh0RVh0U29mdHdhcmUAbWF0cGxvdGxpYiB2ZXJzaW9uMy4yLjIsIGh0dHA6Ly9tYXRwbG90bGliLm9yZy+WH4yJAAAgAElEQVR4nO3dfXBV9YH/8c/NiUG4eTKYmxsxZTbbsHZ5CNRaSR1u1jCXCBEJkahoETIstoiyLBQl4jAhg+LMsiLq7DaR1gbHrRRqwsNtN0CoJKNUW2w24PqwsaYmNrnXQnhIYp6u9/cH7tnf6QVESXIu4f2acSb55pybz2G+k+Tj95zvdYRCoZAAAAAAAPhClN0BAAAAAACRhaIIAAAAALCgKAIAAAAALCiKAAAAAAALiiIAAAAAwCLa7gCDrbe3X6dOfWZ3DAAAAACIOMnJceccH/Yrig6Hw+4IAAAAAHBZGfZFEQAAAADw1VAUAQAAAAAWFEUAAAAAgMWAFcWenh7NmzdPd9xxh/Ly8vTss89Kkp577jlNmzZNc+bM0Zw5c3To0CHznLKyMnm9XuXm5qqurs4cP3bsmGbPni2v16sNGzYoFApJknp7e7VixQp5vV4VFhaqpaVloOIDAAAAAL4wYLuexsTEqKKiQk6nU319fbr33nvl8XgkSYsWLdLixYstxzc2Nsrn88nn88nv96uoqEjV1dUyDEMlJSUqLS3V5MmTtWTJEtXW1io7O1s7duxQfHy89u/fL5/Pp02bNumZZ54ZqEsAAAAAAGgAVxQdDoecTqckqb+/X/39/RfccbSmpkZ5eXmKiYlRWlqaxo4dq4aGBgUCAXV0dGjKlClyOBzKz89XTU2NJOngwYOaO3euJCk3N1eHDx82VxsBAAAAAANjQN9HMRgMqqCgQB9//LHuvfdeZWZmqra2Vi+//LKqqqo0YcIErVmzRgkJCfL7/crMzDTPTUlJkd/vV3R0tNxutznudrvl9/slSX6/X6mpqWeDR0crLi5O7e3tSkpKOm8mw3AoMXHUQF4mAAAAAAxrA1oUDcPQrl27dPr0aS1btkwffPCB5s+frwcffFAOh0NbtmzRU089pY0bN55zJdDhcJx3XNIFv3Y+wWBIJ092fc0rAgAAAIDhKzk57pzjg7LraXx8vG6++WbV1dXp2muvlWEYioqKUmFhoY4ePSrp7EphW1ubeY7f75fL5Qobb2trk8vlMs9pbW2VdPb21jNnzigxMXEwLgEAAAAArlgDVhRPnDih06dPS5K6u7v1xhtvKD09XYFAwDzmwIEDysjIkCTl5OTI5/Opt7dXzc3Nampq0qRJk+RyueR0OlVfX69QKKSqqipNnz7dPKeyslKSVF1dralTp37piiIAAAAA4KsZsFtPA4GA1qxZo2AwqFAopNtuu0233nqrVq9erffee0+SNGbMGJWWlkqSMjIyNHPmTM2aNUuGYWjdunUyDEOSVFJSouLiYnV3d8vj8Zi7p86bN0+rV6+W1+tVQkKCNm/ePFDxAQAAAABfcISG+bahfX1BnlEEAAAAgHMY0mcUAQAAAACXrwHd9RQAAOByc03sVYoeebXdMRCB+j/rVntHn90xAFtQFAEAwBUteuTVOuTJtjsGIlB27SGJoogrFLeeAgAAAAAsKIoAAAAAAAuKIgAAAADAgqIIAAAAALCgKAIAAAAALCiKAAAAAAALiiIAAAAAwIKiCAAAAACwoCgCAAAAACwoigAAAAAAC4oiAAAAAMCCoggAAAAAsKAoAgAAAAAsKIoAAAAAAAuKIgAAAADAgqIIAAAAALCgKAIAAAAALCiKAAAAAAALiiIAAAAAwIKiCAAAAACwoCgCAAAAACwoigAAAAAAC4oiAAAAAMCCoggAAAAAsKAoAgAAAAAsKIoAAAAAAAuKIgAAAADAgqIIAAAAALCgKAIAAAAALCiKAAAAAAALiiIAAAAAwGLAimJPT4/mzZunO+64Q3l5eXr22WclSSdPnlRRUZFmzJihoqIinTp1yjynrKxMXq9Xubm5qqurM8ePHTum2bNny+v1asOGDQqFQpKk3t5erVixQl6vV4WFhWppaRmo+AAAAACALwxYUYyJiVFFRYV2796tqqoq1dXVqb6+XuXl5crKytK+ffuUlZWl8vJySVJjY6N8Pp98Pp+2bt2q9evXKxgMSpJKSkpUWlqqffv2qampSbW1tZKkHTt2KD4+Xvv379eiRYu0adOmgYoPAAAAAPjCgBVFh8Mhp9MpServ71d/f78cDodqamqUn58vScrPz9eBAwckSTU1NcrLy1NMTIzS0tI0duxYNTQ0KBAIqKOjQ1OmTJHD4VB+fr5qamokSQcPHtTcuXMlSbm5uTp8+LC52ggAAAAAGBjRA/liwWBQBQUF+vjjj3XvvfcqMzNTx48fl8vlkiS5XC6dOHFCkuT3+5WZmWmem5KSIr/fr+joaLndbnPc7XbL7/eb56Smpp4NHh2tuLg4tbe3Kykp6byZDMOhxMRRA3mZAAAAuELwdySuVANaFA3D0K5du3T69GktW7ZMH3zwwXmPPddKoMPhOO/4hc65kGAwpJMnu74sOgAAuEIlJ8fZHQERjL8jMdyd72fgoOx6Gh8fr5tvvll1dXUaPXq0AoGAJCkQCJirf263W21tbeY5fr9fLpcrbLytrc1ckXS73WptbZV09vbWM2fOKDExcTAuAQAAAACuWANWFE+cOKHTp09Lkrq7u/XGG28oPT1dOTk5qqqqkiRVVVVp+vTpkqScnBz5fD719vaqublZTU1NmjRpklwul5xOp+rr6xUKhcLOqayslCRVV1dr6tSpX7qiCAAAAAD4agbs1tNAIKA1a9YoGAwqFArptttu06233qrJkydrxYoV2rlzp1JTU7VlyxZJUkZGhmbOnKlZs2bJMAytW7dOhmFIOrvraXFxsbq7u+XxeOTxeCRJ8+bN0+rVq+X1epWQkKDNmzcPVHwAAAAAwBccoWG+bWhfX5B7ywEAwHklJ8fpkCfb7hiIQNm1h/Tpp2fsjgEMqiF9RhEAAAAAcPmiKAIAAAAALCiKAAAAAAALiiIAAAAAwIKiCAAAAACwoCgCAAAAACwoigAAAAAAC4oiAAAAAMCCoggAAAAAsKAoAgAAAAAsKIoAAAAAAAuKIgAAAADAgqIIAAAAALCgKAIAAAAALCiKAAAAAAALiiIAAAAAwIKiCAAAAACwoCgCAAAAACwoigAAAAAAi2i7AwAAhr/YhKs0MuZqu2MgwnzW262OU312xwAAnANFEQAw6EbGXK1bnrvF7hiIMK8//Lo6RFEEgEjEracAAAAAAAuKIgAAAADAgqIIAAAAALCgKAIAAAAALCiKAAAAAAALiiIAAAAAwIKiCAAAAACwoCgCAAAAACwoigAAAAAAC4oiAAAAAMCCoggAAAAAsKAoAgAAAAAsKIoAAAAAAIsBK4qtra1asGCBZs6cqby8PFVUVEiSnnvuOU2bNk1z5szRnDlzdOjQIfOcsrIyeb1e5ebmqq6uzhw/duyYZs+eLa/Xqw0bNigUCkmSent7tWLFCnm9XhUWFqqlpWWg4gMAAAAAvhA9UC9kGIbWrFmj8ePHq6OjQ3feeaduueUWSdKiRYu0ePFiy/GNjY3y+Xzy+Xzy+/0qKipSdXW1DMNQSUmJSktLNXnyZC1ZskS1tbXKzs7Wjh07FB8fr/3798vn82nTpk165plnBuoSAAAAAAAawBVFl8ul8ePHS5JiY2OVnp4uv99/3uNramqUl5enmJgYpaWlaezYsWpoaFAgEFBHR4emTJkih8Oh/Px81dTUSJIOHjyouXPnSpJyc3N1+PBhc7URAAAAADAwBmxF8f/X0tKid999V5mZmXr77bf18ssvq6qqShMmTNCaNWuUkJAgv9+vzMxM85yUlBT5/X5FR0fL7Xab42632yycfr9fqampZ4NHRysuLk7t7e1KSko6bxbDcCgxcdRgXCYAALhE/I5GpGOO4ko14EWxs7NTy5cv12OPPabY2FjNnz9fDz74oBwOh7Zs2aKnnnpKGzduPOdKoMPhOO+4pAt+7XyCwZBOnuz6mlcDABgIyclxdkdAhIqE39HMT1xIJMxRYDCd72fggO562tfXp+XLl2v27NmaMWOGJOnaa6+VYRiKiopSYWGhjh49KunsSmFbW5t5rt/vl8vlChtva2uTy+Uyz2ltbZUk9ff368yZM0pMTBzISwAAAACAK96AFcVQKKS1a9cqPT1dRUVF5nggEDA/PnDggDIyMiRJOTk58vl86u3tVXNzs5qamjRp0iS5XC45nU7V19crFAqpqqpK06dPN8+prKyUJFVXV2vq1KlfuqIIAAAAAPhqBuzW0yNHjmjXrl0aN26c5syZI0lauXKl9u7dq/fee0+SNGbMGJWWlkqSMjIyNHPmTM2aNUuGYWjdunUyDEOSVFJSouLiYnV3d8vj8cjj8UiS5s2bp9WrV8vr9SohIUGbN28eqPgAAAAAgC84Qn/14N/HH38st9utmJgYvfnmm3r//feVn5+v+Ph4uzJekr6+IPeWA4DNkpPjdMtzt9gdAxHm9Ydf16efnrE7hpKT43TIk213DESg7NpDETFHgcF00c8oPvzww4qKitKf/vQnrV27Vi0tLVq1atWgBwQAAAAARIawohgVFaXo6Gjt379fCxcu1GOPPaZPP/3UjmwAAAAAABuEFcXo6Gjt3btXVVVV+od/+AdJZ3cYBQAAAABcGcKK4saNG1VfX68f/vCHSktLU3Nzs+644w47sgEAAAAAbBC26+k3v/lNPf744+bnaWlpeuCBB4Y0FAAAAADAPmFFcfbs2WEHxcXFacKECVq6dKmuueaaIQkGAAAAALBHWFGcNm2aDMPQ7bffLkn61a9+pVAopNjYWBUXF+vHP/7xkIcEAAAAAAydsKL49ttv65VXXjE//7u/+zvdc889euWVV8652ggAAAAAGF7CNrPp6urSf/3Xf5mfNzQ0qKvr7BvWG4YxdMkAAAAAALYIW1HcsGGD1q5dq87OTkmS0+nUE088oa6uLja1AQAAAIArQFhRnDRpkvbs2aMzZ84oFAopPj7e/NqsWbOGNBwAAAAAYOiFFcXe3l5VV1frk08+UX9/vzn+0EMPDWkwAAAAAIA9wori0qVLFRcXp/HjxysmJsaOTAAAAAAAG4UVRb/fr5/85Cd2ZAEAAAAARICwXU+nTJmi999/344sAAAAAIAIELaieOTIEVVWVmrMmDGWW0/37NkzpMEAAAAAAPYIK4ovvPCCHTkAAAAAABHCLIodHR2KjY2V0+m0Mw8AAAAAwGZmUVy1apXKyspUUFAgh8OhUChkHuRwOFRTU2NLQAAAAADA0DKLYllZmSTp4MGDtoUBAAAAANgvbNfThQsXhh10rjEAAAAAwPBkrij29PTos88+U3t7u06dOmXeetrR0aFAIGBbQAAAAADA0DKL4iuvvKKKigoFAgEVFBSYRTE2Nlb33XefbQEBAAAAAEPLLIoLFy7UwoUL9dJLL2nBggV2ZgIAAAAA2CjsfRQXLFigDz74QI2Njert7TXH8/PzhzQYAAAAAMAeYUXx+eef15tvvqkPP/xQ2dnZqq2t1Y033khRBAAAAIArRNiup9XV1aqoqNC1116rjRs3ateuXZaVRQAAAADA8Ba2ojhixAhFRUUpOjpaHR0dGj16tJqbm+3IBgAAAFzxEuJHKmZE2J/tgHp7+nXq9GeD8tphM27ChAk6ffq0CgsLVVBQoFGjRmnSpEmD8s0BAAAAXFjMiGg9v2qP3TEQgR7619mD9tqWohgKhfSDH/xA8fHxmj9/vqZNm6aOjg7dcMMNgxYAAAAAABBZLM8oOhwOLVu2zPz8+uuvpyQCAAAAwBUmbDObzMxMNTQ02JEFAAAAABABwp5RfPPNN7V9+3Zdd911GjlypDm+Zw/3RQMAAADAlSCsKL7wwgt25AAAAAAARIiwW0/HjBlzzv++TGtrqxYsWKCZM2cqLy9PFRUVkqSTJ0+qqKhIM2bMUFFRkU6dOmWeU1ZWJq/Xq9zcXNXV1Znjx44d0+zZs+X1erVhwwaFQiFJUm9vr1asWCGv16vCwkK1tLRc8j8AAAAAAMAqrCh+XYZhaM2aNfr1r3+t7du36z/+4z/U2Nio8vJyZWVlad++fcrKylJ5ebkkqbGxUT6fTz6fT1u3btX69esVDAYlSSUlJSotLdW+ffvU1NSk2tpaSdKOHTsUHx+v/fv3a9GiRdq0adNAxQcAAAAAfMEsir29vZf0Qi6XS+PHj5ckxcbGKj09XX6/XzU1NcrPz5ck5efn68CBA5Kkmpoa5eXlKSYmRmlpaRo7dqwaGhoUCATU0dGhKVOmyOFwKD8/XzU1NZKkgwcPau7cuZKk3NxcHT582FxtBAAAAAAMDPMZxbvvvluVlZVavXq1/uVf/uWSXrSlpUXvvvuuMjMzdfz4cblcLklny+SJEyckSX6/X5mZmeY5KSkp8vv9io6OltvtNsfdbrf8fr95Tmpq6tng0dGKi4tTe3u7kpKSzpvFMBxKTBx1SdcDAAAGB7+jEemYo4h0gzVHzaLY19enyspK/eEPf9C+ffvCDpwxY8ZFvWBnZ6eWL1+uxx57TLGxsec97lwrgQ6H47zjFzrnQoLBkE6e7Pqy2ACAQZScHGd3BESoSPgdzfzEhTBHEekudY6eb36ZRbGkpER79uzRmTNn9Jvf/CbswIspin19fVq+fLlmz55tHj969GgFAgG5XC4FAgFz9c/tdqutrc081+/3y+VyhY23tbWZK5Jut1utra1yu93q7+/XmTNnlJiYeDHXDwAAAAC4SGZR/M53vqPvfOc7mjBhggoLC7/yC4VCIa1du1bp6ekqKioyx3NyclRVVaUHHnhAVVVVmj59ujm+atUqFRUVye/3q6mpSZMmTZJhGHI6naqvr1dmZqaqqqq0YMEC85zKykpNmTJF1dXVmjp16peuKAIAAAAAvpqw91GcM2eOtm3bpt///veSpJtuukn33HOPrrrqqgu+0JEjR7Rr1y6NGzdOc+bMkSStXLlSDzzwgFasWKGdO3cqNTVVW7ZskSRlZGRo5syZmjVrlgzD0Lp162QYhqSzq5vFxcXq7u6Wx+ORx+ORJM2bN0+rV6+W1+tVQkKCNm/ePHD/EgAAAAAASZIj9FcP/q1du1b9/f3mTqW7d+9WVFSUnnjiCVsCXqq+vmBE3FsOAFey5OQ43fLcLXbHQIR5/eHX9emnZ+yOoeTkOB3yZNsdAxEou/ZQxMzR51ftsTsGItBD/zr7kufolz6j+L+OHj2q3bt3m59nZWXpjjvuuKRvDgAAAAC4fET99YBhGPr444/Nz5ubm81bQgEAAAAAw1/YiuIjjzyi+++/X2lpaQqFQvrzn/+sJ5980o5sAAAAAAAbhBXFrKws7du3T3/84x8lSenp6YqJiRnyYAAAAAAAe4QVRUmKiYnRDTfcMNRZAAAAAAARIOwZRQAAAADAlc1SFEOhkFpbW+3KAgAAAACIAJai6HA4tGzZMruyAAAAAAAiQNitp5mZmWpoaLAjCwAAAAAgAoRtZvPmm2/qlVde0ZgxYzRy5EhzfM+ePUMaDAAAAABgj7Ci+MILL9iRAwAAAAAQIcJuPR0zZoxaW1v129/+1lxV/Pzzz+3IBgAAAACwQVhRfP7557V161aVl5dLkvr6+rR69eohDwYAAAAAsEdYUdy/f7/+/d//3Xw+MSUlRZ2dnUMeDAAAAABgj7CieNVVV8nhcMjhcEiSurq6hjwUAAAAAMA+YZvZzJw5U+vWrdPp06f1i1/8Qr/85S9111132ZENAAAAAGCDsKK4ePFivf7663I6nfroo4+0fPly3XLLLXZkAwAAAADYIKwoStK4cePU3d0th8OhcePGDXUmAAAAAICNwp5R3LFjhwoLC7V//35VV1fr7rvv1s6dO+3IBgAAAACwQdiK4tatW1VZWalrrrlGktTe3q577rlH8+bNG/JwAAAAAIChF7ai6Ha75XQ6zc+dTqdSU1OHNBQAAAAAwD7miuKLL74o6ez7Jt51112aPn26HA6HampqNHHiRNsCAgAAAACGllkUOzs7JUnf+MY39I1vfMM8YPr06UOfCgAAAABgG7MoPvTQQ3bmAAAAAABEiLDNbI4ePaof//jH+vOf/6z+/n5zfM+ePUMaDAAAAABgj7Ci+KMf/UiPPPKIxo0bp6iosL1uAAAAAADDXFhRTEpK4rlEAAAAALiChRXF5cuXa+3atcrKylJMTIw5PmPGjCENBgAAAACwR1hR/OUvf6k//vGP6u/vt9x6SlEEAAAAgCtDWFF8//332bgGAAAAAK5gYbvVZGZmqrGx0Y4sAAAAAIAIELaieOTIEVVVVWnMmDGWZxRZZQQAAACAK0NYUdy6dasdOQAAAAAAESKsKDocDjtyAAAAAAAiRFhR/MEPfmB+3NPTo5aWFv3N3/yNfD7fl75YcXGxXnvtNY0ePVp79+6VJD333HP6xS9+oaSkJEnSypUrlZ2dLUkqKyvTzp07FRUVpccff1zTpk2TJB07dkzFxcXq7u5Wdna21q5dK4fDod7eXj3yyCN65513lJiYqM2bN+v666+/9H8FAAAAAIAprCj+9bOI77zzjrZv335RL1ZQUKDvf//7evTRRy3jixYt0uLFiy1jjY2N8vl88vl88vv9KioqUnV1tQzDUElJiUpLSzV58mQtWbJEtbW1ys7O1o4dOxQfH6/9+/fL5/Np06ZNeuaZZ77qNQMAAAAALiBs19O/Nn78eB09evSiXuymm25SQkLCRR1bU1OjvLw8xcTEKC0tTWPHjlVDQ4MCgYA6Ojo0ZcoUORwO5efnq6amRpJ08OBBzZ07V5KUm5urw4cPKxQKXdT3AwAAAABcnLAVxRdffNH8+PPPP9d///d/m7eNfl0vv/yyqqqqNGHCBK1Zs0YJCQny+/3KzMw0j0lJSZHf71d0dLTcbrc57na75ff7JUl+v1+pqalng0dHKy4uTu3t7RfMZxgOJSaOuqT8AABgcPA7GpGOOYpIN1hzNKwodnZ2mh8bhqHs7Gzl5uZ+7W8wf/58Pfjgg3I4HNqyZYueeuopbdy48ZwrgQ6H47zjki74tfMJBkM6ebLra6YHAAyE5OQ4uyMgQkXC72jmJy6EOYpId6lz9HzzK6woPvTQQ5f0jf7atddea35cWFioH/7wh5LOrhS2tbWZX/P7/XK5XGHjbW1tcrlc5jmtra1yu93q7+/XmTNnlJiYOKB5AQAAAOBKF1YUP/roI/30pz/VJ598ov7+fnN827ZtX+sbBAIBs+gdOHBAGRkZkqScnBytWrVKRUVF8vv9ampq0qRJk2QYhpxOp+rr65WZmamqqiotWLDAPKeyslJTpkxRdXW1pk6dytt5AAAAAMAACyuK//RP/6R77rlHhYWFior60r1uLFauXKm33npL7e3t8ng8evjhh/XWW2/pvffekySNGTNGpaWlkqSMjAzNnDlTs2bNkmEYWrdunQzDkCSVlJSYb4/h8Xjk8XgkSfPmzdPq1avl9XqVkJCgzZs3X9LFAwAAAADChRXF6Oho3XvvvV/rxZ5++umwscLCwvMev3TpUi1dujRsfOLEieb7MP7/RowYoWefffZrZQMAAAAAXJywJcNbb71VL7/8sgKBgE6ePGn+BwAAAAC4MoStKFZWVkqSfvKTn5hjDofDfC9DAAAAAMDwFlYUDx48aEcOAAAAAECE+Gq71QAAAAAAhj2KIgAAAADAgqIIAAAAALAwn1F85513Lnjg+PHjBz0MAAAAAMB+ZlF86qmnznuQw+HQtm3bhiQQAAAAAMBeZlF86aWX7MwBAAAAAIgQYW+PIUkffPCBGhsb1dvba47l5+cPWSgAAAAAgH3CiuLzzz+vN998Ux9++KGys7NVW1urG2+8kaIIAAAAAFeIsF1Pq6urVVFRoWuvvVYbN27Url27LCuLAAAAAIDhLawojhgxQlFRUYqOjlZHR4dGjx6t5uZmO7IBAAAAAGwQduvphAkTdPr0aRUWFqqgoECjRo3SpEmT7MgGAAAAALBBWFEsKSmRJM2fP1/Tpk1TR0eHbrjhhqHOBQAAAACwSditpwsXLjQ/vv7663XDDTdYxgAAAAAAw5u5otjT06PPPvtM7e3tOnXqlEKhkCSpo6NDgUDAtoAAAAAAgKFlFsVXXnlFFRUVCgQCmjt3rnlAbGys7rvvPlvCAQAAAACGnlkUFy5cqIULF+qll17SggUL7MwEAAAAALBR2GY2d999t7Zt26bf//73kqTvfve7uvvuu3XVVVcNeTgAAAAAwNAL28xm/fr1eueddzR//nzNnz9f77zzjrkTKgAAAABg+DNXFPv7+xUdHa2jR49q9+7d5gFZWVm64447bAkHAAAAABh65opiYWGhJMkwDH388cfmAc3NzTIMY+iTAQAAAABsYa4o/u/bYTzyyCO6//77lZaWJkn65JNP9OSTT9qTDgAAAAAw5MyieOLECb344ouSzm5oEwwGNWrUKPX09Ojdd9/V1KlTbQsJAAAAABg6ZlH8/PPP1dnZafliV1eXJIWNAwAAAACGL7MoJicn66GHHrIzC4CvKSnhKhkxV9sdAxEo2NutE6f67I4BAAAuM2HPKAK4/BgxV+vj0ol2x0AE+sa6o5IoigAA4Ksxdz392c9+ZmMMAAAAAECkMItiYmKinTkAAAAAABEi6ssPAQAAAABcSSiKAAAAAAALiiIAAAAAwIKiCAAAAACwGNCiWFxcrKysLN1+++3m2MmTJ1VUVKQZM2aoqKhIp06dMr9WVlYmr9er3Nxc1dXVmePHjh3T7Nmz5fV6tWHDBvOtO3p7e7VixQp5vV4VFhaqpaVlIOMDAAAAADTARbGgoEBbt261jJWXlysrK0v79u1TVlaWysvLJUmNjY3y+Xzy+XzaunWr1q9fr2AwKEkqKSlRaWmp9u3bp6amJtXW1kqSduzYofj4eO3fv1+LFi3Spk2bBjI+AAAAAEADXBRvuukmJSQkWMZqamqUn58vScrPz9eBAwfM8by8PMXExCgtLU1jx45VQ5lKIFMAAA11SURBVEODAoGAOjo6NGXKFDkcDuXn56umpkaSdPDgQc2dO1eSlJubq8OHD5urjQAAAACAgTHozygeP35cLpdLkuRyuXTixAlJkt/vl9vtNo9LSUmR3+8PG3e73fL7/eY5qampkqTo6GjFxcWpvb19sC8BAAAAAK4o0XZ943OtBDocjvOOX+icCzEMhxITR33NlABw+eNnICIZ8xORjjmKSDdYc3TQi+Lo0aMVCATkcrkUCASUlJQk6exKYVtbm3mc3++Xy+UKG29razNXJN1ut1pbW+V2u9Xf368zZ84oMTHxgt8/GAzp5MmuQbgyIHIkJ8fZHQERLBJ+BjJHcT7MT0Q65igi3aXO0fPNr0G/9TQnJ0dVVVWSpKqqKk2fPt0c9/l86u3tVXNzs5qamjRp0iS5XC45nU7V19crFAqFnVNZWSlJqq6u1tSpU790RREAAAAA8NUM6IriypUr9dZbb6m9vV0ej0cPP/ywHnjgAa1YsUI7d+5UamqqtmzZIknKyMjQzJkzNWvWLBmGoXXr1skwDElndz0tLi5Wd3e3PB6PPB6PJGnevHlavXq1vF6vEhIStHnz5oGMDwAAAADQABfFp59++pzjFRUV5xxfunSpli5dGjY+ceJE7d27N2x8xIgRevbZZy8tJAAAAADgggb91lMAAAAAwOWFoggAAAAAsKAoAgAAAAAsKIoAAAAAAAuKIgAAAADAgqIIAAAAALCgKAIAAAAALCiKAAAAAAALiiIAAAAAwIKiCAAAAACwoCgCAAAAACwoigAAAAAAC4oiAAAAAMCCoggAAAAAsKAoAgAAAAAsKIoAAAAAAAuKIgAAAADAgqIIAAAAALCgKAIAAAAALCiKAAAAAAALiiIAAAAAwIKiCAAAAACwoCgCAAAAACwoigAAAAAAC4oiAAAAAMCCoggAAAAAsKAoAgAAAAAsKIoAAAAAAItouwNcDmLjr9bIEVfZHQMR6LOePnWc7rY7BgAAADCgKIoXYeSIq3Tj6m12x0AEOvIv96tDFEUAAAAML9x6CgAAAACwoCgCAAAAACwoigAAAAAAC4oiAAAAAMBiyDazycnJkdPpVFRUlAzD0KuvvqqTJ0/qn//5n/XJJ59ozJgxeuaZZ5SQkCBJKisr086dOxUVFaXHH39c06ZNkyQdO3ZMxcXF6u7uVnZ2ttauXSuHwzFUlwEAAAAAw96QrihWVFRo165devXVVyVJ5eXlysrK0r59+5SVlaXy8nJJUmNjo3w+n3w+n7Zu3ar169crGAxKkkpKSlRaWqp9+/apqalJtbW1Q3kJAAAAADDs2XrraU1NjfLz8yVJ+fn5OnDggDmel5enmJgYpaWlaezYsWpoaFAgEFBHR4emTJkih8Oh/Px81dTU2HkJAAAAADDsDGlRXLx4sQoKCrR9+3ZJ0vHjx+VyuSRJLpdLJ06ckCT5/X653W7zvJSUFPn9/rBxt9stv98/hFcAAAAAAMPfkD2j+POf/1wpKSk6fvy4ioqKlJ6eft5jQ6FQ2JjD4Tjv+IUYhkOJiaO+emDgIjG/EOmYo4hkzE9EOuYoIt1gzdEhK4opKSmSpNGjR8vr9aqhoUGjR49WIBCQy+VSIBBQUlKSpLMrhW1tbea5fr9fLpcrbLytrc1ckTyfYDCkkye7Lil7cnLcJZ2P4e1S59dAYI7iQpijiGTMT0Q65igi3WB1nSG59bSrq0sdHR3mx6+//royMjKUk5OjqqoqSVJVVZWmT58u6ewOqT6fT729vWpublZTU5MmTZokl8slp9Op+vp6hUIhyzkAAAAAgIExJCuKx48f17JlyyRJwWBQt99+uzwejyZOnKgVK1Zo586dSk1N1ZYtWyRJGRkZmjlzpmbNmiXDMLRu3ToZhiHp7K6n//v2GB6PRx6PZyguAQAAAACuGENSFNPS0rR79+6w8WuuuUYVFRXnPGfp0qVaunRp2PjEiRO1d+/eAc8IAAAAADjL1rfHAAAAAABEHooiAAAAAMCCoggAAAAAsKAoAgAAAAAsKIoAAAAAAAuKIgAAAADAgqIIAAAAALCgKAIAAAAALCiKAAAAAAALiiIAAAAAwIKiCAAAAACwoCgCAAAAACwoigAAAAAAC4oiAAAAAMCCoggAAAAAsKAoAgAAAAAsKIoAAAAAAAuKIgAAAADAgqIIAAAAALCgKAIAAAAALCiKAAAAAAALiiIAAAAAwIKiCAAAAACwoCgCAAAAACwoigAAAAAAC4oiAAAAAMCCoggAAAAAsKAoAgAAAAAsKIoAAAAAAAuKIgAAAADAgqIIAAAAALCgKAIAAAAALCiKAAAAAAALiiIAAAAAwIKiCAAAAACwuCyLYm1trXJzc+X1elVeXm53HAAAAAAYVi67ohgMBlVaWqqtW7fK5/Np7969amxstDsWAAAAAAwbl11RbGho0NixY5WWlqaYmBjl5eWppqbG7lgAAAAAMGw4QqFQyO4QX8V//ud/qq6uTk888YQkqaqqSg0NDVq3bp3NyQAAAABgeLjsVhTP1WsdDocNSQAAAABgeLrsiqLb7VZbW5v5ud/vl8vlsjERAAAAAAwvl11RnDhxopqamtTc3Kze3l75fD7l5OTYHQsAAAAAho1ouwN8VdHR0Vq3bp3+8R//UcFgUHfeeacyMjLsjgUAAAAAw8Zlt5kNAAAAAGBwXXa3ngIAAAAABhdFEQAAAABgcdk9owj7FBcX67XXXtPo0aO1d+9eu+MAFq2trXrkkUf0l7/8RVFRUbrrrru0cOFCu2MBpp6eHt13333q7e1VMBhUbm6uli9fbncswOJ/939ISUlRWVmZ3XEAi5ycHDmdTkVFRckwDL366qt2RxrWKIq4aAUFBfr+97+vRx991O4oQBjDMLRmzRqNHz9eHR0duvPOO3XLLbfom9/8pt3RAElSTEyMKioq5HQ61dfXp3vvvVcej0eTJ0+2Oxpg2rZtm/72b/9WHR0ddkcBzqmiokJJSUl2x7gicOspLtpNN92khIQEu2MA5+RyuTR+/HhJUmxsrNLT0+X3+21OBfwfh8Mhp9MpServ71d/f78cDofNqYD/09bWptdee03z5s2zOwqACEBRBDDstLS06N1331VmZqbdUQCLYDCoOXPm6Hvf+56+973vMUcRUZ588kmtXr1aUVH8eYjItXjxYhUUFGj79u12Rxn2+EkAYFjp7OzU8uXL9dhjjyk2NtbuOICFYRjatWuXDh06pIaGBn3wwQd2RwIkSb/5zW+UlJSkCRMm2B0FOK+f//znqqys1AsvvKCXX35Zv/vd7+yONKxRFAEMG319fVq+fLlmz56tGTNm2B0HOK/4+HjdfPPNqqurszsKIEl6++23dfDgQeXk5GjlypX67W9/qx/96Ed2xwIsUlJSJEmjR4+W1+tVQ0ODzYmGN4oigGEhFApp7dq1Sk9PV1FRkd1xgDAnTpzQ6dOnJUnd3d164403lJ6ebnMq4KxVq1aptrZWBw8e1NNPP62pU6dq06ZNdscCTF1dXeYmS11dXXr99deVkZFhc6rhjV1PcdFWrlypt956S+3t7fJ4PHr44YdVWFhodyxAknTkyBHt2rVL48aN05w5cySdnbPZ2dk2JwPOCgQCWrNmjYLBoEKhkG677TbdeuutdscCgMvC8ePHtWzZMklnn/e+/fbb5fF4bE41vDlCoVDI7hAAAAAAgMjBracAAAAAAAuKIgAAAADAgqIIAAAAALCgKAIAAAAALCiKAAAAAAALiiIAAIPoZz/7mT777DPz8yVLlpjvpwgAQKTi7TEAALhEoVBIoVBIUVHh//81JydHO3fuVFJSkg3JAAD4eqLtDgAAwOWopaVFS5Ys0c0336z6+np961vf0vvvv6+enh7l5uZq+fLl2rZtmwKBgBYuXKjExES99NJLZnHs6urSkiVLdOONN+oPf/iDUlJS9G//9m+6+uqr1dDQoLVr12rUqFH69re/rbq6Ou3du9fuSwYAXEG49RQAgK/po48+Un5+vqqqqvToo4/q1Vdf1e7du/W73/1O7733nu6//365XC5VVFTopZdeCjv/T3/6k+677z75fD7FxcWpurpakvTYY49p/fr12r59uwzDGOrLAgCAoggAwNd13XXXafLkyZKkX//615o7d67y8/P1P//zP/rwww+/9Pzrr79e3/rWtyRJ48eP1yeffKLTp0+rs7NT3/72tyVJt99+++BdAAAA58GtpwAAfE2jRo2SJDU3N+unP/2pdu7cqYSEBK1Zs0Y9PT1fen5MTIz5sWEY6unpEVsHAAAiASuKAABcos7OTo0cOVJxcXH6y1/+otraWvNrTqdTnZ2dF/1aCQkJcjqdqq+vlyT96le/GvC8AAB8GVYUAQC4RDfccIP+/u//Xnl5eUpLSzNvG5Wku+66S0uWLFFycvI5n1M8lyeeeEKPP/64Ro0ape9+97uKjY0drOgAAJwTb48BAECE6ezslNPplCSVl5crEAjo8ccftzkVAOBKwooiAAAR5tChQyorK1MwGNR1112np556yu5IAIArDCuKAAAAAAALNrMBAAAAAFhQFAEAAAAAFhRFAAAAAIAFRREAAAAAYPH/AGvGhFWfjRItAAAAAElFTkSuQmCC\n",
      "text/plain": [
       "<Figure size 900x360 with 1 Axes>"
      ]
     },
     "metadata": {},
     "output_type": "display_data"
    }
   ],
   "source": [
    "import seaborn as sns\n",
    "# Check the distribution of the rating\n",
    "with sns.axes_style('darkgrid'):\n",
    "    g = sns.factorplot(\"rating\", data=user_rating_data, aspect=2.5,kind='count')\n",
    "    g.set_ylabels(\"Total number of ratings\")"
   ]
  },
  {
   "cell_type": "code",
   "execution_count": 71,
   "metadata": {},
   "outputs": [
    {
     "name": "stdout",
     "output_type": "stream",
     "text": [
      "Total data \n",
      "----------------------------------------\n",
      "\n",
      "Total no of ratings : 100000\n",
      "Total No of Users   : 943\n",
      "Total No of Movies  : 1682\n"
     ]
    }
   ],
   "source": [
    "print(\"Total data \")\n",
    "print(\"-\"*40)\n",
    "print(\"\\nTotal no of ratings :\",user_rating_data.shape[0])\n",
    "print(\"Total No of Users   :\", len(np.unique(user_rating_data.user_id)))\n",
    "print(\"Total No of Movies  :\", len(np.unique(user_rating_data.item_id)))"
   ]
  },
  {
   "cell_type": "code",
   "execution_count": 72,
   "metadata": {},
   "outputs": [],
   "source": [
    "#Dropping the Timestamp column\n",
    "\n",
    "user_rating_data.drop(['timestamp'], axis=1,inplace=True)"
   ]
  },
  {
   "cell_type": "code",
   "execution_count": 73,
   "metadata": {},
   "outputs": [
    {
     "data": {
      "text/plain": [
       "user_id\n",
       "405    737\n",
       "655    685\n",
       "13     636\n",
       "450    540\n",
       "276    518\n",
       "Name: rating, dtype: int64"
      ]
     },
     "execution_count": 73,
     "metadata": {},
     "output_type": "execute_result"
    }
   ],
   "source": [
    "#Analysis of rating given by the user \n",
    "\n",
    "no_of_rated_movies_per_user = user_rating_data.groupby(by='user_id')['rating'].count().sort_values(ascending=False)\n",
    "\n",
    "no_of_rated_movies_per_user.head()"
   ]
  },
  {
   "cell_type": "code",
   "execution_count": 74,
   "metadata": {},
   "outputs": [
    {
     "data": {
      "text/plain": [
       "count    943.000000\n",
       "mean     106.044539\n",
       "std      100.931743\n",
       "min       20.000000\n",
       "25%       33.000000\n",
       "50%       65.000000\n",
       "75%      148.000000\n",
       "max      737.000000\n",
       "Name: rating, dtype: float64"
      ]
     },
     "execution_count": 74,
     "metadata": {},
     "output_type": "execute_result"
    }
   ],
   "source": [
    "no_of_rated_movies_per_user.describe()"
   ]
  },
  {
   "cell_type": "code",
   "execution_count": 75,
   "metadata": {},
   "outputs": [
    {
     "name": "stdout",
     "output_type": "stream",
     "text": [
      " min_rating_count  20\n"
     ]
    }
   ],
   "source": [
    "min_rating_count = no_of_rated_movies_per_user.min()\n",
    "print(' min_rating_count ',min_rating_count)"
   ]
  },
  {
   "cell_type": "code",
   "execution_count": 78,
   "metadata": {},
   "outputs": [],
   "source": [
    "quantiles = no_of_rated_movies_per_user.quantile(np.arange(0,1.01,0.01), interpolation='higher')"
   ]
  },
  {
   "cell_type": "code",
   "execution_count": 80,
   "metadata": {},
   "outputs": [
    {
     "data": {
      "image/png": "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\n",
      "text/plain": [
       "<Figure size 720x720 with 1 Axes>"
      ]
     },
     "metadata": {
      "needs_background": "light"
     },
     "output_type": "display_data"
    }
   ],
   "source": [
    "plt.figure(figsize=(10,10))\n",
    "plt.title(\"Quantiles and their Values\")\n",
    "quantiles.plot()\n",
    "# quantiles with 0.05 difference\n",
    "plt.scatter(x=quantiles.index[::5], y=quantiles.values[::5], c='orange', label=\"quantiles with 0.05 intervals\")\n",
    "# quantiles with 0.25 difference\n",
    "plt.scatter(x=quantiles.index[::25], y=quantiles.values[::25], c='m', label = \"quantiles with 0.25 intervals\")\n",
    "plt.ylabel('No of ratings by user')\n",
    "plt.xlabel('Value at the quantile')\n",
    "plt.legend(loc='best')\n",
    "plt.show()"
   ]
  },
  {
   "cell_type": "code",
   "execution_count": 82,
   "metadata": {},
   "outputs": [
    {
     "name": "stdout",
     "output_type": "stream",
     "text": [
      "\n",
      " No of rated movies more than 20 per user : 943\n",
      "\n"
     ]
    }
   ],
   "source": [
    "print('\\n No of rated movies more than {} per user : {}\\n'.format(min_rating_count, sum(no_of_rated_movies_per_user >= min_rating_count)) )"
   ]
  },
  {
   "cell_type": "markdown",
   "metadata": {},
   "source": [
    " ## Merge the user and user rating data to prepare the final data set"
   ]
  },
  {
   "cell_type": "code",
   "execution_count": 100,
   "metadata": {},
   "outputs": [
    {
     "data": {
      "text/plain": [
       "<bound method NDFrame.head of        movie_id                                movie_title release_date  \\\n",
       "0             1                           Toy Story (1995)  01-Jan-1995   \n",
       "1             1                           Toy Story (1995)  01-Jan-1995   \n",
       "2             1                           Toy Story (1995)  01-Jan-1995   \n",
       "3             1                           Toy Story (1995)  01-Jan-1995   \n",
       "4             1                           Toy Story (1995)  01-Jan-1995   \n",
       "...         ...                                        ...          ...   \n",
       "99995      1678                          Mat' i syn (1997)  06-Feb-1998   \n",
       "99996      1679                           B. Monkey (1998)  06-Feb-1998   \n",
       "99997      1680                       Sliding Doors (1998)  01-Jan-1998   \n",
       "99998      1681                        You So Crazy (1994)  01-Jan-1994   \n",
       "99999      1682  Scream of Stone (Schrei aus Stein) (1991)  08-Mar-1996   \n",
       "\n",
       "       video_release_date                                           IMDb_URL  \\\n",
       "0                     NaN  http://us.imdb.com/M/title-exact?Toy%20Story%2...   \n",
       "1                     NaN  http://us.imdb.com/M/title-exact?Toy%20Story%2...   \n",
       "2                     NaN  http://us.imdb.com/M/title-exact?Toy%20Story%2...   \n",
       "3                     NaN  http://us.imdb.com/M/title-exact?Toy%20Story%2...   \n",
       "4                     NaN  http://us.imdb.com/M/title-exact?Toy%20Story%2...   \n",
       "...                   ...                                                ...   \n",
       "99995                 NaN  http://us.imdb.com/M/title-exact?Mat%27+i+syn+...   \n",
       "99996                 NaN  http://us.imdb.com/M/title-exact?B%2E+Monkey+(...   \n",
       "99997                 NaN      http://us.imdb.com/Title?Sliding+Doors+(1998)   \n",
       "99998                 NaN  http://us.imdb.com/M/title-exact?You%20So%20Cr...   \n",
       "99999                 NaN  http://us.imdb.com/M/title-exact?Schrei%20aus%...   \n",
       "\n",
       "       unknown  Action  Adventure  Animation  Children's  ...  Musical  \\\n",
       "0            0       0          0          1           1  ...        0   \n",
       "1            0       0          0          1           1  ...        0   \n",
       "2            0       0          0          1           1  ...        0   \n",
       "3            0       0          0          1           1  ...        0   \n",
       "4            0       0          0          1           1  ...        0   \n",
       "...        ...     ...        ...        ...         ...  ...      ...   \n",
       "99995        0       0          0          0           0  ...        0   \n",
       "99996        0       0          0          0           0  ...        0   \n",
       "99997        0       0          0          0           0  ...        0   \n",
       "99998        0       0          0          0           0  ...        0   \n",
       "99999        0       0          0          0           0  ...        0   \n",
       "\n",
       "       Mystery  Romance  Sci-Fi  Thriller  War  Western  user_id  item_id  \\\n",
       "0            0        0       0         0    0        0      308        1   \n",
       "1            0        0       0         0    0        0      287        1   \n",
       "2            0        0       0         0    0        0      148        1   \n",
       "3            0        0       0         0    0        0      280        1   \n",
       "4            0        0       0         0    0        0       66        1   \n",
       "...        ...      ...     ...       ...  ...      ...      ...      ...   \n",
       "99995        0        0       0         0    0        0      863     1678   \n",
       "99996        0        1       0         1    0        0      863     1679   \n",
       "99997        0        1       0         0    0        0      863     1680   \n",
       "99998        0        0       0         0    0        0      896     1681   \n",
       "99999        0        0       0         0    0        0      916     1682   \n",
       "\n",
       "       rating  \n",
       "0           4  \n",
       "1           5  \n",
       "2           4  \n",
       "3           4  \n",
       "4           3  \n",
       "...       ...  \n",
       "99995       1  \n",
       "99996       3  \n",
       "99997       2  \n",
       "99998       3  \n",
       "99999       3  \n",
       "\n",
       "[100000 rows x 27 columns]>"
      ]
     },
     "execution_count": 100,
     "metadata": {},
     "output_type": "execute_result"
    }
   ],
   "source": [
    "\n",
    "## merge movie and movie rating data\n",
    "merged_df = item_data.merge(user_rating_data, how = 'inner', left_on=['movie_id'], right_on=['item_id'])\n",
    "merged_df.head"
   ]
  },
  {
   "cell_type": "code",
   "execution_count": 98,
   "metadata": {},
   "outputs": [
    {
     "data": {
      "text/html": [
       "<div>\n",
       "<style scoped>\n",
       "    .dataframe tbody tr th:only-of-type {\n",
       "        vertical-align: middle;\n",
       "    }\n",
       "\n",
       "    .dataframe tbody tr th {\n",
       "        vertical-align: top;\n",
       "    }\n",
       "\n",
       "    .dataframe thead th {\n",
       "        text-align: right;\n",
       "    }\n",
       "</style>\n",
       "<table border=\"1\" class=\"dataframe\">\n",
       "  <thead>\n",
       "    <tr style=\"text-align: right;\">\n",
       "      <th></th>\n",
       "      <th>user_id</th>\n",
       "      <th>age</th>\n",
       "      <th>gender</th>\n",
       "      <th>occupation</th>\n",
       "      <th>zip code</th>\n",
       "      <th>age_discreet</th>\n",
       "    </tr>\n",
       "  </thead>\n",
       "  <tbody>\n",
       "    <tr>\n",
       "      <th>0</th>\n",
       "      <td>1</td>\n",
       "      <td>24</td>\n",
       "      <td>M</td>\n",
       "      <td>technician</td>\n",
       "      <td>85711</td>\n",
       "      <td>young</td>\n",
       "    </tr>\n",
       "    <tr>\n",
       "      <th>1</th>\n",
       "      <td>2</td>\n",
       "      <td>53</td>\n",
       "      <td>F</td>\n",
       "      <td>other</td>\n",
       "      <td>94043</td>\n",
       "      <td>old</td>\n",
       "    </tr>\n",
       "    <tr>\n",
       "      <th>2</th>\n",
       "      <td>3</td>\n",
       "      <td>23</td>\n",
       "      <td>M</td>\n",
       "      <td>writer</td>\n",
       "      <td>32067</td>\n",
       "      <td>young</td>\n",
       "    </tr>\n",
       "    <tr>\n",
       "      <th>3</th>\n",
       "      <td>4</td>\n",
       "      <td>24</td>\n",
       "      <td>M</td>\n",
       "      <td>technician</td>\n",
       "      <td>43537</td>\n",
       "      <td>young</td>\n",
       "    </tr>\n",
       "    <tr>\n",
       "      <th>4</th>\n",
       "      <td>5</td>\n",
       "      <td>33</td>\n",
       "      <td>F</td>\n",
       "      <td>other</td>\n",
       "      <td>15213</td>\n",
       "      <td>mid-age</td>\n",
       "    </tr>\n",
       "    <tr>\n",
       "      <th>...</th>\n",
       "      <td>...</td>\n",
       "      <td>...</td>\n",
       "      <td>...</td>\n",
       "      <td>...</td>\n",
       "      <td>...</td>\n",
       "      <td>...</td>\n",
       "    </tr>\n",
       "    <tr>\n",
       "      <th>938</th>\n",
       "      <td>939</td>\n",
       "      <td>26</td>\n",
       "      <td>F</td>\n",
       "      <td>student</td>\n",
       "      <td>33319</td>\n",
       "      <td>young</td>\n",
       "    </tr>\n",
       "    <tr>\n",
       "      <th>939</th>\n",
       "      <td>940</td>\n",
       "      <td>32</td>\n",
       "      <td>M</td>\n",
       "      <td>administrator</td>\n",
       "      <td>02215</td>\n",
       "      <td>mid-age</td>\n",
       "    </tr>\n",
       "    <tr>\n",
       "      <th>940</th>\n",
       "      <td>941</td>\n",
       "      <td>20</td>\n",
       "      <td>M</td>\n",
       "      <td>student</td>\n",
       "      <td>97229</td>\n",
       "      <td>young</td>\n",
       "    </tr>\n",
       "    <tr>\n",
       "      <th>941</th>\n",
       "      <td>942</td>\n",
       "      <td>48</td>\n",
       "      <td>F</td>\n",
       "      <td>librarian</td>\n",
       "      <td>78209</td>\n",
       "      <td>old</td>\n",
       "    </tr>\n",
       "    <tr>\n",
       "      <th>942</th>\n",
       "      <td>943</td>\n",
       "      <td>22</td>\n",
       "      <td>M</td>\n",
       "      <td>student</td>\n",
       "      <td>77841</td>\n",
       "      <td>young</td>\n",
       "    </tr>\n",
       "  </tbody>\n",
       "</table>\n",
       "<p>943 rows × 6 columns</p>\n",
       "</div>"
      ],
      "text/plain": [
       "     user_id  age gender     occupation zip code age_discreet\n",
       "0          1   24      M     technician    85711        young\n",
       "1          2   53      F          other    94043          old\n",
       "2          3   23      M         writer    32067        young\n",
       "3          4   24      M     technician    43537        young\n",
       "4          5   33      F          other    15213      mid-age\n",
       "..       ...  ...    ...            ...      ...          ...\n",
       "938      939   26      F        student    33319        young\n",
       "939      940   32      M  administrator    02215      mid-age\n",
       "940      941   20      M        student    97229        young\n",
       "941      942   48      F      librarian    78209          old\n",
       "942      943   22      M        student    77841        young\n",
       "\n",
       "[943 rows x 6 columns]"
      ]
     },
     "execution_count": 98,
     "metadata": {},
     "output_type": "execute_result"
    }
   ],
   "source": [
    "user_data"
   ]
  },
  {
   "cell_type": "code",
   "execution_count": 101,
   "metadata": {},
   "outputs": [
    {
     "data": {
      "text/plain": [
       "<bound method NDFrame.head of        movie_id                 movie_title release_date  video_release_date  \\\n",
       "0             1            Toy Story (1995)  01-Jan-1995                 NaN   \n",
       "1             4           Get Shorty (1995)  01-Jan-1995                 NaN   \n",
       "2             5              Copycat (1995)  01-Jan-1995                 NaN   \n",
       "3             7       Twelve Monkeys (1995)  01-Jan-1995                 NaN   \n",
       "4             8                 Babe (1995)  01-Jan-1995                 NaN   \n",
       "...         ...                         ...          ...                 ...   \n",
       "99995       748           Saint, The (1997)  14-Mar-1997                 NaN   \n",
       "99996       751  Tomorrow Never Dies (1997)  01-Jan-1997                 NaN   \n",
       "99997       879      Peacemaker, The (1997)  01-Jan-1997                 NaN   \n",
       "99998       894         Home Alone 3 (1997)  01-Jan-1997                 NaN   \n",
       "99999       901            Mr. Magoo (1997)  25-Dec-1997                 NaN   \n",
       "\n",
       "                                                IMDb_URL  unknown  Action  \\\n",
       "0      http://us.imdb.com/M/title-exact?Toy%20Story%2...        0       0   \n",
       "1      http://us.imdb.com/M/title-exact?Get%20Shorty%...        0       1   \n",
       "2      http://us.imdb.com/M/title-exact?Copycat%20(1995)        0       0   \n",
       "3      http://us.imdb.com/M/title-exact?Twelve%20Monk...        0       0   \n",
       "4         http://us.imdb.com/M/title-exact?Babe%20(1995)        0       0   \n",
       "...                                                  ...      ...     ...   \n",
       "99995  http://us.imdb.com/M/title-exact?Saint%2C%20Th...        0       1   \n",
       "99996  http://us.imdb.com/M/title-exact?imdb-title-12...        0       1   \n",
       "99997  http://us.imdb.com/M/title-exact?Peacemaker%2C...        0       1   \n",
       "99998  http://us.imdb.com/M/title-exact?imdb-title-11...        0       0   \n",
       "99999  http://us.imdb.com/M/title-exact?imdb-title-11...        0       0   \n",
       "\n",
       "       Adventure  Animation  Children's  ...  War  Western  user_id  item_id  \\\n",
       "0              0          1           1  ...    0        0      308        1   \n",
       "1              0          0           0  ...    0        0      308        4   \n",
       "2              0          0           0  ...    0        0      308        5   \n",
       "3              0          0           0  ...    0        0      308        7   \n",
       "4              0          0           1  ...    0        0      308        8   \n",
       "...          ...        ...         ...  ...  ...      ...      ...      ...   \n",
       "99995          0          0           0  ...    0        0      729      748   \n",
       "99996          0          0           0  ...    0        0      729      751   \n",
       "99997          0          0           0  ...    1        0      729      879   \n",
       "99998          0          0           1  ...    0        0      729      894   \n",
       "99999          0          0           0  ...    0        0      729      901   \n",
       "\n",
       "       rating  age  gender  occupation  zip code  age_discreet  \n",
       "0           4   60       M     retired     95076           old  \n",
       "1           5   60       M     retired     95076           old  \n",
       "2           4   60       M     retired     95076           old  \n",
       "3           4   60       M     retired     95076           old  \n",
       "4           5   60       M     retired     95076           old  \n",
       "...       ...  ...     ...         ...       ...           ...  \n",
       "99995       4   19       M     student     56567         young  \n",
       "99996       3   19       M     student     56567         young  \n",
       "99997       3   19       M     student     56567         young  \n",
       "99998       1   19       M     student     56567         young  \n",
       "99999       1   19       M     student     56567         young  \n",
       "\n",
       "[100000 rows x 32 columns]>"
      ]
     },
     "execution_count": 101,
     "metadata": {},
     "output_type": "execute_result"
    }
   ],
   "source": [
    "## merge the user info\n",
    "merged_df = merged_df.merge(user_data, how = 'inner', on=['user_id'])\n",
    "merged_df.head"
   ]
  },
  {
   "cell_type": "code",
   "execution_count": 102,
   "metadata": {},
   "outputs": [
    {
     "name": "stdout",
     "output_type": "stream",
     "text": [
      "Merged DaraFrame  - Shape  (100000, 32)  \n",
      "\n",
      "columns  Index(['movie_id', 'movie_title', 'release_date', 'video_release_date',\n",
      "       'IMDb_URL', 'unknown', 'Action', 'Adventure', 'Animation', 'Children's',\n",
      "       'Comedy', 'Crime', 'Documentary', 'Drama', 'Fantasy', 'Film-Noir',\n",
      "       'Horror', 'Musical', 'Mystery', 'Romance', 'Sci-Fi', 'Thriller', 'War',\n",
      "       'Western', 'user_id', 'item_id', 'rating', 'age', 'gender',\n",
      "       'occupation', 'zip code', 'age_discreet'],\n",
      "      dtype='object')\n"
     ]
    }
   ],
   "source": [
    "\n",
    "print(\"Merged DaraFrame  - Shape \",merged_df.shape,\" \\n\\ncolumns \",merged_df.columns)"
   ]
  },
  {
   "cell_type": "code",
   "execution_count": 115,
   "metadata": {},
   "outputs": [],
   "source": [
    "## dropping uneccessary columns\n",
    "final_dataset = merged_df.drop(columns=['release_date','video_release_date','IMDb_URL','item_id'])"
   ]
  },
  {
   "cell_type": "code",
   "execution_count": 118,
   "metadata": {},
   "outputs": [
    {
     "name": "stdout",
     "output_type": "stream",
     "text": [
      "\n",
      " final data set Shape  (100000, 28)  \n",
      "\n",
      "columns  Index(['item_id', 'movie_title', 'unknown', 'Action', 'Adventure', 'Animation',\n",
      "       'Children's', 'Comedy', 'Crime', 'Documentary', 'Drama', 'Fantasy',\n",
      "       'Film-Noir', 'Horror', 'Musical', 'Mystery', 'Romance', 'Sci-Fi',\n",
      "       'Thriller', 'War', 'Western', 'user_id', 'rating', 'age', 'gender',\n",
      "       'occupation', 'zip code', 'age_discreet'],\n",
      "      dtype='object')\n"
     ]
    }
   ],
   "source": [
    "## rename movie_id to item_id\n",
    "updated_columnsNames = ['item_id', 'movie_title', 'unknown', 'Action', 'Adventure',\n",
    "       'Animation', 'Children\\'s', 'Comedy', 'Crime', 'Documentary', 'Drama',\n",
    "       'Fantasy', 'Film-Noir', 'Horror', 'Musical', 'Mystery', 'Romance',\n",
    "       'Sci-Fi', 'Thriller', 'War', 'Western', 'user_id', 'rating', 'age',\n",
    "       'gender', 'occupation', 'zip code', 'age_discreet']\n",
    "final_dataset.columns = updated_columnsNames\n",
    "print(\"\\n final data set Shape \",final_dataset.shape,\" \\n\\ncolumns \",final_dataset.columns)"
   ]
  },
  {
   "cell_type": "markdown",
   "metadata": {},
   "source": [
    "## 80-20 Data Split"
   ]
  },
  {
   "cell_type": "code",
   "execution_count": 130,
   "metadata": {},
   "outputs": [],
   "source": [
    "rating_class = final_dataset['rating']\n",
    "vs_matrix = final_dataset.drop(['rating'],axis=1)\n",
    "vs_matrix = final_dataset.copy()"
   ]
  },
  {
   "cell_type": "code",
   "execution_count": 131,
   "metadata": {},
   "outputs": [],
   "source": [
    "\n",
    "vs_train, vs_test, vs_target_train, vs_target_test = train_test_split(vs_matrix,rating_class, test_size=0.2, random_state=33)\n"
   ]
  },
  {
   "cell_type": "code",
   "execution_count": 132,
   "metadata": {
    "scrolled": true
   },
   "outputs": [
    {
     "data": {
      "text/plain": [
       "<bound method NDFrame.head of        item_id                   movie_title  unknown  Action  Adventure  \\\n",
       "4867       419           Mary Poppins (1964)        0       0          0   \n",
       "80281      479                Vertigo (1958)        0       0          0   \n",
       "20667      354    Wedding Singer, The (1998)        0       0          0   \n",
       "30770      202          Groundhog Day (1993)        0       0          0   \n",
       "74987      447                 Carrie (1976)        0       0          0   \n",
       "...        ...                           ...      ...     ...        ...   \n",
       "27849      496  It's a Wonderful Life (1946)        0       0          0   \n",
       "92818      289                  Evita (1996)        0       0          0   \n",
       "578        127         Godfather, The (1972)        0       1          0   \n",
       "67975      739           Pretty Woman (1990)        0       0          0   \n",
       "23572      637           Howling, The (1981)        0       0          0   \n",
       "\n",
       "       Animation  Children's  Comedy  Crime  Documentary  ...  Thriller  War  \\\n",
       "4867           0           1       1      0            0  ...         0    0   \n",
       "80281          0           0       0      0            0  ...         1    0   \n",
       "20667          0           0       1      0            0  ...         0    0   \n",
       "30770          0           0       1      0            0  ...         0    0   \n",
       "74987          0           0       0      0            0  ...         0    0   \n",
       "...          ...         ...     ...    ...          ...  ...       ...  ...   \n",
       "27849          0           0       0      0            0  ...         0    0   \n",
       "92818          0           0       0      0            0  ...         0    0   \n",
       "578            0           0       0      1            0  ...         0    0   \n",
       "67975          0           0       1      0            0  ...         0    0   \n",
       "23572          0           0       1      0            0  ...         0    0   \n",
       "\n",
       "       Western  user_id  rating  age  gender     occupation  zip code  \\\n",
       "4867         0      234       4   60       M        retired     94702   \n",
       "80281        0        9       4   29       M        student     01002   \n",
       "20667        0      416       4   20       F        student     92626   \n",
       "30770        0      642       3   18       F        student     95521   \n",
       "74987        0        7       5   57       M  administrator     91344   \n",
       "...        ...      ...     ...  ...     ...            ...       ...   \n",
       "27849        0      532       5   20       M        student     92705   \n",
       "92818        0      728       3   58       M      executive     94306   \n",
       "578          0      280       5   30       F      librarian     22903   \n",
       "67975        0      346       3   34       M          other     76059   \n",
       "23572        0      379       2   44       M     programmer     98117   \n",
       "\n",
       "       age_discreet  \n",
       "4867            old  \n",
       "80281       mid-age  \n",
       "20667         young  \n",
       "30770         young  \n",
       "74987           old  \n",
       "...             ...  \n",
       "27849         young  \n",
       "92818           old  \n",
       "578         mid-age  \n",
       "67975       mid-age  \n",
       "23572           old  \n",
       "\n",
       "[80000 rows x 28 columns]>"
      ]
     },
     "execution_count": 132,
     "metadata": {},
     "output_type": "execute_result"
    }
   ],
   "source": [
    "vs_train.head"
   ]
  },
  {
   "cell_type": "code",
   "execution_count": 133,
   "metadata": {
    "scrolled": true
   },
   "outputs": [
    {
     "data": {
      "text/plain": [
       "<bound method NDFrame.head of        item_id                  movie_title  unknown  Action  Adventure  \\\n",
       "38901      744       Michael Collins (1996)        0       0          0   \n",
       "98214      315             Apt Pupil (1998)        0       0          0   \n",
       "27146      537  My Own Private Idaho (1991)        0       0          0   \n",
       "73705      191               Amadeus (1984)        0       0          0   \n",
       "91474      328     Conspiracy Theory (1997)        0       1          0   \n",
       "...        ...                          ...      ...     ...        ...   \n",
       "26696      106            Diabolique (1996)        0       0          0   \n",
       "98544      299               Hoodlum (1997)        0       0          0   \n",
       "30940      944       Renaissance Man (1994)        0       0          0   \n",
       "49850      117             Rock, The (1996)        0       1          1   \n",
       "33756      258               Contact (1997)        0       0          0   \n",
       "\n",
       "       Animation  Children's  Comedy  Crime  Documentary  ...  Thriller  War  \\\n",
       "38901          0           0       0      0            0  ...         0    1   \n",
       "98214          0           0       0      0            0  ...         1    0   \n",
       "27146          0           0       0      0            0  ...         0    0   \n",
       "73705          0           0       0      0            0  ...         0    0   \n",
       "91474          0           0       0      0            0  ...         1    0   \n",
       "...          ...         ...     ...    ...          ...  ...       ...  ...   \n",
       "26696          0           0       0      0            0  ...         1    0   \n",
       "98544          0           0       0      1            0  ...         0    0   \n",
       "30940          0           0       1      0            0  ...         0    1   \n",
       "49850          0           0       0      0            0  ...         1    0   \n",
       "33756          0           0       0      0            0  ...         0    0   \n",
       "\n",
       "       Western  user_id  rating  age  gender  occupation  zip code  \\\n",
       "38901        0      634       5   39       M    engineer     T8H1N   \n",
       "98214        0      112       5   30       M    salesman     60613   \n",
       "27146        0      429       4   27       M     student     29205   \n",
       "73705        0      481       5   73       M     retired     37771   \n",
       "91474        0      464       3   60       M      writer     94583   \n",
       "...        ...      ...     ...  ...     ...         ...       ...   \n",
       "26696        0      622       2   25       M  programmer     14850   \n",
       "98544        0      616       3   55       M   scientist     50613   \n",
       "30940        0      642       5   18       F     student     95521   \n",
       "49850        0      660       3   26       M     student     77380   \n",
       "33756        0      588       4   18       F     student     93063   \n",
       "\n",
       "       age_discreet  \n",
       "38901       mid-age  \n",
       "98214       mid-age  \n",
       "27146         young  \n",
       "73705           old  \n",
       "91474           old  \n",
       "...             ...  \n",
       "26696         young  \n",
       "98544           old  \n",
       "30940         young  \n",
       "49850         young  \n",
       "33756         young  \n",
       "\n",
       "[20000 rows x 28 columns]>"
      ]
     },
     "execution_count": 133,
     "metadata": {},
     "output_type": "execute_result"
    }
   ],
   "source": [
    "vs_test.head"
   ]
  },
  {
   "cell_type": "markdown",
   "metadata": {},
   "source": [
    "## Popularity Based Recommendation¶\n",
    "#### Popularity based recommendation system works with the trend. It basically uses the movies which are in trend right now. For example, if any movie which is usually watched by every new user then there are chances that it may suggest that movie to the test user.\n",
    "\n",
    "#### The problems with popularity based recommendation system is that the personalization is not available with this method i.e. even though you know the behaviour of the user you cannot recommend movies accordingly."
   ]
  },
  {
   "cell_type": "code",
   "execution_count": 135,
   "metadata": {},
   "outputs": [
    {
     "name": "stdout",
     "output_type": "stream",
     "text": [
      "(62866, 28)\n"
     ]
    }
   ],
   "source": [
    "#Getting the new dataframe which contains users who has given more than the 50 ratings\n",
    "\n",
    "new_df=vs_train.groupby(\"item_id\").filter(lambda x:x['rating'].count() >50)\n",
    "print(new_df.shape)"
   ]
  },
  {
   "cell_type": "code",
   "execution_count": 136,
   "metadata": {},
   "outputs": [
    {
     "name": "stdout",
     "output_type": "stream",
     "text": [
      "item_id\n",
      "50     462\n",
      "258    403\n",
      "100    391\n",
      "288    390\n",
      "181    389\n",
      "      ... \n",
      "207     51\n",
      "468     51\n",
      "452     51\n",
      "450     51\n",
      "371     51\n",
      "Name: rating, Length: 512, dtype: int64\n"
     ]
    }
   ],
   "source": [
    "no_of_ratings_per_movie = new_df.groupby(by='item_id')['rating'].count().sort_values(ascending=False)\n",
    "print(no_of_ratings_per_movie)"
   ]
  },
  {
   "cell_type": "code",
   "execution_count": 137,
   "metadata": {},
   "outputs": [
    {
     "data": {
      "image/png": "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\n",
      "text/plain": [
       "<Figure size 576x288 with 1 Axes>"
      ]
     },
     "metadata": {
      "needs_background": "light"
     },
     "output_type": "display_data"
    }
   ],
   "source": [
    "## plot number of ratings per movie\n",
    "fig = plt.figure(figsize=plt.figaspect(.5))\n",
    "ax = plt.gca()\n",
    "plt.plot(no_of_ratings_per_movie.values)\n",
    "plt.title('# RATINGS per Movie')\n",
    "plt.xlabel('Movie')\n",
    "plt.ylabel('No of ratings per Movie')\n",
    "ax.set_xticklabels([])\n",
    "\n",
    "plt.show()"
   ]
  },
  {
   "cell_type": "code",
   "execution_count": 138,
   "metadata": {},
   "outputs": [
    {
     "data": {
      "text/plain": [
       "item_id\n",
       "408    4.547368\n",
       "169    4.489362\n",
       "318    4.477178\n",
       "114    4.452830\n",
       "64     4.422907\n",
       "Name: rating, dtype: float64"
      ]
     },
     "execution_count": 138,
     "metadata": {},
     "output_type": "execute_result"
    }
   ],
   "source": [
    "#Average rating of the movie (sorting in descending order)\n",
    "new_df.groupby('item_id')['rating'].mean().sort_values(ascending=False).head()"
   ]
  },
  {
   "cell_type": "code",
   "execution_count": 139,
   "metadata": {},
   "outputs": [
    {
     "data": {
      "text/plain": [
       "item_id\n",
       "50     462\n",
       "258    403\n",
       "100    391\n",
       "288    390\n",
       "181    389\n",
       "Name: rating, dtype: int64"
      ]
     },
     "execution_count": 139,
     "metadata": {},
     "output_type": "execute_result"
    }
   ],
   "source": [
    "#Total no of rating for movie  (sorting in descending order)\n",
    "\n",
    "new_df.groupby('item_id')['rating'].count().sort_values(ascending=False).head()"
   ]
  },
  {
   "cell_type": "code",
   "execution_count": 141,
   "metadata": {},
   "outputs": [
    {
     "data": {
      "text/html": [
       "<div>\n",
       "<style scoped>\n",
       "    .dataframe tbody tr th:only-of-type {\n",
       "        vertical-align: middle;\n",
       "    }\n",
       "\n",
       "    .dataframe tbody tr th {\n",
       "        vertical-align: top;\n",
       "    }\n",
       "\n",
       "    .dataframe thead th {\n",
       "        text-align: right;\n",
       "    }\n",
       "</style>\n",
       "<table border=\"1\" class=\"dataframe\">\n",
       "  <thead>\n",
       "    <tr style=\"text-align: right;\">\n",
       "      <th></th>\n",
       "      <th>rating</th>\n",
       "      <th>rating_counts</th>\n",
       "    </tr>\n",
       "    <tr>\n",
       "      <th>item_id</th>\n",
       "      <th></th>\n",
       "      <th></th>\n",
       "    </tr>\n",
       "  </thead>\n",
       "  <tbody>\n",
       "    <tr>\n",
       "      <th>1</th>\n",
       "      <td>3.928375</td>\n",
       "      <td>363</td>\n",
       "    </tr>\n",
       "    <tr>\n",
       "      <th>2</th>\n",
       "      <td>3.247619</td>\n",
       "      <td>105</td>\n",
       "    </tr>\n",
       "    <tr>\n",
       "      <th>3</th>\n",
       "      <td>2.835821</td>\n",
       "      <td>67</td>\n",
       "    </tr>\n",
       "    <tr>\n",
       "      <th>4</th>\n",
       "      <td>3.615385</td>\n",
       "      <td>169</td>\n",
       "    </tr>\n",
       "    <tr>\n",
       "      <th>5</th>\n",
       "      <td>3.289855</td>\n",
       "      <td>69</td>\n",
       "    </tr>\n",
       "  </tbody>\n",
       "</table>\n",
       "</div>"
      ],
      "text/plain": [
       "           rating  rating_counts\n",
       "item_id                         \n",
       "1        3.928375            363\n",
       "2        3.247619            105\n",
       "3        2.835821             67\n",
       "4        3.615385            169\n",
       "5        3.289855             69"
      ]
     },
     "execution_count": 141,
     "metadata": {},
     "output_type": "execute_result"
    }
   ],
   "source": [
    "ratings_mean_count = pd.DataFrame(new_df.groupby('item_id')['rating'].mean())\n",
    "ratings_mean_count['rating_counts'] = pd.DataFrame(new_df.groupby('item_id')['rating'].count())\n",
    "ratings_mean_count.head()"
   ]
  },
  {
   "cell_type": "code",
   "execution_count": 142,
   "metadata": {},
   "outputs": [
    {
     "name": "stdout",
     "output_type": "stream",
     "text": [
      "Max # of ratings  462\n"
     ]
    }
   ],
   "source": [
    "print(\"Max # of ratings \",ratings_mean_count['rating_counts'].max())"
   ]
  },
  {
   "cell_type": "code",
   "execution_count": 143,
   "metadata": {},
   "outputs": [
    {
     "data": {
      "text/plain": [
       "<matplotlib.axes._subplots.AxesSubplot at 0x20f133f94f0>"
      ]
     },
     "execution_count": 143,
     "metadata": {},
     "output_type": "execute_result"
    },
    {
     "data": {
      "image/png": "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\n",
      "text/plain": [
       "<Figure size 576x432 with 1 Axes>"
      ]
     },
     "metadata": {
      "needs_background": "light"
     },
     "output_type": "display_data"
    }
   ],
   "source": [
    "plt.figure(figsize=(8,6))\n",
    "plt.rcParams['patch.force_edgecolor'] = True\n",
    "ratings_mean_count['rating_counts'].hist(bins=50)"
   ]
  },
  {
   "cell_type": "code",
   "execution_count": 144,
   "metadata": {},
   "outputs": [
    {
     "data": {
      "text/plain": [
       "<matplotlib.axes._subplots.AxesSubplot at 0x20f138ac1c0>"
      ]
     },
     "execution_count": 144,
     "metadata": {},
     "output_type": "execute_result"
    },
    {
     "data": {
      "image/png": "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\n",
      "text/plain": [
       "<Figure size 576x432 with 1 Axes>"
      ]
     },
     "metadata": {
      "needs_background": "light"
     },
     "output_type": "display_data"
    }
   ],
   "source": [
    "plt.figure(figsize=(8,6))\n",
    "plt.rcParams['patch.force_edgecolor'] = True\n",
    "ratings_mean_count['rating'].hist(bins=50)"
   ]
  },
  {
   "cell_type": "code",
   "execution_count": 145,
   "metadata": {},
   "outputs": [
    {
     "data": {
      "text/plain": [
       "<seaborn.axisgrid.JointGrid at 0x20f1396b3d0>"
      ]
     },
     "execution_count": 145,
     "metadata": {},
     "output_type": "execute_result"
    },
    {
     "data": {
      "text/plain": [
       "<Figure size 576x432 with 0 Axes>"
      ]
     },
     "metadata": {},
     "output_type": "display_data"
    },
    {
     "data": {
      "image/png": "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\n",
      "text/plain": [
       "<Figure size 432x432 with 3 Axes>"
      ]
     },
     "metadata": {
      "needs_background": "light"
     },
     "output_type": "display_data"
    }
   ],
   "source": [
    "plt.figure(figsize=(8,6))\n",
    "plt.rcParams['patch.force_edgecolor'] = True\n",
    "sns.jointplot(x='rating', y='rating_counts', data=ratings_mean_count, alpha=0.3)"
   ]
  },
  {
   "cell_type": "markdown",
   "metadata": {},
   "source": [
    "### TOP 30 popular movies"
   ]
  },
  {
   "cell_type": "code",
   "execution_count": 148,
   "metadata": {},
   "outputs": [
    {
     "data": {
      "text/plain": [
       "<bound method NDFrame.head of          rating\n",
       "item_id        \n",
       "50          462\n",
       "258         403\n",
       "100         391\n",
       "288         390\n",
       "181         389\n",
       "...         ...\n",
       "452          51\n",
       "371          51\n",
       "468          51\n",
       "207          51\n",
       "450          51\n",
       "\n",
       "[512 rows x 1 columns]>"
      ]
     },
     "execution_count": 148,
     "metadata": {},
     "output_type": "execute_result"
    }
   ],
   "source": [
    "popular_movies = pd.DataFrame(new_df.groupby('item_id')['rating'].count())\n",
    "most_popular = popular_movies.sort_values('rating', ascending=False)\n",
    "most_popular.head"
   ]
  },
  {
   "cell_type": "code",
   "execution_count": 197,
   "metadata": {},
   "outputs": [
    {
     "name": "stdout",
     "output_type": "stream",
     "text": [
      "top movies are \n",
      "\n",
      "     item_id                                    Movie_Name  rating\n",
      "0        50                              Star Wars (1977)     462\n",
      "1       258                                Contact (1997)     403\n",
      "2       100                                  Fargo (1996)     391\n",
      "3       288                                 Scream (1996)     390\n",
      "4       181                     Return of the Jedi (1983)     389\n",
      "5       294                              Liar Liar (1997)     384\n",
      "6       286                   English Patient, The (1996)     382\n",
      "7         1                              Toy Story (1995)     363\n",
      "8       121                 Independence Day (ID4) (1996)     345\n",
      "9       300                          Air Force One (1997)     336\n",
      "10      127                         Godfather, The (1972)     333\n",
      "11      174                Raiders of the Lost Ark (1981)     328\n",
      "12        7                         Twelve Monkeys (1995)     321\n",
      "13      117                              Rock, The (1996)     312\n",
      "14       56                           Pulp Fiction (1994)     307\n",
      "15       98              Silence of the Lambs, The (1991)     306\n",
      "16      237                          Jerry Maguire (1996)     303\n",
      "17      172               Empire Strikes Back, The (1980)     290\n",
      "18      222               Star Trek: First Contact (1996)     279\n",
      "19       79                          Fugitive, The (1993)     270\n",
      "20      313                                Titanic (1997)     269\n",
      "21      405                    Mission: Impossible (1996)     269\n",
      "22      210     Indiana Jones and the Last Crusade (1989)     268\n",
      "23      204                     Back to the Future (1985)     264\n",
      "24      173                    Princess Bride, The (1987)     261\n",
      "25        9                       Dead Man Walking (1995)     260\n",
      "26      151  Willy Wonka and the Chocolate Factory (1971)     259\n",
      "27      269                        Full Monty, The (1997)     254\n",
      "28       96             Terminator 2: Judgment Day (1991)     252\n",
      "29      748                             Saint, The (1997)     251\n"
     ]
    },
    {
     "data": {
      "text/plain": [
       "<matplotlib.axes._subplots.AxesSubplot at 0x20f1f0a0190>"
      ]
     },
     "execution_count": 197,
     "metadata": {},
     "output_type": "execute_result"
    },
    {
     "data": {
      "image/png": "iVBORw0KGgoAAAANSUhEUgAAAXcAAAEQCAYAAABLMTQcAAAABHNCSVQICAgIfAhkiAAAAAlwSFlzAAALEgAACxIB0t1+/AAAADh0RVh0U29mdHdhcmUAbWF0cGxvdGxpYiB2ZXJzaW9uMy4yLjIsIGh0dHA6Ly9tYXRwbG90bGliLm9yZy+WH4yJAAAfFUlEQVR4nO3de7hcVZnn8e8vIRIIMYQkkJC7GuRiyy0iI9iA2EDwAu0DA9IqMGhGxcZp7VYYnbGxmybaXsAeGJsHVFpFJi2O0EoUxIA6BCEQkhBCmjSX5ECAGAgXCSjwzh9rHSj2qcqpXZecys7v8zz11K5Vq1a9tWvVW7vWXnuXIgIzM6uWYUMdgJmZdZ6Tu5lZBTm5m5lVkJO7mVkFObmbmVXQdkMdAMD48eNjxowZQx2GmdlW5fbbb/9dREyod19PJPcZM2awePHioQ7DzGyrIunBRvd5WMbMrIKc3M3MKsjJ3cysgnpizN3MrJE//vGP9PX18dxzzw11KENm5MiRTJkyhREjRjT9GCd3M+tpfX19jB49mhkzZiBpqMPZ4iKCDRs20NfXx8yZM5t+nIdlzKynPffcc4wbN26bTOwAkhg3blzpXy5O7mbW87bVxN6vldfv5G5mVkFO7ma2VZk0ZRqSOnaZNGVax2K74IILePbZZ1++feyxx7Jx48aOtV9Gz+1QnTRlGo88tHZA+cTJU1nXt2YIIjKzXvLIQ2uZ/tmfdKy9B7/07lL1I4KIYNiwgdvGF1xwAR/4wAfYcccdAbj22ms7EmMrei65N3rjyr4BZmad8sADDzBnzhyOOOIIFi1axH777cfy5cvZtGkTJ5xwAueeey7f+MY3ePjhhzniiCMYP348CxcufPnUKs888wxz5szh0EMP5eabb2by5MlcffXV7LDDDtx2222cccYZjBo1ikMPPZQFCxZw1113tR2zh2XMzJqwatUqPvShD7FkyRK++tWvsnjxYpYtW8ZNN93EsmXLOOuss9h9991ZuHAhCxcuHPD4e++9lzPPPJMVK1aw8847c9VVVwFw+umn881vfpNFixYxfPjwjsXr5G5m1oTp06dz8MEHAzB//nwOOOAA9t9/f1asWMHdd9896ONnzpzJfvvtB8CBBx7IAw88wMaNG3n66ad529veBsApp5zSsXh7bljGzKwXjRo1CoD777+fr3zlK9x2222MHTuW0047rak56Ntvv/3Ly8OHD2fTpk1ERNfi9Za7mVkJTz31FKNGjWLMmDE8+uijLFiw4OX7Ro8ezdNPP910W2PHjmX06NHccsstAFx55ZUdi9Nb7ma2VZk4eWpHJ1hMnDy1VP19992X/fffn3322YfXve51HHLIIS/fN3fuXObMmcOkSZPqjrvXc9lll/GRj3yEUaNGcfjhhzNmzJhS8TSibv4saNbs2bOj/886JDWcLdMLsZrZlrVy5Ur22muvoQ6ja5555hl22mknAObNm8e6deu48MILB9Srtx4k3R4Rs+u16y13M7Mh9NOf/pTzzz+fF154genTp/Od73ynI+06uZuZDaGTTjqJk046qePteoeqmfW8bX1ItpXX7+RuZj1t5MiRbNiwYZtN8P3ncx85cmSpx3lYxsx62pQpU+jr62P9+vVDHcqQ6f8npjKc3M2sp40YMaLUPxBZ4mEZM7MKcnI3M6sgJ3czswpycjczqyAndzOzCnJyNzOrICd3M7MKcnI3M6sgJ3czswpycjczq6Cmk7uk4ZKWSPpJvr2LpOsl3Zuvx9bUPUfSakmrJB3djcDNzKyxMlvunwRW1tw+G7ghImYBN+TbSNobOBnYBzgGuFjS8M6Ea2ZmzWgquUuaArwLuLSm+Djg8rx8OXB8TfmVEfF8RNwPrAYO6ky4rzZpyjQkDbhMmjKtG09nZrbVaPaskBcAnwFG15TtFhHrACJinaRdc/lk4Jaaen257FUkzQXmAkyb1loyfuShtQ3/b9XMbFs26Ja7pHcDj0XE7U22qTplA86yHxGXRMTsiJg9YcKEJps2M7NmNLPlfgjwXknHAiOB10r6HvCopEl5q30S8Fiu3wdMrXn8FODhTgZtZmabN+iWe0ScExFTImIGaUfpLyPiA8A1wKm52qnA1Xn5GuBkSdtLmgnMAm7teORmZtZQO//ENA+YL+kMYA1wIkBErJA0H7gbeAE4MyJebDtSMzNrWqmDmCLixoh4d17eEBFHRsSsfP14Tb3zIuL1EfHGiFjQ6aBbUXZmTb36nahrZrYlbDP/oVp2Zk29+p2oa2a2Jfj0A2ZmFeTkvoV5CMfMtoRtZlimV5QZwpk0ZRqPPLR2QPnEyVNZ17emK/GZWTU4ufcwH4FrZq3ysIyZWQU5uZuZVZCTu5lZBTm5m5lVkJO7mVkFObmbmVWQk3tF+F+pzKyW57lXhOfEm1ktb7mbmVWQk7uZWQU5uZuZVZCTu5lZBTm5m5lVkJO7mVkFOblvgzwn3qz6PM99G+Q58WbV5y13M7MKcnI3M6sgJ3cblP/U22zr4zF3G1SZP/U2s97gLXfrKG/lm/UGb7lbR3kr36w3eMvdhoy38s26x1vuNmS8lW/WPd5yNzOrICd32yr4lAlm5XhYxrYKPmWCWTnecjczqyAndzOzCnJyt8rx+LyZx9ytgjw+b9bElrukkZJulbRU0gpJ5+byXSRdL+nefD225jHnSFotaZWko7v5Asza4a18q6pmttyfB94REc9IGgH8RtIC4H3ADRExT9LZwNnAZyXtDZwM7APsDvxC0h4R8WKXXoNZy8pu5U+aMo1HHlr7qrKJk6eyrm9NV+Iza9WgyT0iAngm3xyRLwEcBxyeyy8HbgQ+m8uvjIjngfslrQYOAhZ1MnCzoVDmqFp/EdhQamrMXdJw4HbgDcBFEfFbSbtFxDqAiFgnaddcfTJwS83D+3JZsc25wFyAadP8E9iqx6dXsKHU1GyZiHgxIvYDpgAHSXrTZqqrXhN12rwkImZHxOwJEyY0F62ZmTWl1FTIiNhIGn45BnhU0iSAfP1YrtYHTK152BTg4bYjNTOzpjUzW2aCpJ3z8g7AO4F7gGuAU3O1U4Gr8/I1wMmStpc0E5gF3NrpwM3MrLFmxtwnAZfncfdhwPyI+ImkRcB8SWcAa4ATASJihaT5wN3AC8CZniljZrZlNTNbZhmwf53yDcCRDR5zHnBe29GZbSM8s8Y6zUeomvUAz6yxTvO5ZczMKsjJ3cysgpzczcwqyMndbCvjk51ZM7xD1Wwr41MaWzO85W5mVkFO7mZmFeTkblZhZcbnu1XXhobH3M0qrMz4fLfqgo/AHQpO7mbWdf6Tky3Pyd3MeopPxdAZHnM3s62W9xM05i13M9tqdWs/Qb2hIdi6hoec3M3MCqpwoJiHZczM2tCrwz3ecjcza0M3p4W2M3PIyd3MbAsqMxuonZlDHpYxM6sgJ3czswpycjczqyAndzOzCnJyNzOrICd3M7MKcnI3M6sgJ3czswpycjczqyAndzOzCnJyNzOrICd3M7MKcnI3M6sgJ3czswpycjczqyAndzOzCnJyNzOrICd3M7MKGjS5S5oqaaGklZJWSPpkLt9F0vWS7s3XY2sec46k1ZJWSTq6my/AzMwGambL/QXg0xGxF3AwcKakvYGzgRsiYhZwQ75Nvu9kYB/gGOBiScO7EbyZmdU3aHKPiHURcUdefhpYCUwGjgMuz9UuB47Py8cBV0bE8xFxP7AaOKjTgZuZWWOlxtwlzQD2B34L7BYR6yB9AQC75mqTgbU1D+vLZcW25kpaLGnx+vXry0duZmYNNZ3cJe0EXAX8t4h4anNV65TFgIKISyJidkTMnjBhQrNhmJlZE5pK7pJGkBL79yPiR7n4UUmT8v2TgMdyeR8wtebhU4CHOxOumZk1o5nZMgIuA1ZGxNdq7roGODUvnwpcXVN+sqTtJc0EZgG3di5kMzMbzHZN1DkE+CCwXNKduey/A/OA+ZLOANYAJwJExApJ84G7STNtzoyIFzseuZmZNTRoco+I31B/HB3gyAaPOQ84r424zMysDT5C1cysgpzczcwqyMndzKyCnNzNzCrIyd3MrIKc3M3MKsjJ3cysgpzczcwqyMndzKyCnNzNzCrIyd3MrIKc3M3MKsjJ3cysgpzczcwqyMndzKyCnNzNzCrIyd3MrIKc3M3MKsjJ3cysgpzczcwqyMndzKyCnNzNzCrIyd3MrIKc3M3MKsjJ3cysgpzczcwqyMndzKyCnNzNzCrIyd3MrIKc3M3MKsjJ3cysgpzczcwqyMndzKyCnNzNzCrIyd3MrIKc3M3MKmjQ5C7pW5Iek3RXTdkukq6XdG++Hltz3zmSVktaJenobgVuZmaNNbPl/h3gmELZ2cANETELuCHfRtLewMnAPvkxF0sa3rFozcysKYMm94j4FfB4ofg44PK8fDlwfE35lRHxfETcD6wGDupQrGZm1qRWx9x3i4h1APl611w+GVhbU68vlw0gaa6kxZIWr1+/vsUwzMysnk7vUFWdsqhXMSIuiYjZETF7woQJHQ7DzGzb1mpyf1TSJIB8/Vgu7wOm1tSbAjzcenhmZtaKVpP7NcCpeflU4Oqa8pMlbS9pJjALuLW9EM3MrKztBqsg6QfA4cB4SX3AF4B5wHxJZwBrgBMBImKFpPnA3cALwJkR8WKXYjczswYGTe4R8f4Gdx3ZoP55wHntBGVmZu3xEapmZhXk5G5mVkFO7mZmFeTkbmZWQU7uZmYV5ORuZlZBTu5mZhXk5G5mVkFO7mZmFeTkbmZWQU7uZmYV5ORuZlZBTu5mZhXk5G5mVkFO7mZmFeTkbmZWQU7uZmYV5ORuZlZBTu5mZhXk5G5mVkFO7mZmFeTkbmZWQU7uZmYV5ORuZlZBTu5mZhXk5G5mVkFO7mZmFeTkbmZWQU7uZmYV5ORuZlZBTu5mZhXk5G5mVkFO7mZmFeTkbmZWQU7uZmYV5ORuZlZBXUvuko6RtErSaklnd+t5zMxsoK4kd0nDgYuAOcDewPsl7d2N5zIzs4G6teV+ELA6Iu6LiD8AVwLHdem5zMysQBHR+UalE4BjIuLD+fYHgbdGxCdq6swF5uabbwRW1WlqPPC7Jp+2F+r2Shy9ULdX4tja6vZKHL1Qt1fi6IW6jepPj4gJdWtHRMcvwInApTW3Pwj8UwvtLN6a6vZKHL1Qt1fi2Nrq9kocvVC3V+Lohbqt1O/WsEwfMLXm9hTg4S49l5mZFXQrud8GzJI0U9JrgJOBa7r0XGZmVrBdNxqNiBckfQL4OTAc+FZErGihqUu2srq9Ekcv1O2VOLa2ur0SRy/U7ZU4eqFu6fpd2aFqZmZDy0eomplVkJO7mVkFObmbmVVQV3aomnWKpLOA/xsRa7fAc42LiA3dfh7b8iS9Hvhz0hTtF4B7gR9ExJNDGFNX+1vPbLlLGiNpnqR7JG3Il5W5bOc69af1l0uaIekESW/qQBxdabfO83x8M/e9RpJqbh8h6dOS5pR8jtPbjFGS3irpfZL+PC9r8Ed21N8Bv5X0a0kfl1T/aLyScr8an5dnS7ovP8+Dkg4r1J0taaGk70maKul6SU9Kuk3S/oW6b+5EfIPEPqJO2fjC7Z0kfVHSihzrekm3SDqtQZvDJA3Ly6+RdICkXZqIZadcd8BnNN/fch/a3GekjLyB8E1gJPAWYAdSkl8k6fAOtD87v7b3SNqzQZ2m+1uu034eKnPEUzcvpGmTnwUm1pRNzGXXF+qeDdwP3AN8OF9fBqwAPlWnbQFvBd5H+vZ+K3mmUDvtDvJ69qxZ/lTh8mnSYcSfahDvUmBsXv4b4Gbg88D1wPklYljTSrz59lHAamABcGm+/CyXHVXn8W9u8/3/eIPyJaSNkKPye7E+x3EqMLrVGIDlNcsLgbfk5T0oHAkI3Eo6Cd77gbXACbn8SGBRoe6LeR39HbB3iXhG1CkbX7h9BOkAwfXAdcCMmvvuKNS9GjiNdADhp4D/AcwCLgf+oVD3eOBRYB3pHFC/BX6Zn+s9hboX1ywfCqzJ628tcGyrfajsZyQ/ZhgwLC+/BjgA2KXeew0Mz8s7Ajfm5WnAkjY+I4cBi4FfAE8APwH+H3AjMLWN/taRPNTyh7HTF2BVs/flF7kDMA54GpiQy0cBd7XRwZput4nXs6Zm+Wng/wD/E/hCvjzRv1znsXfVLC8GdsjL2wHLCnWXNbgsB55vJd58eyU1yaOmfCawsk5500mtzAeZgUlrBPBe4AfA+jZiuAfYLi/fUrhveeH2kprl4npaUrwNvAk4L8eyNH9YB6zLXL9Mwr4N2Ccvn0AaWji4QRxLi4/N18OAe+rEPDG/t08Bb8zl0xmYeO6oWV4IHJCXX1enbtN9qIXPSJkvpOXA9nl5LHB7vc9aC5+RJbySI2aShg8B/gy4ro3+1pE81Etj7g9K+gxweUQ8CiBpN9LWR3G89cWI2CTpD8AmYANARPy+zi++C4F3RsQDtYWSZgLXAnu12C6SvtHgtQio/Zm6D/A10ptzbkQ8K+nUiDi3weOfkvSmiLiLlPRG5ni2Y+BQ2m7A0aQPQjGGm1uMl/xcfXXqPkRKsEXLSOcQej9wjaTfkxLwlcV1D5xLWvcr8nNDOthtdIPYXhYRfyQd7XyNpB3aiOEi4FpJ84CfSboA+BFpa/zOQt3nJB0FjAFC0vER8eP8c/rFQt3I79vngM9JOoh0hPavJa2NiLcV6n8ZODoiViidcO96SR+MiFuKrx14TeSDASPih5JWAj9S+r+E4gErv5d0aET8RtJ7gMfz416qNywSEY8ASFoTEaty2YP9QzUNvDYi7sh171M61XetMn2o7GfkC8C+pCS4lLQlvErSdOAq4N9q6l4K3CbpFuBPgS/l1zqBvF76lfyMDI+I9Xl5DenLkIi4PvenWmX6W6k81EgvJfeTSFs4N+WkHqRv5muA/1yoe4ekK0gd4Qbgckk/A94B3F2oW6aDlWkX4HTSVufzde57f/9CRKwBTpB0HOnD+/U69Wt9FPi+pKXAY8BiSTcBbwb+oVD3J8BOEVHsIEi6sZV4s2+RPhBX8sqX61RSorqszuPLJLUyH+ST6pT1P+GmVmOIiH+StBz4GOmn8Xb5+sfA3xfa/SgpCb9E+iL9mKRvk86XNLdQt/hldCtwq6RPkxJLUZmE/UdJE/sTcf5COJLUB15fJ+ZLJb2RtOX6X+DlhHZRMQhJwyLipf56uWw4abij1p6SluXXOUPS2Ih4In8JFD9PTfehFj4jTX8hRcSFkn5B2pD7WkTck8vXM/A9KfMZWSzpMlKuOI40HIOkHUkbK7Ux1Pa3WaR1tQdp+KzY38rmobp69ghVSW8nnRd+eURcV7hvO9KZJwP4Ya53Cunb86KI+H1N3XNIXw71Otj8iDh/M+2+lfSGDmg31/8l8PmIeNUWcr7v/oiYWad8FPC3pFMg1/uw99cbThpS6k88fcDPI2Jjo8cMpmy8Sn+w8l5gMunD3AdcExEDOpikJRGxf51yAX8aETfVue844DPA14EvR8TrWntlrcdQU6dhf8v3v4G0v2YKabbFauCKKMy2kHRKRFxRIubFwLv7E1Uum0JO2BExuqb8naShqKWFNsYAn4iI82rKmp5lJOktpNf9XKF8BnBoRHyvpmx64eHrIuIPSjsL/zQiflRoYy9S4hu0D9U8ZtDPiKQlwIH5l8hB+Uu0/3OzNCJamgRR5jOitGP7I6Q/JFpKOs3Ki/kX5a4R8WDh8a8n7ffrn7Hz79SZsVMmv232tfRKcpd0a0QclJc/DJxJ2oo6Cvi3iJjXRttNJ6mS7e4CPBcRz7bTzpbSzXjLJrWax+1IGqbZ7Jddp2Mo099yonw38CvgWNLP6CdIyf7jEXFjGzE3nbBLtvsk8HvgP4ArgB/WDCFs9cp8IZVst63PiBpMb5T0SeBdtNiHJO0aEY+VCiaaHJzv9oVX77S6jVfvRCjucDimZnln0k+8ZaROvFsbMbyFtJPoe6Rv1+uBjTme/dtodyfgi6Qx5idJO89uAU5rUH92N+IoGfMYYB5pR9CGfFmZy3Ye6v6yhftb07MtSDsm/zdp6GMcaQt0OTAfmNRmzK8Fzge+C5xSuO/i4uujyVlGgzzngm70i0HafXxr6G85tvF5eTZwH+kX3YPAYW30oV3qXB4g7QweMBuo0aVn5rkDwySNlTSO9ItiPaSdCKSfMLVqx52/Qtpj/h7Sh/Sfayuq3Pz5i0hjqz8l7Yz854jYmbQv4OJiwGp+/vP3SW/80aSt1G+QdvwdIak4hk5+rqbjaJak10o6X9J3JZ1SuK/Y7nzSlsXhETEuIsaRZnZsBP61nbYl3SHp8/ln6hYhaUGhqEx/g1f2T21P3vEbaZy4OM78HdK46FrSF/Qm0hbbr0lzrYtxlVkX3yb98rwKOFnSVZK2z/cdXKgbEfFSRFwXEWcAu5P6zjGkvlgbwwENLgcC+xXabdQvnqDQL9pod5fNtZvb7kofknRMzfIYSZdJWibpCqV9gbXeFRH9/4z0j8BJEfEG0myZr9Zpvtk+9Dvg9sJlMnAHafZcc4b626/m2+oBUqe7P19PzOU7AXcW6tZOxyreV7zdaP782QycP9/0lLdc1tT8Z0pMS2sljhLr+CrS1sbxpB3VV/HKFLHitLump6a20Pb9pC/lNXkd/hWwewf60AENLgeSxoZb7W+fJP0yvIS0ZXl6Lp8A/KrEe3dnnZibXhd14vocaV71uDrruGE/IU+trbn9Imka4cI6l02t9otutdvlPlSbWy4l7eycntv/caFumemNZfrQX5N+Zf1J7est/VraXRndvpB+wswslPXxyvzo+6g5IImB88DLdMZFpJ+xJ5J+Wh2fyw+jzl9cDfJBrr3vZtI4IKRfGD8fpOOWiqPEuiyTHK4j7ezcraZsN9IX5S/abLv2A/R20hblI/lDP7eN19d0MinT33L5PqS55XsO8vilNct/X7hveZ36Ta8L0jDFsELZqaThvgcL5XuUWG93AbMa3Le21X7RrXa73IfKbDj+ZY77HaThtwtIs2/OBb7bah/KdaeQfrF8jbSVf1/p19LqShjKC68c5NB/6R8vnQj8SxudcV/Slv4CYE/SHPmN+cPztjpxNJWEc7u35rZ+wysHiUwAzqrTbqk4Sqy3MslhLGk+8D2kn8aP58d/ifpHAZZp+446jx9OGjL4dhuvr+lk0sW++UXS1NRi+RtIOzWL5U2vC9JQ3Tvr1D8GuLeNmE/o75N17jt+kH7xRH7vv1zsF222O1h/61YfanrDMZcdTjr4aglpXP1a0vTYAUcctxjPe0j75x4p/dhOBDAUl5z0jix+kKjZ2Vqn0zxe6DRj67S7VzPt5rKmk3Bu953NtFs2jhLrrFRyIE3B6j9Mep/c4Y9tt23SQUXd6BNNJ5Ne6JutrIvNtD2nzZhr3+u9c4Kr+17XeeyArdQW18WezX5GutiHmt5wLPv6SsRwFjWnLyAdqPWm0u10YwV1+0L6ObSKNHXtAeC4mvsGfKNvpp3T66zUe9ptt9h22XY7GUcb6+ILpC2GxaQZGjeQDg3/FfC5dtruVN1uxdDm83SkbzZ4TzrW9iDv9S8bvdfko4MLl2f6lwt1z2o23jJ1e6UPdTLmQrtPkg6Q+zXwcQrnGGq6nW6shG5fSD9/dsrLM3Kn/GS+XeZEQMVx8o60W2y7bLudjKPNdTGcNAb9FOlQc0hbEQN+npZpu1N1uxVDm8/TlT7UzX5R5r0mzdj4Hmk44rB8vS4vH9ZqvN1cb93qQ118PzoyjbWXTj9QxvCIeAYgIh5QOm3nD/PRc686/FvpUOl6RBp7b6ndkm2XareF+k0puS5eiIgXgWcl/UdEPJXj2STppXbaLhlH07rVbknd6kOl2y6hzHs9mzTz43PA30TEnZI2Rf2jf8vE28311rQeeT8i0qkgrgOuy0fC9s/K+wppX11TrWx1F9LPxv0KZdsB/0I66U5t+aOkObXTC5cZwMOttlum7RbaLVW/xHorsy5+C+yYl4fVlI+h/lBSmbabrtut19cLfbPb/bNEzKXe63xf/2yO/0WDLeUy8XZzvXXxM9Kt96PpaaybbWdLdPhOX3LHmtjgvkMKty8jT0OsU/eKVtst03YL7ZaqX2K9lVkX2zeoN56a+bcttt103W69vm5dutWHutwvSr3XhTrvonB++Fbi7eZ661Yf6uL70fQ01s1deubcMmZm1jm9dPoBMzPrECd3M7MKcnI3M6sgJ3erLEk35+sZxTNVduG5PirpQ3XKZ0i6q5vPbVbP1jrP3WxQ8crf6s0g/ZNN6T8TKfFcA07nazaUvOVulSXpmbw4D3i7pDsl/ZWk4ZL+MZ93f5mk/5rrHy7pJknzJf17Puf/X0i6VdLyzZ07XNLfSvrrvHygpKWSFpH+4clsi3Nyt23B2cCvI2K/iPg6cAbwZES8hfTvWx+R1P/fmPuSjsD8E9IfquwR6e/4LiWd26UZ3yad7fM/dfJFmJXh5G7boqOAD0m6k3R05jjSP9JD+iOVdRHxPOn/R/v/LHs5aXhns5T++3TneOVw/O92MnCzZnnM3bZFAv4yIn7+qsJ0bpDna4peqrn9Es19XkT613qzIeUtd9sWPE3+z8rs58DH8gmZkLSHpFGdeKKI2Ag8KenQXPQXnWjXrCxvudu2YBnwgqSlpD+wvpA0xHKHJJFOqXp8B5/vdOBbkp4lfZGYbXE+t4yZWQV5WMbMrII8LGNWgqTPkf4Qvda/RsR5QxGPWSMeljEzqyAPy5iZVZCTu5lZBTm5m5lVkJO7mVkF/X9z/nHNiJ8bDQAAAABJRU5ErkJggg==\n",
      "text/plain": [
       "<Figure size 432x288 with 1 Axes>"
      ]
     },
     "metadata": {
      "needs_background": "light"
     },
     "output_type": "display_data"
    }
   ],
   "source": [
    "top_k = 30\n",
    "movies = []\n",
    "rating = np.array(pd.DataFrame(most_popular['rating']))\n",
    "for i in range(len(movie_id)):\n",
    "    #print(np.array(movie_data.loc[movie_data['movie_id']== movie_id[i]]['movie_title']))\n",
    "    movies.append(np.array(movie_data.loc[movie_data['movie_id']== movie_id[i]]['movie_title'])[0])\n",
    "\n",
    "top_popular_movies = pd.DataFrame(most_popular.index)\n",
    "top_popular_movies['Movie_Name'] = movies\n",
    "top_popular_movies['rating'] = rating\n",
    "print(\"top movies are \\n\\n\",top_popular_movies.head(top_k))\n",
    "\n",
    "\n",
    "most_popular.head(top_k).plot(kind = \"bar\")\n"
   ]
  },
  {

